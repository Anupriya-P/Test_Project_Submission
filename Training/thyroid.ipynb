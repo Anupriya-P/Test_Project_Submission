{
  "cells": [
    {
      "cell_type": "code",
      "execution_count": 1,
      "metadata": {
        "id": "S_JBD0ju-Iao"
      },
      "outputs": [],
      "source": [
        "import pandas as pd\n",
        "import numpy as np\n",
        "import matplotlib.pyplot as plt\n",
        "import tensorflow\n",
        "from tensorflow.keras.models import Sequential\n",
        "from tensorflow.keras.layers import Layer,Dense,Dropout"
      ]
    },
    {
      "cell_type": "code",
      "execution_count": 2,
      "metadata": {
        "id": "G5wFzPUo-8V6"
      },
      "outputs": [],
      "source": [
        "data=pd.read_csv(\"/content/sample_data/thyroidDF.csv\")"
      ]
    },
    {
      "cell_type": "code",
      "execution_count": 3,
      "metadata": {
        "colab": {
          "base_uri": "https://localhost:8080/",
          "height": 300
        },
        "id": "AfYAEOAy_F-Z",
        "outputId": "4d812df8-ea86-4da5-98a5-0fbfbc91c708"
      },
      "outputs": [
        {
          "output_type": "execute_result",
          "data": {
            "text/plain": [
              "   age sex on_thyroxine query_on_thyroxine on_antithyroid_meds sick pregnant  \\\n",
              "0   29   F            f                  f                   f    f        f   \n",
              "1   29   F            f                  f                   f    f        f   \n",
              "2   41   F            f                  f                   f    f        f   \n",
              "3   36   F            f                  f                   f    f        f   \n",
              "4   32   F            f                  f                   f    f        f   \n",
              "\n",
              "  thyroid_surgery I131_treatment query_hypothyroid  ...    TT4 T4U_measured  \\\n",
              "0               f              f                 t  ...    NaN            f   \n",
              "1               f              f                 f  ...  128.0            f   \n",
              "2               f              f                 f  ...    NaN            f   \n",
              "3               f              f                 f  ...    NaN            f   \n",
              "4               f              f                 f  ...    NaN            f   \n",
              "\n",
              "  T4U FTI_measured FTI TBG_measured   TBG  referral_source target  patient_id  \n",
              "0 NaN            f NaN            f   NaN            other      -   840801013  \n",
              "1 NaN            f NaN            f   NaN            other      -   840801014  \n",
              "2 NaN            f NaN            t  11.0            other      -   840801042  \n",
              "3 NaN            f NaN            t  26.0            other      -   840803046  \n",
              "4 NaN            f NaN            t  36.0            other      S   840803047  \n",
              "\n",
              "[5 rows x 31 columns]"
            ],
            "text/html": [
              "\n",
              "  <div id=\"df-9822ab3f-fda0-47b7-9e65-73b0b5838942\">\n",
              "    <div class=\"colab-df-container\">\n",
              "      <div>\n",
              "<style scoped>\n",
              "    .dataframe tbody tr th:only-of-type {\n",
              "        vertical-align: middle;\n",
              "    }\n",
              "\n",
              "    .dataframe tbody tr th {\n",
              "        vertical-align: top;\n",
              "    }\n",
              "\n",
              "    .dataframe thead th {\n",
              "        text-align: right;\n",
              "    }\n",
              "</style>\n",
              "<table border=\"1\" class=\"dataframe\">\n",
              "  <thead>\n",
              "    <tr style=\"text-align: right;\">\n",
              "      <th></th>\n",
              "      <th>age</th>\n",
              "      <th>sex</th>\n",
              "      <th>on_thyroxine</th>\n",
              "      <th>query_on_thyroxine</th>\n",
              "      <th>on_antithyroid_meds</th>\n",
              "      <th>sick</th>\n",
              "      <th>pregnant</th>\n",
              "      <th>thyroid_surgery</th>\n",
              "      <th>I131_treatment</th>\n",
              "      <th>query_hypothyroid</th>\n",
              "      <th>...</th>\n",
              "      <th>TT4</th>\n",
              "      <th>T4U_measured</th>\n",
              "      <th>T4U</th>\n",
              "      <th>FTI_measured</th>\n",
              "      <th>FTI</th>\n",
              "      <th>TBG_measured</th>\n",
              "      <th>TBG</th>\n",
              "      <th>referral_source</th>\n",
              "      <th>target</th>\n",
              "      <th>patient_id</th>\n",
              "    </tr>\n",
              "  </thead>\n",
              "  <tbody>\n",
              "    <tr>\n",
              "      <th>0</th>\n",
              "      <td>29</td>\n",
              "      <td>F</td>\n",
              "      <td>f</td>\n",
              "      <td>f</td>\n",
              "      <td>f</td>\n",
              "      <td>f</td>\n",
              "      <td>f</td>\n",
              "      <td>f</td>\n",
              "      <td>f</td>\n",
              "      <td>t</td>\n",
              "      <td>...</td>\n",
              "      <td>NaN</td>\n",
              "      <td>f</td>\n",
              "      <td>NaN</td>\n",
              "      <td>f</td>\n",
              "      <td>NaN</td>\n",
              "      <td>f</td>\n",
              "      <td>NaN</td>\n",
              "      <td>other</td>\n",
              "      <td>-</td>\n",
              "      <td>840801013</td>\n",
              "    </tr>\n",
              "    <tr>\n",
              "      <th>1</th>\n",
              "      <td>29</td>\n",
              "      <td>F</td>\n",
              "      <td>f</td>\n",
              "      <td>f</td>\n",
              "      <td>f</td>\n",
              "      <td>f</td>\n",
              "      <td>f</td>\n",
              "      <td>f</td>\n",
              "      <td>f</td>\n",
              "      <td>f</td>\n",
              "      <td>...</td>\n",
              "      <td>128.0</td>\n",
              "      <td>f</td>\n",
              "      <td>NaN</td>\n",
              "      <td>f</td>\n",
              "      <td>NaN</td>\n",
              "      <td>f</td>\n",
              "      <td>NaN</td>\n",
              "      <td>other</td>\n",
              "      <td>-</td>\n",
              "      <td>840801014</td>\n",
              "    </tr>\n",
              "    <tr>\n",
              "      <th>2</th>\n",
              "      <td>41</td>\n",
              "      <td>F</td>\n",
              "      <td>f</td>\n",
              "      <td>f</td>\n",
              "      <td>f</td>\n",
              "      <td>f</td>\n",
              "      <td>f</td>\n",
              "      <td>f</td>\n",
              "      <td>f</td>\n",
              "      <td>f</td>\n",
              "      <td>...</td>\n",
              "      <td>NaN</td>\n",
              "      <td>f</td>\n",
              "      <td>NaN</td>\n",
              "      <td>f</td>\n",
              "      <td>NaN</td>\n",
              "      <td>t</td>\n",
              "      <td>11.0</td>\n",
              "      <td>other</td>\n",
              "      <td>-</td>\n",
              "      <td>840801042</td>\n",
              "    </tr>\n",
              "    <tr>\n",
              "      <th>3</th>\n",
              "      <td>36</td>\n",
              "      <td>F</td>\n",
              "      <td>f</td>\n",
              "      <td>f</td>\n",
              "      <td>f</td>\n",
              "      <td>f</td>\n",
              "      <td>f</td>\n",
              "      <td>f</td>\n",
              "      <td>f</td>\n",
              "      <td>f</td>\n",
              "      <td>...</td>\n",
              "      <td>NaN</td>\n",
              "      <td>f</td>\n",
              "      <td>NaN</td>\n",
              "      <td>f</td>\n",
              "      <td>NaN</td>\n",
              "      <td>t</td>\n",
              "      <td>26.0</td>\n",
              "      <td>other</td>\n",
              "      <td>-</td>\n",
              "      <td>840803046</td>\n",
              "    </tr>\n",
              "    <tr>\n",
              "      <th>4</th>\n",
              "      <td>32</td>\n",
              "      <td>F</td>\n",
              "      <td>f</td>\n",
              "      <td>f</td>\n",
              "      <td>f</td>\n",
              "      <td>f</td>\n",
              "      <td>f</td>\n",
              "      <td>f</td>\n",
              "      <td>f</td>\n",
              "      <td>f</td>\n",
              "      <td>...</td>\n",
              "      <td>NaN</td>\n",
              "      <td>f</td>\n",
              "      <td>NaN</td>\n",
              "      <td>f</td>\n",
              "      <td>NaN</td>\n",
              "      <td>t</td>\n",
              "      <td>36.0</td>\n",
              "      <td>other</td>\n",
              "      <td>S</td>\n",
              "      <td>840803047</td>\n",
              "    </tr>\n",
              "  </tbody>\n",
              "</table>\n",
              "<p>5 rows × 31 columns</p>\n",
              "</div>\n",
              "      <button class=\"colab-df-convert\" onclick=\"convertToInteractive('df-9822ab3f-fda0-47b7-9e65-73b0b5838942')\"\n",
              "              title=\"Convert this dataframe to an interactive table.\"\n",
              "              style=\"display:none;\">\n",
              "        \n",
              "  <svg xmlns=\"http://www.w3.org/2000/svg\" height=\"24px\"viewBox=\"0 0 24 24\"\n",
              "       width=\"24px\">\n",
              "    <path d=\"M0 0h24v24H0V0z\" fill=\"none\"/>\n",
              "    <path d=\"M18.56 5.44l.94 2.06.94-2.06 2.06-.94-2.06-.94-.94-2.06-.94 2.06-2.06.94zm-11 1L8.5 8.5l.94-2.06 2.06-.94-2.06-.94L8.5 2.5l-.94 2.06-2.06.94zm10 10l.94 2.06.94-2.06 2.06-.94-2.06-.94-.94-2.06-.94 2.06-2.06.94z\"/><path d=\"M17.41 7.96l-1.37-1.37c-.4-.4-.92-.59-1.43-.59-.52 0-1.04.2-1.43.59L10.3 9.45l-7.72 7.72c-.78.78-.78 2.05 0 2.83L4 21.41c.39.39.9.59 1.41.59.51 0 1.02-.2 1.41-.59l7.78-7.78 2.81-2.81c.8-.78.8-2.07 0-2.86zM5.41 20L4 18.59l7.72-7.72 1.47 1.35L5.41 20z\"/>\n",
              "  </svg>\n",
              "      </button>\n",
              "      \n",
              "  <style>\n",
              "    .colab-df-container {\n",
              "      display:flex;\n",
              "      flex-wrap:wrap;\n",
              "      gap: 12px;\n",
              "    }\n",
              "\n",
              "    .colab-df-convert {\n",
              "      background-color: #E8F0FE;\n",
              "      border: none;\n",
              "      border-radius: 50%;\n",
              "      cursor: pointer;\n",
              "      display: none;\n",
              "      fill: #1967D2;\n",
              "      height: 32px;\n",
              "      padding: 0 0 0 0;\n",
              "      width: 32px;\n",
              "    }\n",
              "\n",
              "    .colab-df-convert:hover {\n",
              "      background-color: #E2EBFA;\n",
              "      box-shadow: 0px 1px 2px rgba(60, 64, 67, 0.3), 0px 1px 3px 1px rgba(60, 64, 67, 0.15);\n",
              "      fill: #174EA6;\n",
              "    }\n",
              "\n",
              "    [theme=dark] .colab-df-convert {\n",
              "      background-color: #3B4455;\n",
              "      fill: #D2E3FC;\n",
              "    }\n",
              "\n",
              "    [theme=dark] .colab-df-convert:hover {\n",
              "      background-color: #434B5C;\n",
              "      box-shadow: 0px 1px 3px 1px rgba(0, 0, 0, 0.15);\n",
              "      filter: drop-shadow(0px 1px 2px rgba(0, 0, 0, 0.3));\n",
              "      fill: #FFFFFF;\n",
              "    }\n",
              "  </style>\n",
              "\n",
              "      <script>\n",
              "        const buttonEl =\n",
              "          document.querySelector('#df-9822ab3f-fda0-47b7-9e65-73b0b5838942 button.colab-df-convert');\n",
              "        buttonEl.style.display =\n",
              "          google.colab.kernel.accessAllowed ? 'block' : 'none';\n",
              "\n",
              "        async function convertToInteractive(key) {\n",
              "          const element = document.querySelector('#df-9822ab3f-fda0-47b7-9e65-73b0b5838942');\n",
              "          const dataTable =\n",
              "            await google.colab.kernel.invokeFunction('convertToInteractive',\n",
              "                                                     [key], {});\n",
              "          if (!dataTable) return;\n",
              "\n",
              "          const docLinkHtml = 'Like what you see? Visit the ' +\n",
              "            '<a target=\"_blank\" href=https://colab.research.google.com/notebooks/data_table.ipynb>data table notebook</a>'\n",
              "            + ' to learn more about interactive tables.';\n",
              "          element.innerHTML = '';\n",
              "          dataTable['output_type'] = 'display_data';\n",
              "          await google.colab.output.renderOutput(dataTable, element);\n",
              "          const docLink = document.createElement('div');\n",
              "          docLink.innerHTML = docLinkHtml;\n",
              "          element.appendChild(docLink);\n",
              "        }\n",
              "      </script>\n",
              "    </div>\n",
              "  </div>\n",
              "  "
            ]
          },
          "metadata": {},
          "execution_count": 3
        }
      ],
      "source": [
        "data.head()"
      ]
    },
    {
      "cell_type": "code",
      "execution_count": 4,
      "metadata": {
        "colab": {
          "base_uri": "https://localhost:8080/"
        },
        "id": "2N1VEKxt_J1i",
        "outputId": "08b9a194-eb96-4343-86ad-cbf27ee0b147"
      },
      "outputs": [
        {
          "output_type": "execute_result",
          "data": {
            "text/plain": [
              "(9172, 31)"
            ]
          },
          "metadata": {},
          "execution_count": 4
        }
      ],
      "source": [
        "data.shape"
      ]
    },
    {
      "cell_type": "code",
      "execution_count": 5,
      "metadata": {
        "colab": {
          "base_uri": "https://localhost:8080/"
        },
        "id": "d5aDgul2_Nyg",
        "outputId": "caf988a6-fe07-4572-b5f1-2541fd31f5ec"
      },
      "outputs": [
        {
          "output_type": "execute_result",
          "data": {
            "text/plain": [
              "age                       0\n",
              "sex                     307\n",
              "on_thyroxine              0\n",
              "query_on_thyroxine        0\n",
              "on_antithyroid_meds       0\n",
              "sick                      0\n",
              "pregnant                  0\n",
              "thyroid_surgery           0\n",
              "I131_treatment            0\n",
              "query_hypothyroid         0\n",
              "query_hyperthyroid        0\n",
              "lithium                   0\n",
              "goitre                    0\n",
              "tumor                     0\n",
              "hypopituitary             0\n",
              "psych                     0\n",
              "TSH_measured              0\n",
              "TSH                     842\n",
              "T3_measured               0\n",
              "T3                     2604\n",
              "TT4_measured              0\n",
              "TT4                     442\n",
              "T4U_measured              0\n",
              "T4U                     809\n",
              "FTI_measured              0\n",
              "FTI                     802\n",
              "TBG_measured              0\n",
              "TBG                    8823\n",
              "referral_source           0\n",
              "target                    0\n",
              "patient_id                0\n",
              "dtype: int64"
            ]
          },
          "metadata": {},
          "execution_count": 5
        }
      ],
      "source": [
        "data.isnull().sum()"
      ]
    },
    {
      "cell_type": "code",
      "execution_count": 6,
      "metadata": {
        "id": "w1APuGiX_ZM-"
      },
      "outputs": [],
      "source": [
        "data.drop(['TSH_measured','T3_measured','TT4_measured','T4U_measured','FTI_measured','TBG_measured','referral_source','patient_id'],axis=1,inplace=True)\n"
      ]
    },
    {
      "cell_type": "code",
      "execution_count": 7,
      "metadata": {
        "id": "GEddQyzn_nzG"
      },
      "outputs": [],
      "source": [
        "diagnoses={'A':'hyperthyroid conditions',\n",
        " 'B':'hyperthyroid conditions',\n",
        "'C':'hyperthyroid conditions',\n",
        "'D':'hyperthyroid conditions',\n",
        "'E':'hypothyroid conditions',\n",
        "'F':'hypothyroid conditions',\n",
        "'G':'hypothyroid conditions',\n",
        "'H':'hypothyroid conditions',\n",
        "'I':'binding protein',\n",
        "'J':'binding protein',\n",
        "'K':'general health',\n",
        "'L':'replacement therapy',\n",
        "'M':'replacement therapy',\n",
        "'N':'replacement therapy',\n",
        "'O':'antithyroid treatment',\n",
        "'P':'antithyroid treatment',\n",
        "'Q':'antithyroid treatment',\n",
        "'R':'miscellaneous',\n",
        "'S':'miscellaneous',\n",
        "'T':'miscellaneous',}\n",
        "data['target']=data['target'].map(diagnoses)\n"
      ]
    },
    {
      "cell_type": "code",
      "execution_count": 8,
      "metadata": {
        "id": "3lMs6r54_2ly"
      },
      "outputs": [],
      "source": [
        "data.dropna(subset=['target'],inplace=True)"
      ]
    },
    {
      "cell_type": "code",
      "execution_count": 9,
      "metadata": {
        "colab": {
          "base_uri": "https://localhost:8080/"
        },
        "id": "FuSPhvIRAAu5",
        "outputId": "9a7991b9-89a1-4614-8fe7-3eb222f71cfe"
      },
      "outputs": [
        {
          "output_type": "execute_result",
          "data": {
            "text/plain": [
              "hypothyroid conditions     593\n",
              "general health             436\n",
              "binding protein            376\n",
              "replacement therapy        336\n",
              "miscellaneous              281\n",
              "hyperthyroid conditions    182\n",
              "antithyroid treatment       33\n",
              "Name: target, dtype: int64"
            ]
          },
          "metadata": {},
          "execution_count": 9
        }
      ],
      "source": [
        "data['target'].value_counts()"
      ]
    },
    {
      "cell_type": "code",
      "execution_count": 10,
      "metadata": {
        "id": "Ry9dB16RAMAz"
      },
      "outputs": [],
      "source": [
        "data=data[data.age<=100]"
      ]
    },
    {
      "cell_type": "code",
      "execution_count": 11,
      "metadata": {
        "id": "tZb6IuOLAS6q"
      },
      "outputs": [],
      "source": [
        "x=data.iloc[:,0:-1]\n",
        "y=data.iloc[:,-1]"
      ]
    },
    {
      "cell_type": "code",
      "execution_count": 12,
      "metadata": {
        "colab": {
          "base_uri": "https://localhost:8080/",
          "height": 488
        },
        "id": "dhAEuEkWAeLi",
        "outputId": "0bab4d4b-0985-4a19-bc59-10d3f1c3d503"
      },
      "outputs": [
        {
          "output_type": "execute_result",
          "data": {
            "text/plain": [
              "      age sex on_thyroxine query_on_thyroxine on_antithyroid_meds sick  \\\n",
              "4      32   F            f                  f                   f    f   \n",
              "18     63   F            t                  f                   f    t   \n",
              "32     41   M            f                  f                   f    f   \n",
              "33     71   F            t                  f                   f    f   \n",
              "39     55   F            t                  f                   f    f   \n",
              "...   ...  ..          ...                ...                 ...  ...   \n",
              "9153   64   M            f                  f                   f    f   \n",
              "9157   60   M            f                  f                   t    f   \n",
              "9158   64   M            f                  f                   f    f   \n",
              "9162   36   F            f                  f                   f    f   \n",
              "9169   69   M            f                  f                   f    f   \n",
              "\n",
              "     pregnant thyroid_surgery I131_treatment query_hypothyroid  ... goitre  \\\n",
              "4           f               f              f                 f  ...      f   \n",
              "18          f               f              f                 f  ...      f   \n",
              "32          f               f              f                 f  ...      f   \n",
              "33          f               f              f                 f  ...      f   \n",
              "39          f               f              f                 t  ...      f   \n",
              "...       ...             ...            ...               ...  ...    ...   \n",
              "9153        f               f              f                 f  ...      f   \n",
              "9157        f               f              f                 f  ...      f   \n",
              "9158        f               f              f                 t  ...      f   \n",
              "9162        f               f              f                 f  ...      f   \n",
              "9169        f               f              f                 f  ...      f   \n",
              "\n",
              "     tumor hypopituitary psych        TSH   T3    TT4   T4U   FTI   TBG  \n",
              "4        f             f     f        NaN  NaN    NaN   NaN   NaN  36.0  \n",
              "18       f             f     f  68.000000  NaN   48.0  1.02  47.0   NaN  \n",
              "32       f             f     f   0.050000  1.6   39.0  1.00  39.0   NaN  \n",
              "33       f             f     f   0.050000  NaN  126.0  1.38  91.0   NaN  \n",
              "39       f             f     f   9.599999  2.4  136.0  1.48  92.0   NaN  \n",
              "...    ...           ...   ...        ...  ...    ...   ...   ...   ...  \n",
              "9153     f             f     f   0.810000  NaN   31.0  0.55  56.0   NaN  \n",
              "9157     f             f     f   0.180000  NaN   28.0  0.87  32.0   NaN  \n",
              "9158     f             f     f        NaN  NaN   44.0  0.53  83.0   NaN  \n",
              "9162     f             f     f        NaN  NaN   84.0  1.26  67.0   NaN  \n",
              "9169     f             f     f        NaN  NaN  113.0  1.27  89.0   NaN  \n",
              "\n",
              "[2237 rows x 22 columns]"
            ],
            "text/html": [
              "\n",
              "  <div id=\"df-7acf0f62-a5b5-41ce-a9f3-984ae08a097e\">\n",
              "    <div class=\"colab-df-container\">\n",
              "      <div>\n",
              "<style scoped>\n",
              "    .dataframe tbody tr th:only-of-type {\n",
              "        vertical-align: middle;\n",
              "    }\n",
              "\n",
              "    .dataframe tbody tr th {\n",
              "        vertical-align: top;\n",
              "    }\n",
              "\n",
              "    .dataframe thead th {\n",
              "        text-align: right;\n",
              "    }\n",
              "</style>\n",
              "<table border=\"1\" class=\"dataframe\">\n",
              "  <thead>\n",
              "    <tr style=\"text-align: right;\">\n",
              "      <th></th>\n",
              "      <th>age</th>\n",
              "      <th>sex</th>\n",
              "      <th>on_thyroxine</th>\n",
              "      <th>query_on_thyroxine</th>\n",
              "      <th>on_antithyroid_meds</th>\n",
              "      <th>sick</th>\n",
              "      <th>pregnant</th>\n",
              "      <th>thyroid_surgery</th>\n",
              "      <th>I131_treatment</th>\n",
              "      <th>query_hypothyroid</th>\n",
              "      <th>...</th>\n",
              "      <th>goitre</th>\n",
              "      <th>tumor</th>\n",
              "      <th>hypopituitary</th>\n",
              "      <th>psych</th>\n",
              "      <th>TSH</th>\n",
              "      <th>T3</th>\n",
              "      <th>TT4</th>\n",
              "      <th>T4U</th>\n",
              "      <th>FTI</th>\n",
              "      <th>TBG</th>\n",
              "    </tr>\n",
              "  </thead>\n",
              "  <tbody>\n",
              "    <tr>\n",
              "      <th>4</th>\n",
              "      <td>32</td>\n",
              "      <td>F</td>\n",
              "      <td>f</td>\n",
              "      <td>f</td>\n",
              "      <td>f</td>\n",
              "      <td>f</td>\n",
              "      <td>f</td>\n",
              "      <td>f</td>\n",
              "      <td>f</td>\n",
              "      <td>f</td>\n",
              "      <td>...</td>\n",
              "      <td>f</td>\n",
              "      <td>f</td>\n",
              "      <td>f</td>\n",
              "      <td>f</td>\n",
              "      <td>NaN</td>\n",
              "      <td>NaN</td>\n",
              "      <td>NaN</td>\n",
              "      <td>NaN</td>\n",
              "      <td>NaN</td>\n",
              "      <td>36.0</td>\n",
              "    </tr>\n",
              "    <tr>\n",
              "      <th>18</th>\n",
              "      <td>63</td>\n",
              "      <td>F</td>\n",
              "      <td>t</td>\n",
              "      <td>f</td>\n",
              "      <td>f</td>\n",
              "      <td>t</td>\n",
              "      <td>f</td>\n",
              "      <td>f</td>\n",
              "      <td>f</td>\n",
              "      <td>f</td>\n",
              "      <td>...</td>\n",
              "      <td>f</td>\n",
              "      <td>f</td>\n",
              "      <td>f</td>\n",
              "      <td>f</td>\n",
              "      <td>68.000000</td>\n",
              "      <td>NaN</td>\n",
              "      <td>48.0</td>\n",
              "      <td>1.02</td>\n",
              "      <td>47.0</td>\n",
              "      <td>NaN</td>\n",
              "    </tr>\n",
              "    <tr>\n",
              "      <th>32</th>\n",
              "      <td>41</td>\n",
              "      <td>M</td>\n",
              "      <td>f</td>\n",
              "      <td>f</td>\n",
              "      <td>f</td>\n",
              "      <td>f</td>\n",
              "      <td>f</td>\n",
              "      <td>f</td>\n",
              "      <td>f</td>\n",
              "      <td>f</td>\n",
              "      <td>...</td>\n",
              "      <td>f</td>\n",
              "      <td>f</td>\n",
              "      <td>f</td>\n",
              "      <td>f</td>\n",
              "      <td>0.050000</td>\n",
              "      <td>1.6</td>\n",
              "      <td>39.0</td>\n",
              "      <td>1.00</td>\n",
              "      <td>39.0</td>\n",
              "      <td>NaN</td>\n",
              "    </tr>\n",
              "    <tr>\n",
              "      <th>33</th>\n",
              "      <td>71</td>\n",
              "      <td>F</td>\n",
              "      <td>t</td>\n",
              "      <td>f</td>\n",
              "      <td>f</td>\n",
              "      <td>f</td>\n",
              "      <td>f</td>\n",
              "      <td>f</td>\n",
              "      <td>f</td>\n",
              "      <td>f</td>\n",
              "      <td>...</td>\n",
              "      <td>f</td>\n",
              "      <td>f</td>\n",
              "      <td>f</td>\n",
              "      <td>f</td>\n",
              "      <td>0.050000</td>\n",
              "      <td>NaN</td>\n",
              "      <td>126.0</td>\n",
              "      <td>1.38</td>\n",
              "      <td>91.0</td>\n",
              "      <td>NaN</td>\n",
              "    </tr>\n",
              "    <tr>\n",
              "      <th>39</th>\n",
              "      <td>55</td>\n",
              "      <td>F</td>\n",
              "      <td>t</td>\n",
              "      <td>f</td>\n",
              "      <td>f</td>\n",
              "      <td>f</td>\n",
              "      <td>f</td>\n",
              "      <td>f</td>\n",
              "      <td>f</td>\n",
              "      <td>t</td>\n",
              "      <td>...</td>\n",
              "      <td>f</td>\n",
              "      <td>f</td>\n",
              "      <td>f</td>\n",
              "      <td>f</td>\n",
              "      <td>9.599999</td>\n",
              "      <td>2.4</td>\n",
              "      <td>136.0</td>\n",
              "      <td>1.48</td>\n",
              "      <td>92.0</td>\n",
              "      <td>NaN</td>\n",
              "    </tr>\n",
              "    <tr>\n",
              "      <th>...</th>\n",
              "      <td>...</td>\n",
              "      <td>...</td>\n",
              "      <td>...</td>\n",
              "      <td>...</td>\n",
              "      <td>...</td>\n",
              "      <td>...</td>\n",
              "      <td>...</td>\n",
              "      <td>...</td>\n",
              "      <td>...</td>\n",
              "      <td>...</td>\n",
              "      <td>...</td>\n",
              "      <td>...</td>\n",
              "      <td>...</td>\n",
              "      <td>...</td>\n",
              "      <td>...</td>\n",
              "      <td>...</td>\n",
              "      <td>...</td>\n",
              "      <td>...</td>\n",
              "      <td>...</td>\n",
              "      <td>...</td>\n",
              "      <td>...</td>\n",
              "    </tr>\n",
              "    <tr>\n",
              "      <th>9153</th>\n",
              "      <td>64</td>\n",
              "      <td>M</td>\n",
              "      <td>f</td>\n",
              "      <td>f</td>\n",
              "      <td>f</td>\n",
              "      <td>f</td>\n",
              "      <td>f</td>\n",
              "      <td>f</td>\n",
              "      <td>f</td>\n",
              "      <td>f</td>\n",
              "      <td>...</td>\n",
              "      <td>f</td>\n",
              "      <td>f</td>\n",
              "      <td>f</td>\n",
              "      <td>f</td>\n",
              "      <td>0.810000</td>\n",
              "      <td>NaN</td>\n",
              "      <td>31.0</td>\n",
              "      <td>0.55</td>\n",
              "      <td>56.0</td>\n",
              "      <td>NaN</td>\n",
              "    </tr>\n",
              "    <tr>\n",
              "      <th>9157</th>\n",
              "      <td>60</td>\n",
              "      <td>M</td>\n",
              "      <td>f</td>\n",
              "      <td>f</td>\n",
              "      <td>t</td>\n",
              "      <td>f</td>\n",
              "      <td>f</td>\n",
              "      <td>f</td>\n",
              "      <td>f</td>\n",
              "      <td>f</td>\n",
              "      <td>...</td>\n",
              "      <td>f</td>\n",
              "      <td>f</td>\n",
              "      <td>f</td>\n",
              "      <td>f</td>\n",
              "      <td>0.180000</td>\n",
              "      <td>NaN</td>\n",
              "      <td>28.0</td>\n",
              "      <td>0.87</td>\n",
              "      <td>32.0</td>\n",
              "      <td>NaN</td>\n",
              "    </tr>\n",
              "    <tr>\n",
              "      <th>9158</th>\n",
              "      <td>64</td>\n",
              "      <td>M</td>\n",
              "      <td>f</td>\n",
              "      <td>f</td>\n",
              "      <td>f</td>\n",
              "      <td>f</td>\n",
              "      <td>f</td>\n",
              "      <td>f</td>\n",
              "      <td>f</td>\n",
              "      <td>t</td>\n",
              "      <td>...</td>\n",
              "      <td>f</td>\n",
              "      <td>f</td>\n",
              "      <td>f</td>\n",
              "      <td>f</td>\n",
              "      <td>NaN</td>\n",
              "      <td>NaN</td>\n",
              "      <td>44.0</td>\n",
              "      <td>0.53</td>\n",
              "      <td>83.0</td>\n",
              "      <td>NaN</td>\n",
              "    </tr>\n",
              "    <tr>\n",
              "      <th>9162</th>\n",
              "      <td>36</td>\n",
              "      <td>F</td>\n",
              "      <td>f</td>\n",
              "      <td>f</td>\n",
              "      <td>f</td>\n",
              "      <td>f</td>\n",
              "      <td>f</td>\n",
              "      <td>f</td>\n",
              "      <td>f</td>\n",
              "      <td>f</td>\n",
              "      <td>...</td>\n",
              "      <td>f</td>\n",
              "      <td>f</td>\n",
              "      <td>f</td>\n",
              "      <td>f</td>\n",
              "      <td>NaN</td>\n",
              "      <td>NaN</td>\n",
              "      <td>84.0</td>\n",
              "      <td>1.26</td>\n",
              "      <td>67.0</td>\n",
              "      <td>NaN</td>\n",
              "    </tr>\n",
              "    <tr>\n",
              "      <th>9169</th>\n",
              "      <td>69</td>\n",
              "      <td>M</td>\n",
              "      <td>f</td>\n",
              "      <td>f</td>\n",
              "      <td>f</td>\n",
              "      <td>f</td>\n",
              "      <td>f</td>\n",
              "      <td>f</td>\n",
              "      <td>f</td>\n",
              "      <td>f</td>\n",
              "      <td>...</td>\n",
              "      <td>f</td>\n",
              "      <td>f</td>\n",
              "      <td>f</td>\n",
              "      <td>f</td>\n",
              "      <td>NaN</td>\n",
              "      <td>NaN</td>\n",
              "      <td>113.0</td>\n",
              "      <td>1.27</td>\n",
              "      <td>89.0</td>\n",
              "      <td>NaN</td>\n",
              "    </tr>\n",
              "  </tbody>\n",
              "</table>\n",
              "<p>2237 rows × 22 columns</p>\n",
              "</div>\n",
              "      <button class=\"colab-df-convert\" onclick=\"convertToInteractive('df-7acf0f62-a5b5-41ce-a9f3-984ae08a097e')\"\n",
              "              title=\"Convert this dataframe to an interactive table.\"\n",
              "              style=\"display:none;\">\n",
              "        \n",
              "  <svg xmlns=\"http://www.w3.org/2000/svg\" height=\"24px\"viewBox=\"0 0 24 24\"\n",
              "       width=\"24px\">\n",
              "    <path d=\"M0 0h24v24H0V0z\" fill=\"none\"/>\n",
              "    <path d=\"M18.56 5.44l.94 2.06.94-2.06 2.06-.94-2.06-.94-.94-2.06-.94 2.06-2.06.94zm-11 1L8.5 8.5l.94-2.06 2.06-.94-2.06-.94L8.5 2.5l-.94 2.06-2.06.94zm10 10l.94 2.06.94-2.06 2.06-.94-2.06-.94-.94-2.06-.94 2.06-2.06.94z\"/><path d=\"M17.41 7.96l-1.37-1.37c-.4-.4-.92-.59-1.43-.59-.52 0-1.04.2-1.43.59L10.3 9.45l-7.72 7.72c-.78.78-.78 2.05 0 2.83L4 21.41c.39.39.9.59 1.41.59.51 0 1.02-.2 1.41-.59l7.78-7.78 2.81-2.81c.8-.78.8-2.07 0-2.86zM5.41 20L4 18.59l7.72-7.72 1.47 1.35L5.41 20z\"/>\n",
              "  </svg>\n",
              "      </button>\n",
              "      \n",
              "  <style>\n",
              "    .colab-df-container {\n",
              "      display:flex;\n",
              "      flex-wrap:wrap;\n",
              "      gap: 12px;\n",
              "    }\n",
              "\n",
              "    .colab-df-convert {\n",
              "      background-color: #E8F0FE;\n",
              "      border: none;\n",
              "      border-radius: 50%;\n",
              "      cursor: pointer;\n",
              "      display: none;\n",
              "      fill: #1967D2;\n",
              "      height: 32px;\n",
              "      padding: 0 0 0 0;\n",
              "      width: 32px;\n",
              "    }\n",
              "\n",
              "    .colab-df-convert:hover {\n",
              "      background-color: #E2EBFA;\n",
              "      box-shadow: 0px 1px 2px rgba(60, 64, 67, 0.3), 0px 1px 3px 1px rgba(60, 64, 67, 0.15);\n",
              "      fill: #174EA6;\n",
              "    }\n",
              "\n",
              "    [theme=dark] .colab-df-convert {\n",
              "      background-color: #3B4455;\n",
              "      fill: #D2E3FC;\n",
              "    }\n",
              "\n",
              "    [theme=dark] .colab-df-convert:hover {\n",
              "      background-color: #434B5C;\n",
              "      box-shadow: 0px 1px 3px 1px rgba(0, 0, 0, 0.15);\n",
              "      filter: drop-shadow(0px 1px 2px rgba(0, 0, 0, 0.3));\n",
              "      fill: #FFFFFF;\n",
              "    }\n",
              "  </style>\n",
              "\n",
              "      <script>\n",
              "        const buttonEl =\n",
              "          document.querySelector('#df-7acf0f62-a5b5-41ce-a9f3-984ae08a097e button.colab-df-convert');\n",
              "        buttonEl.style.display =\n",
              "          google.colab.kernel.accessAllowed ? 'block' : 'none';\n",
              "\n",
              "        async function convertToInteractive(key) {\n",
              "          const element = document.querySelector('#df-7acf0f62-a5b5-41ce-a9f3-984ae08a097e');\n",
              "          const dataTable =\n",
              "            await google.colab.kernel.invokeFunction('convertToInteractive',\n",
              "                                                     [key], {});\n",
              "          if (!dataTable) return;\n",
              "\n",
              "          const docLinkHtml = 'Like what you see? Visit the ' +\n",
              "            '<a target=\"_blank\" href=https://colab.research.google.com/notebooks/data_table.ipynb>data table notebook</a>'\n",
              "            + ' to learn more about interactive tables.';\n",
              "          element.innerHTML = '';\n",
              "          dataTable['output_type'] = 'display_data';\n",
              "          await google.colab.output.renderOutput(dataTable, element);\n",
              "          const docLink = document.createElement('div');\n",
              "          docLink.innerHTML = docLinkHtml;\n",
              "          element.appendChild(docLink);\n",
              "        }\n",
              "      </script>\n",
              "    </div>\n",
              "  </div>\n",
              "  "
            ]
          },
          "metadata": {},
          "execution_count": 12
        }
      ],
      "source": [
        "x"
      ]
    },
    {
      "cell_type": "code",
      "execution_count": 13,
      "metadata": {
        "id": "eIeYCHZQAuGA"
      },
      "outputs": [],
      "source": [
        "x['sex'].replace(np.nan,'F',inplace=True)"
      ]
    },
    {
      "cell_type": "code",
      "execution_count": 14,
      "metadata": {
        "id": "pKVieFcEMtos"
      },
      "outputs": [],
      "source": [
        "x.fillna(0,inplace=True)"
      ]
    },
    {
      "cell_type": "code",
      "execution_count": 15,
      "metadata": {
        "colab": {
          "base_uri": "https://localhost:8080/"
        },
        "id": "Br766sPMA49s",
        "outputId": "ed59962b-fae5-4dd4-d5ea-724cae37fbfe"
      },
      "outputs": [
        {
          "output_type": "execute_result",
          "data": {
            "text/plain": [
              "F    1701\n",
              "M     536\n",
              "Name: sex, dtype: int64"
            ]
          },
          "metadata": {},
          "execution_count": 15
        }
      ],
      "source": [
        "x['sex'].value_counts()"
      ]
    },
    {
      "cell_type": "code",
      "execution_count": 16,
      "metadata": {
        "id": "oq4ZZiZ1A97U"
      },
      "outputs": [],
      "source": [
        "x['age']=x['age'].astype('float')\n",
        "x['TSH']=x['TSH'].astype('float')\n",
        "x['T3']=x['T3'].astype('float')\n",
        "x['TT4']=x['TT4'].astype('float')\n",
        "x['T4U']=x['T4U'].astype('float')\n",
        "x['FTI']=x['FTI'].astype('float')\n",
        "x['TBG']=x['TBG'].astype('float')\n",
        "\n"
      ]
    },
    {
      "cell_type": "code",
      "execution_count": 17,
      "metadata": {
        "colab": {
          "base_uri": "https://localhost:8080/"
        },
        "id": "5cQPWgf0BOk6",
        "outputId": "60bef543-7b63-4da5-b80c-a7a6db11ba59"
      },
      "outputs": [
        {
          "output_type": "stream",
          "name": "stdout",
          "text": [
            "<class 'pandas.core.frame.DataFrame'>\n",
            "Int64Index: 2237 entries, 4 to 9169\n",
            "Data columns (total 22 columns):\n",
            " #   Column               Non-Null Count  Dtype  \n",
            "---  ------               --------------  -----  \n",
            " 0   age                  2237 non-null   float64\n",
            " 1   sex                  2237 non-null   object \n",
            " 2   on_thyroxine         2237 non-null   object \n",
            " 3   query_on_thyroxine   2237 non-null   object \n",
            " 4   on_antithyroid_meds  2237 non-null   object \n",
            " 5   sick                 2237 non-null   object \n",
            " 6   pregnant             2237 non-null   object \n",
            " 7   thyroid_surgery      2237 non-null   object \n",
            " 8   I131_treatment       2237 non-null   object \n",
            " 9   query_hypothyroid    2237 non-null   object \n",
            " 10  query_hyperthyroid   2237 non-null   object \n",
            " 11  lithium              2237 non-null   object \n",
            " 12  goitre               2237 non-null   object \n",
            " 13  tumor                2237 non-null   object \n",
            " 14  hypopituitary        2237 non-null   object \n",
            " 15  psych                2237 non-null   object \n",
            " 16  TSH                  2237 non-null   float64\n",
            " 17  T3                   2237 non-null   float64\n",
            " 18  TT4                  2237 non-null   float64\n",
            " 19  T4U                  2237 non-null   float64\n",
            " 20  FTI                  2237 non-null   float64\n",
            " 21  TBG                  2237 non-null   float64\n",
            "dtypes: float64(7), object(15)\n",
            "memory usage: 402.0+ KB\n"
          ]
        }
      ],
      "source": [
        "x.info()"
      ]
    },
    {
      "cell_type": "code",
      "execution_count": 18,
      "metadata": {
        "id": "4ZhqQ7r3Bkwe",
        "colab": {
          "base_uri": "https://localhost:8080/"
        },
        "outputId": "a3e4b06e-a98c-4959-8d61-49d58b59ea0b"
      },
      "outputs": [
        {
          "output_type": "stream",
          "name": "stderr",
          "text": [
            "<ipython-input-18-9e6cb4c2e35b>:3: DeprecationWarning: In a future version, `df.iloc[:, i] = newvals` will attempt to set the values inplace instead of always setting a new array. To retain the old behavior, use either `df[df.columns[i]] = newvals` or, if columns are non-unique, `df.isetitem(i, newvals)`\n",
            "  x.iloc[:, 1:16]=ordinal_encoder.fit_transform(x.iloc[:, 1:16])\n"
          ]
        }
      ],
      "source": [
        "from sklearn.preprocessing import OrdinalEncoder,LabelEncoder\n",
        "ordinal_encoder=OrdinalEncoder(dtype='int64')\n",
        "x.iloc[:, 1:16]=ordinal_encoder.fit_transform(x.iloc[:, 1:16])"
      ]
    },
    {
      "cell_type": "code",
      "execution_count": 19,
      "metadata": {
        "colab": {
          "base_uri": "https://localhost:8080/",
          "height": 488
        },
        "id": "nOKvafMABs7W",
        "outputId": "cb939665-a7fc-4684-cc8d-ec88f582335e"
      },
      "outputs": [
        {
          "output_type": "execute_result",
          "data": {
            "text/plain": [
              "       age  sex  on_thyroxine  query_on_thyroxine  on_antithyroid_meds  sick  \\\n",
              "4     32.0    0             0                   0                    0     0   \n",
              "18    63.0    0             1                   0                    0     1   \n",
              "32    41.0    1             0                   0                    0     0   \n",
              "33    71.0    0             1                   0                    0     0   \n",
              "39    55.0    0             1                   0                    0     0   \n",
              "...    ...  ...           ...                 ...                  ...   ...   \n",
              "9153  64.0    1             0                   0                    0     0   \n",
              "9157  60.0    1             0                   0                    1     0   \n",
              "9158  64.0    1             0                   0                    0     0   \n",
              "9162  36.0    0             0                   0                    0     0   \n",
              "9169  69.0    1             0                   0                    0     0   \n",
              "\n",
              "      pregnant  thyroid_surgery  I131_treatment  query_hypothyroid  ...  \\\n",
              "4            0                0               0                  0  ...   \n",
              "18           0                0               0                  0  ...   \n",
              "32           0                0               0                  0  ...   \n",
              "33           0                0               0                  0  ...   \n",
              "39           0                0               0                  1  ...   \n",
              "...        ...              ...             ...                ...  ...   \n",
              "9153         0                0               0                  0  ...   \n",
              "9157         0                0               0                  0  ...   \n",
              "9158         0                0               0                  1  ...   \n",
              "9162         0                0               0                  0  ...   \n",
              "9169         0                0               0                  0  ...   \n",
              "\n",
              "      goitre  tumor  hypopituitary  psych        TSH   T3    TT4   T4U   FTI  \\\n",
              "4          0      0              0      0   0.000000  0.0    0.0  0.00   0.0   \n",
              "18         0      0              0      0  68.000000  0.0   48.0  1.02  47.0   \n",
              "32         0      0              0      0   0.050000  1.6   39.0  1.00  39.0   \n",
              "33         0      0              0      0   0.050000  0.0  126.0  1.38  91.0   \n",
              "39         0      0              0      0   9.599999  2.4  136.0  1.48  92.0   \n",
              "...      ...    ...            ...    ...        ...  ...    ...   ...   ...   \n",
              "9153       0      0              0      0   0.810000  0.0   31.0  0.55  56.0   \n",
              "9157       0      0              0      0   0.180000  0.0   28.0  0.87  32.0   \n",
              "9158       0      0              0      0   0.000000  0.0   44.0  0.53  83.0   \n",
              "9162       0      0              0      0   0.000000  0.0   84.0  1.26  67.0   \n",
              "9169       0      0              0      0   0.000000  0.0  113.0  1.27  89.0   \n",
              "\n",
              "       TBG  \n",
              "4     36.0  \n",
              "18     0.0  \n",
              "32     0.0  \n",
              "33     0.0  \n",
              "39     0.0  \n",
              "...    ...  \n",
              "9153   0.0  \n",
              "9157   0.0  \n",
              "9158   0.0  \n",
              "9162   0.0  \n",
              "9169   0.0  \n",
              "\n",
              "[2237 rows x 22 columns]"
            ],
            "text/html": [
              "\n",
              "  <div id=\"df-2c3de49b-79fb-429b-a572-adc40a9545c3\">\n",
              "    <div class=\"colab-df-container\">\n",
              "      <div>\n",
              "<style scoped>\n",
              "    .dataframe tbody tr th:only-of-type {\n",
              "        vertical-align: middle;\n",
              "    }\n",
              "\n",
              "    .dataframe tbody tr th {\n",
              "        vertical-align: top;\n",
              "    }\n",
              "\n",
              "    .dataframe thead th {\n",
              "        text-align: right;\n",
              "    }\n",
              "</style>\n",
              "<table border=\"1\" class=\"dataframe\">\n",
              "  <thead>\n",
              "    <tr style=\"text-align: right;\">\n",
              "      <th></th>\n",
              "      <th>age</th>\n",
              "      <th>sex</th>\n",
              "      <th>on_thyroxine</th>\n",
              "      <th>query_on_thyroxine</th>\n",
              "      <th>on_antithyroid_meds</th>\n",
              "      <th>sick</th>\n",
              "      <th>pregnant</th>\n",
              "      <th>thyroid_surgery</th>\n",
              "      <th>I131_treatment</th>\n",
              "      <th>query_hypothyroid</th>\n",
              "      <th>...</th>\n",
              "      <th>goitre</th>\n",
              "      <th>tumor</th>\n",
              "      <th>hypopituitary</th>\n",
              "      <th>psych</th>\n",
              "      <th>TSH</th>\n",
              "      <th>T3</th>\n",
              "      <th>TT4</th>\n",
              "      <th>T4U</th>\n",
              "      <th>FTI</th>\n",
              "      <th>TBG</th>\n",
              "    </tr>\n",
              "  </thead>\n",
              "  <tbody>\n",
              "    <tr>\n",
              "      <th>4</th>\n",
              "      <td>32.0</td>\n",
              "      <td>0</td>\n",
              "      <td>0</td>\n",
              "      <td>0</td>\n",
              "      <td>0</td>\n",
              "      <td>0</td>\n",
              "      <td>0</td>\n",
              "      <td>0</td>\n",
              "      <td>0</td>\n",
              "      <td>0</td>\n",
              "      <td>...</td>\n",
              "      <td>0</td>\n",
              "      <td>0</td>\n",
              "      <td>0</td>\n",
              "      <td>0</td>\n",
              "      <td>0.000000</td>\n",
              "      <td>0.0</td>\n",
              "      <td>0.0</td>\n",
              "      <td>0.00</td>\n",
              "      <td>0.0</td>\n",
              "      <td>36.0</td>\n",
              "    </tr>\n",
              "    <tr>\n",
              "      <th>18</th>\n",
              "      <td>63.0</td>\n",
              "      <td>0</td>\n",
              "      <td>1</td>\n",
              "      <td>0</td>\n",
              "      <td>0</td>\n",
              "      <td>1</td>\n",
              "      <td>0</td>\n",
              "      <td>0</td>\n",
              "      <td>0</td>\n",
              "      <td>0</td>\n",
              "      <td>...</td>\n",
              "      <td>0</td>\n",
              "      <td>0</td>\n",
              "      <td>0</td>\n",
              "      <td>0</td>\n",
              "      <td>68.000000</td>\n",
              "      <td>0.0</td>\n",
              "      <td>48.0</td>\n",
              "      <td>1.02</td>\n",
              "      <td>47.0</td>\n",
              "      <td>0.0</td>\n",
              "    </tr>\n",
              "    <tr>\n",
              "      <th>32</th>\n",
              "      <td>41.0</td>\n",
              "      <td>1</td>\n",
              "      <td>0</td>\n",
              "      <td>0</td>\n",
              "      <td>0</td>\n",
              "      <td>0</td>\n",
              "      <td>0</td>\n",
              "      <td>0</td>\n",
              "      <td>0</td>\n",
              "      <td>0</td>\n",
              "      <td>...</td>\n",
              "      <td>0</td>\n",
              "      <td>0</td>\n",
              "      <td>0</td>\n",
              "      <td>0</td>\n",
              "      <td>0.050000</td>\n",
              "      <td>1.6</td>\n",
              "      <td>39.0</td>\n",
              "      <td>1.00</td>\n",
              "      <td>39.0</td>\n",
              "      <td>0.0</td>\n",
              "    </tr>\n",
              "    <tr>\n",
              "      <th>33</th>\n",
              "      <td>71.0</td>\n",
              "      <td>0</td>\n",
              "      <td>1</td>\n",
              "      <td>0</td>\n",
              "      <td>0</td>\n",
              "      <td>0</td>\n",
              "      <td>0</td>\n",
              "      <td>0</td>\n",
              "      <td>0</td>\n",
              "      <td>0</td>\n",
              "      <td>...</td>\n",
              "      <td>0</td>\n",
              "      <td>0</td>\n",
              "      <td>0</td>\n",
              "      <td>0</td>\n",
              "      <td>0.050000</td>\n",
              "      <td>0.0</td>\n",
              "      <td>126.0</td>\n",
              "      <td>1.38</td>\n",
              "      <td>91.0</td>\n",
              "      <td>0.0</td>\n",
              "    </tr>\n",
              "    <tr>\n",
              "      <th>39</th>\n",
              "      <td>55.0</td>\n",
              "      <td>0</td>\n",
              "      <td>1</td>\n",
              "      <td>0</td>\n",
              "      <td>0</td>\n",
              "      <td>0</td>\n",
              "      <td>0</td>\n",
              "      <td>0</td>\n",
              "      <td>0</td>\n",
              "      <td>1</td>\n",
              "      <td>...</td>\n",
              "      <td>0</td>\n",
              "      <td>0</td>\n",
              "      <td>0</td>\n",
              "      <td>0</td>\n",
              "      <td>9.599999</td>\n",
              "      <td>2.4</td>\n",
              "      <td>136.0</td>\n",
              "      <td>1.48</td>\n",
              "      <td>92.0</td>\n",
              "      <td>0.0</td>\n",
              "    </tr>\n",
              "    <tr>\n",
              "      <th>...</th>\n",
              "      <td>...</td>\n",
              "      <td>...</td>\n",
              "      <td>...</td>\n",
              "      <td>...</td>\n",
              "      <td>...</td>\n",
              "      <td>...</td>\n",
              "      <td>...</td>\n",
              "      <td>...</td>\n",
              "      <td>...</td>\n",
              "      <td>...</td>\n",
              "      <td>...</td>\n",
              "      <td>...</td>\n",
              "      <td>...</td>\n",
              "      <td>...</td>\n",
              "      <td>...</td>\n",
              "      <td>...</td>\n",
              "      <td>...</td>\n",
              "      <td>...</td>\n",
              "      <td>...</td>\n",
              "      <td>...</td>\n",
              "      <td>...</td>\n",
              "    </tr>\n",
              "    <tr>\n",
              "      <th>9153</th>\n",
              "      <td>64.0</td>\n",
              "      <td>1</td>\n",
              "      <td>0</td>\n",
              "      <td>0</td>\n",
              "      <td>0</td>\n",
              "      <td>0</td>\n",
              "      <td>0</td>\n",
              "      <td>0</td>\n",
              "      <td>0</td>\n",
              "      <td>0</td>\n",
              "      <td>...</td>\n",
              "      <td>0</td>\n",
              "      <td>0</td>\n",
              "      <td>0</td>\n",
              "      <td>0</td>\n",
              "      <td>0.810000</td>\n",
              "      <td>0.0</td>\n",
              "      <td>31.0</td>\n",
              "      <td>0.55</td>\n",
              "      <td>56.0</td>\n",
              "      <td>0.0</td>\n",
              "    </tr>\n",
              "    <tr>\n",
              "      <th>9157</th>\n",
              "      <td>60.0</td>\n",
              "      <td>1</td>\n",
              "      <td>0</td>\n",
              "      <td>0</td>\n",
              "      <td>1</td>\n",
              "      <td>0</td>\n",
              "      <td>0</td>\n",
              "      <td>0</td>\n",
              "      <td>0</td>\n",
              "      <td>0</td>\n",
              "      <td>...</td>\n",
              "      <td>0</td>\n",
              "      <td>0</td>\n",
              "      <td>0</td>\n",
              "      <td>0</td>\n",
              "      <td>0.180000</td>\n",
              "      <td>0.0</td>\n",
              "      <td>28.0</td>\n",
              "      <td>0.87</td>\n",
              "      <td>32.0</td>\n",
              "      <td>0.0</td>\n",
              "    </tr>\n",
              "    <tr>\n",
              "      <th>9158</th>\n",
              "      <td>64.0</td>\n",
              "      <td>1</td>\n",
              "      <td>0</td>\n",
              "      <td>0</td>\n",
              "      <td>0</td>\n",
              "      <td>0</td>\n",
              "      <td>0</td>\n",
              "      <td>0</td>\n",
              "      <td>0</td>\n",
              "      <td>1</td>\n",
              "      <td>...</td>\n",
              "      <td>0</td>\n",
              "      <td>0</td>\n",
              "      <td>0</td>\n",
              "      <td>0</td>\n",
              "      <td>0.000000</td>\n",
              "      <td>0.0</td>\n",
              "      <td>44.0</td>\n",
              "      <td>0.53</td>\n",
              "      <td>83.0</td>\n",
              "      <td>0.0</td>\n",
              "    </tr>\n",
              "    <tr>\n",
              "      <th>9162</th>\n",
              "      <td>36.0</td>\n",
              "      <td>0</td>\n",
              "      <td>0</td>\n",
              "      <td>0</td>\n",
              "      <td>0</td>\n",
              "      <td>0</td>\n",
              "      <td>0</td>\n",
              "      <td>0</td>\n",
              "      <td>0</td>\n",
              "      <td>0</td>\n",
              "      <td>...</td>\n",
              "      <td>0</td>\n",
              "      <td>0</td>\n",
              "      <td>0</td>\n",
              "      <td>0</td>\n",
              "      <td>0.000000</td>\n",
              "      <td>0.0</td>\n",
              "      <td>84.0</td>\n",
              "      <td>1.26</td>\n",
              "      <td>67.0</td>\n",
              "      <td>0.0</td>\n",
              "    </tr>\n",
              "    <tr>\n",
              "      <th>9169</th>\n",
              "      <td>69.0</td>\n",
              "      <td>1</td>\n",
              "      <td>0</td>\n",
              "      <td>0</td>\n",
              "      <td>0</td>\n",
              "      <td>0</td>\n",
              "      <td>0</td>\n",
              "      <td>0</td>\n",
              "      <td>0</td>\n",
              "      <td>0</td>\n",
              "      <td>...</td>\n",
              "      <td>0</td>\n",
              "      <td>0</td>\n",
              "      <td>0</td>\n",
              "      <td>0</td>\n",
              "      <td>0.000000</td>\n",
              "      <td>0.0</td>\n",
              "      <td>113.0</td>\n",
              "      <td>1.27</td>\n",
              "      <td>89.0</td>\n",
              "      <td>0.0</td>\n",
              "    </tr>\n",
              "  </tbody>\n",
              "</table>\n",
              "<p>2237 rows × 22 columns</p>\n",
              "</div>\n",
              "      <button class=\"colab-df-convert\" onclick=\"convertToInteractive('df-2c3de49b-79fb-429b-a572-adc40a9545c3')\"\n",
              "              title=\"Convert this dataframe to an interactive table.\"\n",
              "              style=\"display:none;\">\n",
              "        \n",
              "  <svg xmlns=\"http://www.w3.org/2000/svg\" height=\"24px\"viewBox=\"0 0 24 24\"\n",
              "       width=\"24px\">\n",
              "    <path d=\"M0 0h24v24H0V0z\" fill=\"none\"/>\n",
              "    <path d=\"M18.56 5.44l.94 2.06.94-2.06 2.06-.94-2.06-.94-.94-2.06-.94 2.06-2.06.94zm-11 1L8.5 8.5l.94-2.06 2.06-.94-2.06-.94L8.5 2.5l-.94 2.06-2.06.94zm10 10l.94 2.06.94-2.06 2.06-.94-2.06-.94-.94-2.06-.94 2.06-2.06.94z\"/><path d=\"M17.41 7.96l-1.37-1.37c-.4-.4-.92-.59-1.43-.59-.52 0-1.04.2-1.43.59L10.3 9.45l-7.72 7.72c-.78.78-.78 2.05 0 2.83L4 21.41c.39.39.9.59 1.41.59.51 0 1.02-.2 1.41-.59l7.78-7.78 2.81-2.81c.8-.78.8-2.07 0-2.86zM5.41 20L4 18.59l7.72-7.72 1.47 1.35L5.41 20z\"/>\n",
              "  </svg>\n",
              "      </button>\n",
              "      \n",
              "  <style>\n",
              "    .colab-df-container {\n",
              "      display:flex;\n",
              "      flex-wrap:wrap;\n",
              "      gap: 12px;\n",
              "    }\n",
              "\n",
              "    .colab-df-convert {\n",
              "      background-color: #E8F0FE;\n",
              "      border: none;\n",
              "      border-radius: 50%;\n",
              "      cursor: pointer;\n",
              "      display: none;\n",
              "      fill: #1967D2;\n",
              "      height: 32px;\n",
              "      padding: 0 0 0 0;\n",
              "      width: 32px;\n",
              "    }\n",
              "\n",
              "    .colab-df-convert:hover {\n",
              "      background-color: #E2EBFA;\n",
              "      box-shadow: 0px 1px 2px rgba(60, 64, 67, 0.3), 0px 1px 3px 1px rgba(60, 64, 67, 0.15);\n",
              "      fill: #174EA6;\n",
              "    }\n",
              "\n",
              "    [theme=dark] .colab-df-convert {\n",
              "      background-color: #3B4455;\n",
              "      fill: #D2E3FC;\n",
              "    }\n",
              "\n",
              "    [theme=dark] .colab-df-convert:hover {\n",
              "      background-color: #434B5C;\n",
              "      box-shadow: 0px 1px 3px 1px rgba(0, 0, 0, 0.15);\n",
              "      filter: drop-shadow(0px 1px 2px rgba(0, 0, 0, 0.3));\n",
              "      fill: #FFFFFF;\n",
              "    }\n",
              "  </style>\n",
              "\n",
              "      <script>\n",
              "        const buttonEl =\n",
              "          document.querySelector('#df-2c3de49b-79fb-429b-a572-adc40a9545c3 button.colab-df-convert');\n",
              "        buttonEl.style.display =\n",
              "          google.colab.kernel.accessAllowed ? 'block' : 'none';\n",
              "\n",
              "        async function convertToInteractive(key) {\n",
              "          const element = document.querySelector('#df-2c3de49b-79fb-429b-a572-adc40a9545c3');\n",
              "          const dataTable =\n",
              "            await google.colab.kernel.invokeFunction('convertToInteractive',\n",
              "                                                     [key], {});\n",
              "          if (!dataTable) return;\n",
              "\n",
              "          const docLinkHtml = 'Like what you see? Visit the ' +\n",
              "            '<a target=\"_blank\" href=https://colab.research.google.com/notebooks/data_table.ipynb>data table notebook</a>'\n",
              "            + ' to learn more about interactive tables.';\n",
              "          element.innerHTML = '';\n",
              "          dataTable['output_type'] = 'display_data';\n",
              "          await google.colab.output.renderOutput(dataTable, element);\n",
              "          const docLink = document.createElement('div');\n",
              "          docLink.innerHTML = docLinkHtml;\n",
              "          element.appendChild(docLink);\n",
              "        }\n",
              "      </script>\n",
              "    </div>\n",
              "  </div>\n",
              "  "
            ]
          },
          "metadata": {},
          "execution_count": 19
        }
      ],
      "source": [
        "x"
      ]
    },
    {
      "cell_type": "code",
      "execution_count": 20,
      "metadata": {
        "id": "dahKSQXfB125"
      },
      "outputs": [],
      "source": [
        "x.replace(np.nan,'0',inplace=True)"
      ]
    },
    {
      "cell_type": "code",
      "execution_count": 21,
      "metadata": {
        "colab": {
          "base_uri": "https://localhost:8080/",
          "height": 488
        },
        "id": "stR-Ogx-B9pG",
        "outputId": "6c89e52b-f27c-4731-81e0-62fa72ceda25"
      },
      "outputs": [
        {
          "output_type": "execute_result",
          "data": {
            "text/plain": [
              "       age  sex  on_thyroxine  query_on_thyroxine  on_antithyroid_meds  sick  \\\n",
              "4     32.0    0             0                   0                    0     0   \n",
              "18    63.0    0             1                   0                    0     1   \n",
              "32    41.0    1             0                   0                    0     0   \n",
              "33    71.0    0             1                   0                    0     0   \n",
              "39    55.0    0             1                   0                    0     0   \n",
              "...    ...  ...           ...                 ...                  ...   ...   \n",
              "9153  64.0    1             0                   0                    0     0   \n",
              "9157  60.0    1             0                   0                    1     0   \n",
              "9158  64.0    1             0                   0                    0     0   \n",
              "9162  36.0    0             0                   0                    0     0   \n",
              "9169  69.0    1             0                   0                    0     0   \n",
              "\n",
              "      pregnant  thyroid_surgery  I131_treatment  query_hypothyroid  ...  \\\n",
              "4            0                0               0                  0  ...   \n",
              "18           0                0               0                  0  ...   \n",
              "32           0                0               0                  0  ...   \n",
              "33           0                0               0                  0  ...   \n",
              "39           0                0               0                  1  ...   \n",
              "...        ...              ...             ...                ...  ...   \n",
              "9153         0                0               0                  0  ...   \n",
              "9157         0                0               0                  0  ...   \n",
              "9158         0                0               0                  1  ...   \n",
              "9162         0                0               0                  0  ...   \n",
              "9169         0                0               0                  0  ...   \n",
              "\n",
              "      goitre  tumor  hypopituitary  psych        TSH   T3    TT4   T4U   FTI  \\\n",
              "4          0      0              0      0   0.000000  0.0    0.0  0.00   0.0   \n",
              "18         0      0              0      0  68.000000  0.0   48.0  1.02  47.0   \n",
              "32         0      0              0      0   0.050000  1.6   39.0  1.00  39.0   \n",
              "33         0      0              0      0   0.050000  0.0  126.0  1.38  91.0   \n",
              "39         0      0              0      0   9.599999  2.4  136.0  1.48  92.0   \n",
              "...      ...    ...            ...    ...        ...  ...    ...   ...   ...   \n",
              "9153       0      0              0      0   0.810000  0.0   31.0  0.55  56.0   \n",
              "9157       0      0              0      0   0.180000  0.0   28.0  0.87  32.0   \n",
              "9158       0      0              0      0   0.000000  0.0   44.0  0.53  83.0   \n",
              "9162       0      0              0      0   0.000000  0.0   84.0  1.26  67.0   \n",
              "9169       0      0              0      0   0.000000  0.0  113.0  1.27  89.0   \n",
              "\n",
              "       TBG  \n",
              "4     36.0  \n",
              "18     0.0  \n",
              "32     0.0  \n",
              "33     0.0  \n",
              "39     0.0  \n",
              "...    ...  \n",
              "9153   0.0  \n",
              "9157   0.0  \n",
              "9158   0.0  \n",
              "9162   0.0  \n",
              "9169   0.0  \n",
              "\n",
              "[2237 rows x 22 columns]"
            ],
            "text/html": [
              "\n",
              "  <div id=\"df-74dae58e-024e-40f9-b567-e97287d629b7\">\n",
              "    <div class=\"colab-df-container\">\n",
              "      <div>\n",
              "<style scoped>\n",
              "    .dataframe tbody tr th:only-of-type {\n",
              "        vertical-align: middle;\n",
              "    }\n",
              "\n",
              "    .dataframe tbody tr th {\n",
              "        vertical-align: top;\n",
              "    }\n",
              "\n",
              "    .dataframe thead th {\n",
              "        text-align: right;\n",
              "    }\n",
              "</style>\n",
              "<table border=\"1\" class=\"dataframe\">\n",
              "  <thead>\n",
              "    <tr style=\"text-align: right;\">\n",
              "      <th></th>\n",
              "      <th>age</th>\n",
              "      <th>sex</th>\n",
              "      <th>on_thyroxine</th>\n",
              "      <th>query_on_thyroxine</th>\n",
              "      <th>on_antithyroid_meds</th>\n",
              "      <th>sick</th>\n",
              "      <th>pregnant</th>\n",
              "      <th>thyroid_surgery</th>\n",
              "      <th>I131_treatment</th>\n",
              "      <th>query_hypothyroid</th>\n",
              "      <th>...</th>\n",
              "      <th>goitre</th>\n",
              "      <th>tumor</th>\n",
              "      <th>hypopituitary</th>\n",
              "      <th>psych</th>\n",
              "      <th>TSH</th>\n",
              "      <th>T3</th>\n",
              "      <th>TT4</th>\n",
              "      <th>T4U</th>\n",
              "      <th>FTI</th>\n",
              "      <th>TBG</th>\n",
              "    </tr>\n",
              "  </thead>\n",
              "  <tbody>\n",
              "    <tr>\n",
              "      <th>4</th>\n",
              "      <td>32.0</td>\n",
              "      <td>0</td>\n",
              "      <td>0</td>\n",
              "      <td>0</td>\n",
              "      <td>0</td>\n",
              "      <td>0</td>\n",
              "      <td>0</td>\n",
              "      <td>0</td>\n",
              "      <td>0</td>\n",
              "      <td>0</td>\n",
              "      <td>...</td>\n",
              "      <td>0</td>\n",
              "      <td>0</td>\n",
              "      <td>0</td>\n",
              "      <td>0</td>\n",
              "      <td>0.000000</td>\n",
              "      <td>0.0</td>\n",
              "      <td>0.0</td>\n",
              "      <td>0.00</td>\n",
              "      <td>0.0</td>\n",
              "      <td>36.0</td>\n",
              "    </tr>\n",
              "    <tr>\n",
              "      <th>18</th>\n",
              "      <td>63.0</td>\n",
              "      <td>0</td>\n",
              "      <td>1</td>\n",
              "      <td>0</td>\n",
              "      <td>0</td>\n",
              "      <td>1</td>\n",
              "      <td>0</td>\n",
              "      <td>0</td>\n",
              "      <td>0</td>\n",
              "      <td>0</td>\n",
              "      <td>...</td>\n",
              "      <td>0</td>\n",
              "      <td>0</td>\n",
              "      <td>0</td>\n",
              "      <td>0</td>\n",
              "      <td>68.000000</td>\n",
              "      <td>0.0</td>\n",
              "      <td>48.0</td>\n",
              "      <td>1.02</td>\n",
              "      <td>47.0</td>\n",
              "      <td>0.0</td>\n",
              "    </tr>\n",
              "    <tr>\n",
              "      <th>32</th>\n",
              "      <td>41.0</td>\n",
              "      <td>1</td>\n",
              "      <td>0</td>\n",
              "      <td>0</td>\n",
              "      <td>0</td>\n",
              "      <td>0</td>\n",
              "      <td>0</td>\n",
              "      <td>0</td>\n",
              "      <td>0</td>\n",
              "      <td>0</td>\n",
              "      <td>...</td>\n",
              "      <td>0</td>\n",
              "      <td>0</td>\n",
              "      <td>0</td>\n",
              "      <td>0</td>\n",
              "      <td>0.050000</td>\n",
              "      <td>1.6</td>\n",
              "      <td>39.0</td>\n",
              "      <td>1.00</td>\n",
              "      <td>39.0</td>\n",
              "      <td>0.0</td>\n",
              "    </tr>\n",
              "    <tr>\n",
              "      <th>33</th>\n",
              "      <td>71.0</td>\n",
              "      <td>0</td>\n",
              "      <td>1</td>\n",
              "      <td>0</td>\n",
              "      <td>0</td>\n",
              "      <td>0</td>\n",
              "      <td>0</td>\n",
              "      <td>0</td>\n",
              "      <td>0</td>\n",
              "      <td>0</td>\n",
              "      <td>...</td>\n",
              "      <td>0</td>\n",
              "      <td>0</td>\n",
              "      <td>0</td>\n",
              "      <td>0</td>\n",
              "      <td>0.050000</td>\n",
              "      <td>0.0</td>\n",
              "      <td>126.0</td>\n",
              "      <td>1.38</td>\n",
              "      <td>91.0</td>\n",
              "      <td>0.0</td>\n",
              "    </tr>\n",
              "    <tr>\n",
              "      <th>39</th>\n",
              "      <td>55.0</td>\n",
              "      <td>0</td>\n",
              "      <td>1</td>\n",
              "      <td>0</td>\n",
              "      <td>0</td>\n",
              "      <td>0</td>\n",
              "      <td>0</td>\n",
              "      <td>0</td>\n",
              "      <td>0</td>\n",
              "      <td>1</td>\n",
              "      <td>...</td>\n",
              "      <td>0</td>\n",
              "      <td>0</td>\n",
              "      <td>0</td>\n",
              "      <td>0</td>\n",
              "      <td>9.599999</td>\n",
              "      <td>2.4</td>\n",
              "      <td>136.0</td>\n",
              "      <td>1.48</td>\n",
              "      <td>92.0</td>\n",
              "      <td>0.0</td>\n",
              "    </tr>\n",
              "    <tr>\n",
              "      <th>...</th>\n",
              "      <td>...</td>\n",
              "      <td>...</td>\n",
              "      <td>...</td>\n",
              "      <td>...</td>\n",
              "      <td>...</td>\n",
              "      <td>...</td>\n",
              "      <td>...</td>\n",
              "      <td>...</td>\n",
              "      <td>...</td>\n",
              "      <td>...</td>\n",
              "      <td>...</td>\n",
              "      <td>...</td>\n",
              "      <td>...</td>\n",
              "      <td>...</td>\n",
              "      <td>...</td>\n",
              "      <td>...</td>\n",
              "      <td>...</td>\n",
              "      <td>...</td>\n",
              "      <td>...</td>\n",
              "      <td>...</td>\n",
              "      <td>...</td>\n",
              "    </tr>\n",
              "    <tr>\n",
              "      <th>9153</th>\n",
              "      <td>64.0</td>\n",
              "      <td>1</td>\n",
              "      <td>0</td>\n",
              "      <td>0</td>\n",
              "      <td>0</td>\n",
              "      <td>0</td>\n",
              "      <td>0</td>\n",
              "      <td>0</td>\n",
              "      <td>0</td>\n",
              "      <td>0</td>\n",
              "      <td>...</td>\n",
              "      <td>0</td>\n",
              "      <td>0</td>\n",
              "      <td>0</td>\n",
              "      <td>0</td>\n",
              "      <td>0.810000</td>\n",
              "      <td>0.0</td>\n",
              "      <td>31.0</td>\n",
              "      <td>0.55</td>\n",
              "      <td>56.0</td>\n",
              "      <td>0.0</td>\n",
              "    </tr>\n",
              "    <tr>\n",
              "      <th>9157</th>\n",
              "      <td>60.0</td>\n",
              "      <td>1</td>\n",
              "      <td>0</td>\n",
              "      <td>0</td>\n",
              "      <td>1</td>\n",
              "      <td>0</td>\n",
              "      <td>0</td>\n",
              "      <td>0</td>\n",
              "      <td>0</td>\n",
              "      <td>0</td>\n",
              "      <td>...</td>\n",
              "      <td>0</td>\n",
              "      <td>0</td>\n",
              "      <td>0</td>\n",
              "      <td>0</td>\n",
              "      <td>0.180000</td>\n",
              "      <td>0.0</td>\n",
              "      <td>28.0</td>\n",
              "      <td>0.87</td>\n",
              "      <td>32.0</td>\n",
              "      <td>0.0</td>\n",
              "    </tr>\n",
              "    <tr>\n",
              "      <th>9158</th>\n",
              "      <td>64.0</td>\n",
              "      <td>1</td>\n",
              "      <td>0</td>\n",
              "      <td>0</td>\n",
              "      <td>0</td>\n",
              "      <td>0</td>\n",
              "      <td>0</td>\n",
              "      <td>0</td>\n",
              "      <td>0</td>\n",
              "      <td>1</td>\n",
              "      <td>...</td>\n",
              "      <td>0</td>\n",
              "      <td>0</td>\n",
              "      <td>0</td>\n",
              "      <td>0</td>\n",
              "      <td>0.000000</td>\n",
              "      <td>0.0</td>\n",
              "      <td>44.0</td>\n",
              "      <td>0.53</td>\n",
              "      <td>83.0</td>\n",
              "      <td>0.0</td>\n",
              "    </tr>\n",
              "    <tr>\n",
              "      <th>9162</th>\n",
              "      <td>36.0</td>\n",
              "      <td>0</td>\n",
              "      <td>0</td>\n",
              "      <td>0</td>\n",
              "      <td>0</td>\n",
              "      <td>0</td>\n",
              "      <td>0</td>\n",
              "      <td>0</td>\n",
              "      <td>0</td>\n",
              "      <td>0</td>\n",
              "      <td>...</td>\n",
              "      <td>0</td>\n",
              "      <td>0</td>\n",
              "      <td>0</td>\n",
              "      <td>0</td>\n",
              "      <td>0.000000</td>\n",
              "      <td>0.0</td>\n",
              "      <td>84.0</td>\n",
              "      <td>1.26</td>\n",
              "      <td>67.0</td>\n",
              "      <td>0.0</td>\n",
              "    </tr>\n",
              "    <tr>\n",
              "      <th>9169</th>\n",
              "      <td>69.0</td>\n",
              "      <td>1</td>\n",
              "      <td>0</td>\n",
              "      <td>0</td>\n",
              "      <td>0</td>\n",
              "      <td>0</td>\n",
              "      <td>0</td>\n",
              "      <td>0</td>\n",
              "      <td>0</td>\n",
              "      <td>0</td>\n",
              "      <td>...</td>\n",
              "      <td>0</td>\n",
              "      <td>0</td>\n",
              "      <td>0</td>\n",
              "      <td>0</td>\n",
              "      <td>0.000000</td>\n",
              "      <td>0.0</td>\n",
              "      <td>113.0</td>\n",
              "      <td>1.27</td>\n",
              "      <td>89.0</td>\n",
              "      <td>0.0</td>\n",
              "    </tr>\n",
              "  </tbody>\n",
              "</table>\n",
              "<p>2237 rows × 22 columns</p>\n",
              "</div>\n",
              "      <button class=\"colab-df-convert\" onclick=\"convertToInteractive('df-74dae58e-024e-40f9-b567-e97287d629b7')\"\n",
              "              title=\"Convert this dataframe to an interactive table.\"\n",
              "              style=\"display:none;\">\n",
              "        \n",
              "  <svg xmlns=\"http://www.w3.org/2000/svg\" height=\"24px\"viewBox=\"0 0 24 24\"\n",
              "       width=\"24px\">\n",
              "    <path d=\"M0 0h24v24H0V0z\" fill=\"none\"/>\n",
              "    <path d=\"M18.56 5.44l.94 2.06.94-2.06 2.06-.94-2.06-.94-.94-2.06-.94 2.06-2.06.94zm-11 1L8.5 8.5l.94-2.06 2.06-.94-2.06-.94L8.5 2.5l-.94 2.06-2.06.94zm10 10l.94 2.06.94-2.06 2.06-.94-2.06-.94-.94-2.06-.94 2.06-2.06.94z\"/><path d=\"M17.41 7.96l-1.37-1.37c-.4-.4-.92-.59-1.43-.59-.52 0-1.04.2-1.43.59L10.3 9.45l-7.72 7.72c-.78.78-.78 2.05 0 2.83L4 21.41c.39.39.9.59 1.41.59.51 0 1.02-.2 1.41-.59l7.78-7.78 2.81-2.81c.8-.78.8-2.07 0-2.86zM5.41 20L4 18.59l7.72-7.72 1.47 1.35L5.41 20z\"/>\n",
              "  </svg>\n",
              "      </button>\n",
              "      \n",
              "  <style>\n",
              "    .colab-df-container {\n",
              "      display:flex;\n",
              "      flex-wrap:wrap;\n",
              "      gap: 12px;\n",
              "    }\n",
              "\n",
              "    .colab-df-convert {\n",
              "      background-color: #E8F0FE;\n",
              "      border: none;\n",
              "      border-radius: 50%;\n",
              "      cursor: pointer;\n",
              "      display: none;\n",
              "      fill: #1967D2;\n",
              "      height: 32px;\n",
              "      padding: 0 0 0 0;\n",
              "      width: 32px;\n",
              "    }\n",
              "\n",
              "    .colab-df-convert:hover {\n",
              "      background-color: #E2EBFA;\n",
              "      box-shadow: 0px 1px 2px rgba(60, 64, 67, 0.3), 0px 1px 3px 1px rgba(60, 64, 67, 0.15);\n",
              "      fill: #174EA6;\n",
              "    }\n",
              "\n",
              "    [theme=dark] .colab-df-convert {\n",
              "      background-color: #3B4455;\n",
              "      fill: #D2E3FC;\n",
              "    }\n",
              "\n",
              "    [theme=dark] .colab-df-convert:hover {\n",
              "      background-color: #434B5C;\n",
              "      box-shadow: 0px 1px 3px 1px rgba(0, 0, 0, 0.15);\n",
              "      filter: drop-shadow(0px 1px 2px rgba(0, 0, 0, 0.3));\n",
              "      fill: #FFFFFF;\n",
              "    }\n",
              "  </style>\n",
              "\n",
              "      <script>\n",
              "        const buttonEl =\n",
              "          document.querySelector('#df-74dae58e-024e-40f9-b567-e97287d629b7 button.colab-df-convert');\n",
              "        buttonEl.style.display =\n",
              "          google.colab.kernel.accessAllowed ? 'block' : 'none';\n",
              "\n",
              "        async function convertToInteractive(key) {\n",
              "          const element = document.querySelector('#df-74dae58e-024e-40f9-b567-e97287d629b7');\n",
              "          const dataTable =\n",
              "            await google.colab.kernel.invokeFunction('convertToInteractive',\n",
              "                                                     [key], {});\n",
              "          if (!dataTable) return;\n",
              "\n",
              "          const docLinkHtml = 'Like what you see? Visit the ' +\n",
              "            '<a target=\"_blank\" href=https://colab.research.google.com/notebooks/data_table.ipynb>data table notebook</a>'\n",
              "            + ' to learn more about interactive tables.';\n",
              "          element.innerHTML = '';\n",
              "          dataTable['output_type'] = 'display_data';\n",
              "          await google.colab.output.renderOutput(dataTable, element);\n",
              "          const docLink = document.createElement('div');\n",
              "          docLink.innerHTML = docLinkHtml;\n",
              "          element.appendChild(docLink);\n",
              "        }\n",
              "      </script>\n",
              "    </div>\n",
              "  </div>\n",
              "  "
            ]
          },
          "metadata": {},
          "execution_count": 21
        }
      ],
      "source": [
        "x"
      ]
    },
    {
      "cell_type": "code",
      "execution_count": 22,
      "metadata": {
        "id": "XeU8JhoxCFYx"
      },
      "outputs": [],
      "source": [
        "\n",
        "label_encoder=LabelEncoder()\n",
        "y_dt=label_encoder.fit_transform(y)"
      ]
    },
    {
      "cell_type": "code",
      "execution_count": 23,
      "metadata": {
        "id": "t9sWPz5FCL2w"
      },
      "outputs": [],
      "source": [
        "y=pd.DataFrame(y_dt, columns=['target'])"
      ]
    },
    {
      "cell_type": "code",
      "execution_count": 24,
      "metadata": {
        "colab": {
          "base_uri": "https://localhost:8080/",
          "height": 424
        },
        "id": "MKu4PDyQCQwT",
        "outputId": "b6a9d310-4cd3-4896-ae3e-89dd56efa606"
      },
      "outputs": [
        {
          "output_type": "execute_result",
          "data": {
            "text/plain": [
              "      target\n",
              "0          5\n",
              "1          4\n",
              "2          5\n",
              "3          1\n",
              "4          6\n",
              "...      ...\n",
              "2232       2\n",
              "2233       2\n",
              "2234       1\n",
              "2235       1\n",
              "2236       1\n",
              "\n",
              "[2237 rows x 1 columns]"
            ],
            "text/html": [
              "\n",
              "  <div id=\"df-ca5bf27b-e953-4843-89ed-5a467c1b0944\">\n",
              "    <div class=\"colab-df-container\">\n",
              "      <div>\n",
              "<style scoped>\n",
              "    .dataframe tbody tr th:only-of-type {\n",
              "        vertical-align: middle;\n",
              "    }\n",
              "\n",
              "    .dataframe tbody tr th {\n",
              "        vertical-align: top;\n",
              "    }\n",
              "\n",
              "    .dataframe thead th {\n",
              "        text-align: right;\n",
              "    }\n",
              "</style>\n",
              "<table border=\"1\" class=\"dataframe\">\n",
              "  <thead>\n",
              "    <tr style=\"text-align: right;\">\n",
              "      <th></th>\n",
              "      <th>target</th>\n",
              "    </tr>\n",
              "  </thead>\n",
              "  <tbody>\n",
              "    <tr>\n",
              "      <th>0</th>\n",
              "      <td>5</td>\n",
              "    </tr>\n",
              "    <tr>\n",
              "      <th>1</th>\n",
              "      <td>4</td>\n",
              "    </tr>\n",
              "    <tr>\n",
              "      <th>2</th>\n",
              "      <td>5</td>\n",
              "    </tr>\n",
              "    <tr>\n",
              "      <th>3</th>\n",
              "      <td>1</td>\n",
              "    </tr>\n",
              "    <tr>\n",
              "      <th>4</th>\n",
              "      <td>6</td>\n",
              "    </tr>\n",
              "    <tr>\n",
              "      <th>...</th>\n",
              "      <td>...</td>\n",
              "    </tr>\n",
              "    <tr>\n",
              "      <th>2232</th>\n",
              "      <td>2</td>\n",
              "    </tr>\n",
              "    <tr>\n",
              "      <th>2233</th>\n",
              "      <td>2</td>\n",
              "    </tr>\n",
              "    <tr>\n",
              "      <th>2234</th>\n",
              "      <td>1</td>\n",
              "    </tr>\n",
              "    <tr>\n",
              "      <th>2235</th>\n",
              "      <td>1</td>\n",
              "    </tr>\n",
              "    <tr>\n",
              "      <th>2236</th>\n",
              "      <td>1</td>\n",
              "    </tr>\n",
              "  </tbody>\n",
              "</table>\n",
              "<p>2237 rows × 1 columns</p>\n",
              "</div>\n",
              "      <button class=\"colab-df-convert\" onclick=\"convertToInteractive('df-ca5bf27b-e953-4843-89ed-5a467c1b0944')\"\n",
              "              title=\"Convert this dataframe to an interactive table.\"\n",
              "              style=\"display:none;\">\n",
              "        \n",
              "  <svg xmlns=\"http://www.w3.org/2000/svg\" height=\"24px\"viewBox=\"0 0 24 24\"\n",
              "       width=\"24px\">\n",
              "    <path d=\"M0 0h24v24H0V0z\" fill=\"none\"/>\n",
              "    <path d=\"M18.56 5.44l.94 2.06.94-2.06 2.06-.94-2.06-.94-.94-2.06-.94 2.06-2.06.94zm-11 1L8.5 8.5l.94-2.06 2.06-.94-2.06-.94L8.5 2.5l-.94 2.06-2.06.94zm10 10l.94 2.06.94-2.06 2.06-.94-2.06-.94-.94-2.06-.94 2.06-2.06.94z\"/><path d=\"M17.41 7.96l-1.37-1.37c-.4-.4-.92-.59-1.43-.59-.52 0-1.04.2-1.43.59L10.3 9.45l-7.72 7.72c-.78.78-.78 2.05 0 2.83L4 21.41c.39.39.9.59 1.41.59.51 0 1.02-.2 1.41-.59l7.78-7.78 2.81-2.81c.8-.78.8-2.07 0-2.86zM5.41 20L4 18.59l7.72-7.72 1.47 1.35L5.41 20z\"/>\n",
              "  </svg>\n",
              "      </button>\n",
              "      \n",
              "  <style>\n",
              "    .colab-df-container {\n",
              "      display:flex;\n",
              "      flex-wrap:wrap;\n",
              "      gap: 12px;\n",
              "    }\n",
              "\n",
              "    .colab-df-convert {\n",
              "      background-color: #E8F0FE;\n",
              "      border: none;\n",
              "      border-radius: 50%;\n",
              "      cursor: pointer;\n",
              "      display: none;\n",
              "      fill: #1967D2;\n",
              "      height: 32px;\n",
              "      padding: 0 0 0 0;\n",
              "      width: 32px;\n",
              "    }\n",
              "\n",
              "    .colab-df-convert:hover {\n",
              "      background-color: #E2EBFA;\n",
              "      box-shadow: 0px 1px 2px rgba(60, 64, 67, 0.3), 0px 1px 3px 1px rgba(60, 64, 67, 0.15);\n",
              "      fill: #174EA6;\n",
              "    }\n",
              "\n",
              "    [theme=dark] .colab-df-convert {\n",
              "      background-color: #3B4455;\n",
              "      fill: #D2E3FC;\n",
              "    }\n",
              "\n",
              "    [theme=dark] .colab-df-convert:hover {\n",
              "      background-color: #434B5C;\n",
              "      box-shadow: 0px 1px 3px 1px rgba(0, 0, 0, 0.15);\n",
              "      filter: drop-shadow(0px 1px 2px rgba(0, 0, 0, 0.3));\n",
              "      fill: #FFFFFF;\n",
              "    }\n",
              "  </style>\n",
              "\n",
              "      <script>\n",
              "        const buttonEl =\n",
              "          document.querySelector('#df-ca5bf27b-e953-4843-89ed-5a467c1b0944 button.colab-df-convert');\n",
              "        buttonEl.style.display =\n",
              "          google.colab.kernel.accessAllowed ? 'block' : 'none';\n",
              "\n",
              "        async function convertToInteractive(key) {\n",
              "          const element = document.querySelector('#df-ca5bf27b-e953-4843-89ed-5a467c1b0944');\n",
              "          const dataTable =\n",
              "            await google.colab.kernel.invokeFunction('convertToInteractive',\n",
              "                                                     [key], {});\n",
              "          if (!dataTable) return;\n",
              "\n",
              "          const docLinkHtml = 'Like what you see? Visit the ' +\n",
              "            '<a target=\"_blank\" href=https://colab.research.google.com/notebooks/data_table.ipynb>data table notebook</a>'\n",
              "            + ' to learn more about interactive tables.';\n",
              "          element.innerHTML = '';\n",
              "          dataTable['output_type'] = 'display_data';\n",
              "          await google.colab.output.renderOutput(dataTable, element);\n",
              "          const docLink = document.createElement('div');\n",
              "          docLink.innerHTML = docLinkHtml;\n",
              "          element.appendChild(docLink);\n",
              "        }\n",
              "      </script>\n",
              "    </div>\n",
              "  </div>\n",
              "  "
            ]
          },
          "metadata": {},
          "execution_count": 24
        }
      ],
      "source": [
        "y"
      ]
    },
    {
      "cell_type": "code",
      "execution_count": 25,
      "metadata": {
        "id": "BiCQgFEPXV2Q"
      },
      "outputs": [],
      "source": [
        "x=x.astype('float')\n",
        "y=y.astype('float')"
      ]
    },
    {
      "cell_type": "code",
      "execution_count": 26,
      "metadata": {
        "id": "-jqDoTDRChIr"
      },
      "outputs": [],
      "source": [
        "from sklearn.model_selection import train_test_split\n",
        "x_train,x_test,y_train,y_test=train_test_split(x,y,test_size=0.20,random_state=0)"
      ]
    },
    {
      "cell_type": "code",
      "execution_count": 27,
      "metadata": {
        "id": "VPT1F9sjFmuG"
      },
      "outputs": [],
      "source": [
        "from imblearn.over_sampling import SMOTE"
      ]
    },
    {
      "cell_type": "code",
      "execution_count": 28,
      "metadata": {
        "colab": {
          "base_uri": "https://localhost:8080/"
        },
        "id": "-nNa2uXUFvkf",
        "outputId": "c2d872b9-f3cc-47b9-e125-3def2e567254"
      },
      "outputs": [
        {
          "output_type": "execute_result",
          "data": {
            "text/plain": [
              "target\n",
              "4.0       471\n",
              "2.0       351\n",
              "1.0       302\n",
              "6.0       265\n",
              "5.0       230\n",
              "3.0       144\n",
              "0.0        26\n",
              "dtype: int64"
            ]
          },
          "metadata": {},
          "execution_count": 28
        }
      ],
      "source": [
        "y_train.value_counts()"
      ]
    },
    {
      "cell_type": "code",
      "execution_count": 29,
      "metadata": {
        "id": "Wx1RCy1mMnKG"
      },
      "outputs": [],
      "source": [
        "os = SMOTE(random_state=0,k_neighbors=1)\n",
        "x_bal,y_bal=os.fit_resample(x_train,y_train)\n",
        "x_test_bal,y_test_bal=os.fit_resample(x_test,y_test)"
      ]
    },
    {
      "cell_type": "code",
      "execution_count": 30,
      "metadata": {
        "id": "5r8X55626MKx"
      },
      "outputs": [],
      "source": [
        "from sklearn.preprocessing import StandardScaler\n",
        "from sklearn.inspection import permutation_importance\n",
        "from sklearn.ensemble import RandomForestClassifier\n",
        "import matplotlib.pyplot as plt\n",
        "\n",
        "\n",
        "sc=StandardScaler()\n",
        "x_bal=sc.fit_transform(x_bal)\n",
        "x_test_bal=sc.transform(x_test_bal)"
      ]
    },
    {
      "cell_type": "code",
      "execution_count": 31,
      "metadata": {
        "colab": {
          "base_uri": "https://localhost:8080/"
        },
        "id": "zhTBrq3P8gGp",
        "outputId": "91a787ad-aad0-4d8c-bb08-078a71072b39"
      },
      "outputs": [
        {
          "output_type": "execute_result",
          "data": {
            "text/plain": [
              "array([[-1.62721505, -0.55176257, -0.44547421, ..., -2.50870684,\n",
              "        -1.40088079,  3.29445097],\n",
              "       [-0.11561403, -0.55176257,  2.30310072, ..., -0.26259147,\n",
              "         0.0720981 , -0.19494049],\n",
              "       [ 1.1874903 ,  2.0173423 , -0.44547421, ...,  0.17039463,\n",
              "        -0.19352104, -0.19494049],\n",
              "       ...,\n",
              "       [ 1.395987  , -0.55176257,  2.30310072, ...,  0.43615031,\n",
              "         0.06101022, -0.19494049],\n",
              "       [ 0.72802783,  1.54146103,  2.30310072, ...,  0.143333  ,\n",
              "         0.89086631, -0.19494049],\n",
              "       [ 1.15628145, -0.55176257,  2.30310072, ...,  0.39723515,\n",
              "        -0.26588659, -0.19494049]])"
            ]
          },
          "metadata": {},
          "execution_count": 31
        }
      ],
      "source": [
        "x_bal"
      ]
    },
    {
      "cell_type": "code",
      "execution_count": 32,
      "metadata": {
        "id": "MC5ptEgC8k7T"
      },
      "outputs": [],
      "source": [
        "columns=['age','sex','on_thyroxine','query_on_thyroxine','on_antithyroxine_meds','sick','pregnant','thyroid_surgery','I131_treatment','query_hypothyroid','query_hyperthyroid','lithium','goitre','tumor','hypopituitary','psych','TSH','T3','TT4','T4U','FTI','TBG']"
      ]
    },
    {
      "cell_type": "code",
      "execution_count": 33,
      "metadata": {
        "id": "6s6bxI4m9SxW"
      },
      "outputs": [],
      "source": [
        "x_test_bal=pd.DataFrame(x_test_bal,columns=columns)"
      ]
    },
    {
      "cell_type": "code",
      "execution_count": 35,
      "metadata": {
        "id": "pvEVmFOo9meL"
      },
      "outputs": [],
      "source": [
        "x_bal=pd.DataFrame(x_bal,columns=columns)"
      ]
    },
    {
      "cell_type": "code",
      "execution_count": 36,
      "metadata": {
        "colab": {
          "base_uri": "https://localhost:8080/",
          "height": 488
        },
        "id": "TF08r-nt94Dv",
        "outputId": "fb8917dc-e555-4ea7-9047-d9502b82279e"
      },
      "outputs": [
        {
          "output_type": "execute_result",
          "data": {
            "text/plain": [
              "           age       sex  on_thyroxine  query_on_thyroxine  \\\n",
              "0    -1.627215 -0.551763     -0.445474           -0.141477   \n",
              "1    -0.115614 -0.551763      2.303101           -0.141477   \n",
              "2     1.187490  2.017342     -0.445474           -0.141477   \n",
              "3    -1.366594 -0.551763     -0.445474           -0.141477   \n",
              "4    -0.167738 -0.551763     -0.445474           -0.141477   \n",
              "...        ...       ...           ...                 ...   \n",
              "3292  0.546923  1.104362      2.303101           -0.141477   \n",
              "3293  0.383062 -0.551763      2.303101           -0.141477   \n",
              "3294  1.395987 -0.551763      2.303101           -0.141477   \n",
              "3295  0.728028  1.541461      2.303101           -0.141477   \n",
              "3296  1.156281 -0.551763      2.303101           -0.141477   \n",
              "\n",
              "      on_antithyroxine_meds      sick  pregnant  thyroid_surgery  \\\n",
              "0                 -0.257609 -0.177156 -0.174273        -0.267762   \n",
              "1                 -0.257609 -0.177156 -0.174273        -0.267762   \n",
              "2                 -0.257609 -0.177156 -0.174273        -0.267762   \n",
              "3                 -0.257609 -0.177156 -0.174273        -0.267762   \n",
              "4                 -0.257609 -0.177156 -0.174273        -0.267762   \n",
              "...                     ...       ...       ...              ...   \n",
              "3292              -0.257609 -0.177156 -0.174273        -0.267762   \n",
              "3293              -0.257609 -0.177156 -0.174273        -0.267762   \n",
              "3294              -0.257609 -0.177156 -0.174273        -0.267762   \n",
              "3295              -0.257609 -0.177156 -0.174273        -0.267762   \n",
              "3296              -0.257609 -0.177156 -0.174273        -0.267762   \n",
              "\n",
              "      I131_treatment  query_hypothyroid  ...    goitre     tumor  \\\n",
              "0          -0.224295          -0.304166  ... -0.073367 -0.185723   \n",
              "1          -0.224295          -0.304166  ... -0.073367 -0.185723   \n",
              "2          -0.224295          -0.304166  ... -0.073367 -0.185723   \n",
              "3          -0.224295          -0.304166  ... -0.073367  6.169673   \n",
              "4          -0.224295          -0.304166  ... -0.073367 -0.185723   \n",
              "...              ...                ...  ...       ...       ...   \n",
              "3292       -0.224295          -0.304166  ... -0.073367 -0.185723   \n",
              "3293       -0.224295          -0.304166  ... -0.073367 -0.185723   \n",
              "3294       -0.224295          -0.304166  ... -0.073367 -0.185723   \n",
              "3295       -0.224295          -0.304166  ... -0.073367 -0.185723   \n",
              "3296       -0.224295           1.322228  ... -0.073367 -0.185723   \n",
              "\n",
              "      hypopituitary     psych       TSH        T3       TT4       T4U  \\\n",
              "0         -0.037741 -0.144603 -0.315458 -1.035358 -1.704935 -2.508707   \n",
              "1         -0.037741 -0.144603 -0.090056  0.155233 -0.197223 -0.262591   \n",
              "2         -0.037741 -0.144603 -0.278907 -0.471394 -0.227079  0.170395   \n",
              "3         -0.037741 -0.144603 -0.284999  0.969848  0.041622  0.495134   \n",
              "4         -0.037741 -0.144603 -0.306321  4.541622  1.459767 -0.127283   \n",
              "...             ...       ...       ...       ...       ...       ...   \n",
              "3292      -0.037741 -0.144603 -0.114424  0.343221 -0.148122 -0.146517   \n",
              "3293      -0.037741 -0.144603 -0.309176 -0.856540  0.565143 -0.513902   \n",
              "3294      -0.037741 -0.144603 -0.095452 -0.172405  0.248906  0.436150   \n",
              "3295      -0.037741 -0.144603 -0.311566  0.087864  1.071643  0.143333   \n",
              "3296      -0.037741 -0.144603 -0.072439  0.079407 -0.200359  0.397235   \n",
              "\n",
              "           FTI       TBG  \n",
              "0    -1.400881  3.294451  \n",
              "1     0.072098 -0.194940  \n",
              "2    -0.193521 -0.194940  \n",
              "3    -0.133153 -0.194940  \n",
              "4     1.496783 -0.194940  \n",
              "...        ...       ...  \n",
              "3292  0.040168 -0.194940  \n",
              "3293  1.085434 -0.194940  \n",
              "3294  0.061010 -0.194940  \n",
              "3295  0.890866 -0.194940  \n",
              "3296 -0.265887 -0.194940  \n",
              "\n",
              "[3297 rows x 22 columns]"
            ],
            "text/html": [
              "\n",
              "  <div id=\"df-5d1df15e-171f-4bf1-974e-b1b5d5daf496\">\n",
              "    <div class=\"colab-df-container\">\n",
              "      <div>\n",
              "<style scoped>\n",
              "    .dataframe tbody tr th:only-of-type {\n",
              "        vertical-align: middle;\n",
              "    }\n",
              "\n",
              "    .dataframe tbody tr th {\n",
              "        vertical-align: top;\n",
              "    }\n",
              "\n",
              "    .dataframe thead th {\n",
              "        text-align: right;\n",
              "    }\n",
              "</style>\n",
              "<table border=\"1\" class=\"dataframe\">\n",
              "  <thead>\n",
              "    <tr style=\"text-align: right;\">\n",
              "      <th></th>\n",
              "      <th>age</th>\n",
              "      <th>sex</th>\n",
              "      <th>on_thyroxine</th>\n",
              "      <th>query_on_thyroxine</th>\n",
              "      <th>on_antithyroxine_meds</th>\n",
              "      <th>sick</th>\n",
              "      <th>pregnant</th>\n",
              "      <th>thyroid_surgery</th>\n",
              "      <th>I131_treatment</th>\n",
              "      <th>query_hypothyroid</th>\n",
              "      <th>...</th>\n",
              "      <th>goitre</th>\n",
              "      <th>tumor</th>\n",
              "      <th>hypopituitary</th>\n",
              "      <th>psych</th>\n",
              "      <th>TSH</th>\n",
              "      <th>T3</th>\n",
              "      <th>TT4</th>\n",
              "      <th>T4U</th>\n",
              "      <th>FTI</th>\n",
              "      <th>TBG</th>\n",
              "    </tr>\n",
              "  </thead>\n",
              "  <tbody>\n",
              "    <tr>\n",
              "      <th>0</th>\n",
              "      <td>-1.627215</td>\n",
              "      <td>-0.551763</td>\n",
              "      <td>-0.445474</td>\n",
              "      <td>-0.141477</td>\n",
              "      <td>-0.257609</td>\n",
              "      <td>-0.177156</td>\n",
              "      <td>-0.174273</td>\n",
              "      <td>-0.267762</td>\n",
              "      <td>-0.224295</td>\n",
              "      <td>-0.304166</td>\n",
              "      <td>...</td>\n",
              "      <td>-0.073367</td>\n",
              "      <td>-0.185723</td>\n",
              "      <td>-0.037741</td>\n",
              "      <td>-0.144603</td>\n",
              "      <td>-0.315458</td>\n",
              "      <td>-1.035358</td>\n",
              "      <td>-1.704935</td>\n",
              "      <td>-2.508707</td>\n",
              "      <td>-1.400881</td>\n",
              "      <td>3.294451</td>\n",
              "    </tr>\n",
              "    <tr>\n",
              "      <th>1</th>\n",
              "      <td>-0.115614</td>\n",
              "      <td>-0.551763</td>\n",
              "      <td>2.303101</td>\n",
              "      <td>-0.141477</td>\n",
              "      <td>-0.257609</td>\n",
              "      <td>-0.177156</td>\n",
              "      <td>-0.174273</td>\n",
              "      <td>-0.267762</td>\n",
              "      <td>-0.224295</td>\n",
              "      <td>-0.304166</td>\n",
              "      <td>...</td>\n",
              "      <td>-0.073367</td>\n",
              "      <td>-0.185723</td>\n",
              "      <td>-0.037741</td>\n",
              "      <td>-0.144603</td>\n",
              "      <td>-0.090056</td>\n",
              "      <td>0.155233</td>\n",
              "      <td>-0.197223</td>\n",
              "      <td>-0.262591</td>\n",
              "      <td>0.072098</td>\n",
              "      <td>-0.194940</td>\n",
              "    </tr>\n",
              "    <tr>\n",
              "      <th>2</th>\n",
              "      <td>1.187490</td>\n",
              "      <td>2.017342</td>\n",
              "      <td>-0.445474</td>\n",
              "      <td>-0.141477</td>\n",
              "      <td>-0.257609</td>\n",
              "      <td>-0.177156</td>\n",
              "      <td>-0.174273</td>\n",
              "      <td>-0.267762</td>\n",
              "      <td>-0.224295</td>\n",
              "      <td>-0.304166</td>\n",
              "      <td>...</td>\n",
              "      <td>-0.073367</td>\n",
              "      <td>-0.185723</td>\n",
              "      <td>-0.037741</td>\n",
              "      <td>-0.144603</td>\n",
              "      <td>-0.278907</td>\n",
              "      <td>-0.471394</td>\n",
              "      <td>-0.227079</td>\n",
              "      <td>0.170395</td>\n",
              "      <td>-0.193521</td>\n",
              "      <td>-0.194940</td>\n",
              "    </tr>\n",
              "    <tr>\n",
              "      <th>3</th>\n",
              "      <td>-1.366594</td>\n",
              "      <td>-0.551763</td>\n",
              "      <td>-0.445474</td>\n",
              "      <td>-0.141477</td>\n",
              "      <td>-0.257609</td>\n",
              "      <td>-0.177156</td>\n",
              "      <td>-0.174273</td>\n",
              "      <td>-0.267762</td>\n",
              "      <td>-0.224295</td>\n",
              "      <td>-0.304166</td>\n",
              "      <td>...</td>\n",
              "      <td>-0.073367</td>\n",
              "      <td>6.169673</td>\n",
              "      <td>-0.037741</td>\n",
              "      <td>-0.144603</td>\n",
              "      <td>-0.284999</td>\n",
              "      <td>0.969848</td>\n",
              "      <td>0.041622</td>\n",
              "      <td>0.495134</td>\n",
              "      <td>-0.133153</td>\n",
              "      <td>-0.194940</td>\n",
              "    </tr>\n",
              "    <tr>\n",
              "      <th>4</th>\n",
              "      <td>-0.167738</td>\n",
              "      <td>-0.551763</td>\n",
              "      <td>-0.445474</td>\n",
              "      <td>-0.141477</td>\n",
              "      <td>-0.257609</td>\n",
              "      <td>-0.177156</td>\n",
              "      <td>-0.174273</td>\n",
              "      <td>-0.267762</td>\n",
              "      <td>-0.224295</td>\n",
              "      <td>-0.304166</td>\n",
              "      <td>...</td>\n",
              "      <td>-0.073367</td>\n",
              "      <td>-0.185723</td>\n",
              "      <td>-0.037741</td>\n",
              "      <td>-0.144603</td>\n",
              "      <td>-0.306321</td>\n",
              "      <td>4.541622</td>\n",
              "      <td>1.459767</td>\n",
              "      <td>-0.127283</td>\n",
              "      <td>1.496783</td>\n",
              "      <td>-0.194940</td>\n",
              "    </tr>\n",
              "    <tr>\n",
              "      <th>...</th>\n",
              "      <td>...</td>\n",
              "      <td>...</td>\n",
              "      <td>...</td>\n",
              "      <td>...</td>\n",
              "      <td>...</td>\n",
              "      <td>...</td>\n",
              "      <td>...</td>\n",
              "      <td>...</td>\n",
              "      <td>...</td>\n",
              "      <td>...</td>\n",
              "      <td>...</td>\n",
              "      <td>...</td>\n",
              "      <td>...</td>\n",
              "      <td>...</td>\n",
              "      <td>...</td>\n",
              "      <td>...</td>\n",
              "      <td>...</td>\n",
              "      <td>...</td>\n",
              "      <td>...</td>\n",
              "      <td>...</td>\n",
              "      <td>...</td>\n",
              "    </tr>\n",
              "    <tr>\n",
              "      <th>3292</th>\n",
              "      <td>0.546923</td>\n",
              "      <td>1.104362</td>\n",
              "      <td>2.303101</td>\n",
              "      <td>-0.141477</td>\n",
              "      <td>-0.257609</td>\n",
              "      <td>-0.177156</td>\n",
              "      <td>-0.174273</td>\n",
              "      <td>-0.267762</td>\n",
              "      <td>-0.224295</td>\n",
              "      <td>-0.304166</td>\n",
              "      <td>...</td>\n",
              "      <td>-0.073367</td>\n",
              "      <td>-0.185723</td>\n",
              "      <td>-0.037741</td>\n",
              "      <td>-0.144603</td>\n",
              "      <td>-0.114424</td>\n",
              "      <td>0.343221</td>\n",
              "      <td>-0.148122</td>\n",
              "      <td>-0.146517</td>\n",
              "      <td>0.040168</td>\n",
              "      <td>-0.194940</td>\n",
              "    </tr>\n",
              "    <tr>\n",
              "      <th>3293</th>\n",
              "      <td>0.383062</td>\n",
              "      <td>-0.551763</td>\n",
              "      <td>2.303101</td>\n",
              "      <td>-0.141477</td>\n",
              "      <td>-0.257609</td>\n",
              "      <td>-0.177156</td>\n",
              "      <td>-0.174273</td>\n",
              "      <td>-0.267762</td>\n",
              "      <td>-0.224295</td>\n",
              "      <td>-0.304166</td>\n",
              "      <td>...</td>\n",
              "      <td>-0.073367</td>\n",
              "      <td>-0.185723</td>\n",
              "      <td>-0.037741</td>\n",
              "      <td>-0.144603</td>\n",
              "      <td>-0.309176</td>\n",
              "      <td>-0.856540</td>\n",
              "      <td>0.565143</td>\n",
              "      <td>-0.513902</td>\n",
              "      <td>1.085434</td>\n",
              "      <td>-0.194940</td>\n",
              "    </tr>\n",
              "    <tr>\n",
              "      <th>3294</th>\n",
              "      <td>1.395987</td>\n",
              "      <td>-0.551763</td>\n",
              "      <td>2.303101</td>\n",
              "      <td>-0.141477</td>\n",
              "      <td>-0.257609</td>\n",
              "      <td>-0.177156</td>\n",
              "      <td>-0.174273</td>\n",
              "      <td>-0.267762</td>\n",
              "      <td>-0.224295</td>\n",
              "      <td>-0.304166</td>\n",
              "      <td>...</td>\n",
              "      <td>-0.073367</td>\n",
              "      <td>-0.185723</td>\n",
              "      <td>-0.037741</td>\n",
              "      <td>-0.144603</td>\n",
              "      <td>-0.095452</td>\n",
              "      <td>-0.172405</td>\n",
              "      <td>0.248906</td>\n",
              "      <td>0.436150</td>\n",
              "      <td>0.061010</td>\n",
              "      <td>-0.194940</td>\n",
              "    </tr>\n",
              "    <tr>\n",
              "      <th>3295</th>\n",
              "      <td>0.728028</td>\n",
              "      <td>1.541461</td>\n",
              "      <td>2.303101</td>\n",
              "      <td>-0.141477</td>\n",
              "      <td>-0.257609</td>\n",
              "      <td>-0.177156</td>\n",
              "      <td>-0.174273</td>\n",
              "      <td>-0.267762</td>\n",
              "      <td>-0.224295</td>\n",
              "      <td>-0.304166</td>\n",
              "      <td>...</td>\n",
              "      <td>-0.073367</td>\n",
              "      <td>-0.185723</td>\n",
              "      <td>-0.037741</td>\n",
              "      <td>-0.144603</td>\n",
              "      <td>-0.311566</td>\n",
              "      <td>0.087864</td>\n",
              "      <td>1.071643</td>\n",
              "      <td>0.143333</td>\n",
              "      <td>0.890866</td>\n",
              "      <td>-0.194940</td>\n",
              "    </tr>\n",
              "    <tr>\n",
              "      <th>3296</th>\n",
              "      <td>1.156281</td>\n",
              "      <td>-0.551763</td>\n",
              "      <td>2.303101</td>\n",
              "      <td>-0.141477</td>\n",
              "      <td>-0.257609</td>\n",
              "      <td>-0.177156</td>\n",
              "      <td>-0.174273</td>\n",
              "      <td>-0.267762</td>\n",
              "      <td>-0.224295</td>\n",
              "      <td>1.322228</td>\n",
              "      <td>...</td>\n",
              "      <td>-0.073367</td>\n",
              "      <td>-0.185723</td>\n",
              "      <td>-0.037741</td>\n",
              "      <td>-0.144603</td>\n",
              "      <td>-0.072439</td>\n",
              "      <td>0.079407</td>\n",
              "      <td>-0.200359</td>\n",
              "      <td>0.397235</td>\n",
              "      <td>-0.265887</td>\n",
              "      <td>-0.194940</td>\n",
              "    </tr>\n",
              "  </tbody>\n",
              "</table>\n",
              "<p>3297 rows × 22 columns</p>\n",
              "</div>\n",
              "      <button class=\"colab-df-convert\" onclick=\"convertToInteractive('df-5d1df15e-171f-4bf1-974e-b1b5d5daf496')\"\n",
              "              title=\"Convert this dataframe to an interactive table.\"\n",
              "              style=\"display:none;\">\n",
              "        \n",
              "  <svg xmlns=\"http://www.w3.org/2000/svg\" height=\"24px\"viewBox=\"0 0 24 24\"\n",
              "       width=\"24px\">\n",
              "    <path d=\"M0 0h24v24H0V0z\" fill=\"none\"/>\n",
              "    <path d=\"M18.56 5.44l.94 2.06.94-2.06 2.06-.94-2.06-.94-.94-2.06-.94 2.06-2.06.94zm-11 1L8.5 8.5l.94-2.06 2.06-.94-2.06-.94L8.5 2.5l-.94 2.06-2.06.94zm10 10l.94 2.06.94-2.06 2.06-.94-2.06-.94-.94-2.06-.94 2.06-2.06.94z\"/><path d=\"M17.41 7.96l-1.37-1.37c-.4-.4-.92-.59-1.43-.59-.52 0-1.04.2-1.43.59L10.3 9.45l-7.72 7.72c-.78.78-.78 2.05 0 2.83L4 21.41c.39.39.9.59 1.41.59.51 0 1.02-.2 1.41-.59l7.78-7.78 2.81-2.81c.8-.78.8-2.07 0-2.86zM5.41 20L4 18.59l7.72-7.72 1.47 1.35L5.41 20z\"/>\n",
              "  </svg>\n",
              "      </button>\n",
              "      \n",
              "  <style>\n",
              "    .colab-df-container {\n",
              "      display:flex;\n",
              "      flex-wrap:wrap;\n",
              "      gap: 12px;\n",
              "    }\n",
              "\n",
              "    .colab-df-convert {\n",
              "      background-color: #E8F0FE;\n",
              "      border: none;\n",
              "      border-radius: 50%;\n",
              "      cursor: pointer;\n",
              "      display: none;\n",
              "      fill: #1967D2;\n",
              "      height: 32px;\n",
              "      padding: 0 0 0 0;\n",
              "      width: 32px;\n",
              "    }\n",
              "\n",
              "    .colab-df-convert:hover {\n",
              "      background-color: #E2EBFA;\n",
              "      box-shadow: 0px 1px 2px rgba(60, 64, 67, 0.3), 0px 1px 3px 1px rgba(60, 64, 67, 0.15);\n",
              "      fill: #174EA6;\n",
              "    }\n",
              "\n",
              "    [theme=dark] .colab-df-convert {\n",
              "      background-color: #3B4455;\n",
              "      fill: #D2E3FC;\n",
              "    }\n",
              "\n",
              "    [theme=dark] .colab-df-convert:hover {\n",
              "      background-color: #434B5C;\n",
              "      box-shadow: 0px 1px 3px 1px rgba(0, 0, 0, 0.15);\n",
              "      filter: drop-shadow(0px 1px 2px rgba(0, 0, 0, 0.3));\n",
              "      fill: #FFFFFF;\n",
              "    }\n",
              "  </style>\n",
              "\n",
              "      <script>\n",
              "        const buttonEl =\n",
              "          document.querySelector('#df-5d1df15e-171f-4bf1-974e-b1b5d5daf496 button.colab-df-convert');\n",
              "        buttonEl.style.display =\n",
              "          google.colab.kernel.accessAllowed ? 'block' : 'none';\n",
              "\n",
              "        async function convertToInteractive(key) {\n",
              "          const element = document.querySelector('#df-5d1df15e-171f-4bf1-974e-b1b5d5daf496');\n",
              "          const dataTable =\n",
              "            await google.colab.kernel.invokeFunction('convertToInteractive',\n",
              "                                                     [key], {});\n",
              "          if (!dataTable) return;\n",
              "\n",
              "          const docLinkHtml = 'Like what you see? Visit the ' +\n",
              "            '<a target=\"_blank\" href=https://colab.research.google.com/notebooks/data_table.ipynb>data table notebook</a>'\n",
              "            + ' to learn more about interactive tables.';\n",
              "          element.innerHTML = '';\n",
              "          dataTable['output_type'] = 'display_data';\n",
              "          await google.colab.output.renderOutput(dataTable, element);\n",
              "          const docLink = document.createElement('div');\n",
              "          docLink.innerHTML = docLinkHtml;\n",
              "          element.appendChild(docLink);\n",
              "        }\n",
              "      </script>\n",
              "    </div>\n",
              "  </div>\n",
              "  "
            ]
          },
          "metadata": {},
          "execution_count": 36
        }
      ],
      "source": [
        "x_bal"
      ]
    },
    {
      "cell_type": "code",
      "execution_count": 37,
      "metadata": {
        "colab": {
          "base_uri": "https://localhost:8080/",
          "height": 129
        },
        "id": "sDCG55iBeO2i",
        "outputId": "45bc2448-1c1f-4c7f-a042-868aaf0e1222"
      },
      "outputs": [
        {
          "output_type": "stream",
          "name": "stderr",
          "text": [
            "<ipython-input-37-571bdcc8bfaa>:2: DataConversionWarning: A column-vector y was passed when a 1d array was expected. Please change the shape of y to (n_samples,), for example using ravel().\n",
            "  rfr.fit(x_bal,y_bal)\n"
          ]
        },
        {
          "output_type": "execute_result",
          "data": {
            "text/plain": [
              "RandomForestClassifier()"
            ],
            "text/html": [
              "<style>#sk-container-id-1 {color: black;background-color: white;}#sk-container-id-1 pre{padding: 0;}#sk-container-id-1 div.sk-toggleable {background-color: white;}#sk-container-id-1 label.sk-toggleable__label {cursor: pointer;display: block;width: 100%;margin-bottom: 0;padding: 0.3em;box-sizing: border-box;text-align: center;}#sk-container-id-1 label.sk-toggleable__label-arrow:before {content: \"▸\";float: left;margin-right: 0.25em;color: #696969;}#sk-container-id-1 label.sk-toggleable__label-arrow:hover:before {color: black;}#sk-container-id-1 div.sk-estimator:hover label.sk-toggleable__label-arrow:before {color: black;}#sk-container-id-1 div.sk-toggleable__content {max-height: 0;max-width: 0;overflow: hidden;text-align: left;background-color: #f0f8ff;}#sk-container-id-1 div.sk-toggleable__content pre {margin: 0.2em;color: black;border-radius: 0.25em;background-color: #f0f8ff;}#sk-container-id-1 input.sk-toggleable__control:checked~div.sk-toggleable__content {max-height: 200px;max-width: 100%;overflow: auto;}#sk-container-id-1 input.sk-toggleable__control:checked~label.sk-toggleable__label-arrow:before {content: \"▾\";}#sk-container-id-1 div.sk-estimator input.sk-toggleable__control:checked~label.sk-toggleable__label {background-color: #d4ebff;}#sk-container-id-1 div.sk-label input.sk-toggleable__control:checked~label.sk-toggleable__label {background-color: #d4ebff;}#sk-container-id-1 input.sk-hidden--visually {border: 0;clip: rect(1px 1px 1px 1px);clip: rect(1px, 1px, 1px, 1px);height: 1px;margin: -1px;overflow: hidden;padding: 0;position: absolute;width: 1px;}#sk-container-id-1 div.sk-estimator {font-family: monospace;background-color: #f0f8ff;border: 1px dotted black;border-radius: 0.25em;box-sizing: border-box;margin-bottom: 0.5em;}#sk-container-id-1 div.sk-estimator:hover {background-color: #d4ebff;}#sk-container-id-1 div.sk-parallel-item::after {content: \"\";width: 100%;border-bottom: 1px solid gray;flex-grow: 1;}#sk-container-id-1 div.sk-label:hover label.sk-toggleable__label {background-color: #d4ebff;}#sk-container-id-1 div.sk-serial::before {content: \"\";position: absolute;border-left: 1px solid gray;box-sizing: border-box;top: 0;bottom: 0;left: 50%;z-index: 0;}#sk-container-id-1 div.sk-serial {display: flex;flex-direction: column;align-items: center;background-color: white;padding-right: 0.2em;padding-left: 0.2em;position: relative;}#sk-container-id-1 div.sk-item {position: relative;z-index: 1;}#sk-container-id-1 div.sk-parallel {display: flex;align-items: stretch;justify-content: center;background-color: white;position: relative;}#sk-container-id-1 div.sk-item::before, #sk-container-id-1 div.sk-parallel-item::before {content: \"\";position: absolute;border-left: 1px solid gray;box-sizing: border-box;top: 0;bottom: 0;left: 50%;z-index: -1;}#sk-container-id-1 div.sk-parallel-item {display: flex;flex-direction: column;z-index: 1;position: relative;background-color: white;}#sk-container-id-1 div.sk-parallel-item:first-child::after {align-self: flex-end;width: 50%;}#sk-container-id-1 div.sk-parallel-item:last-child::after {align-self: flex-start;width: 50%;}#sk-container-id-1 div.sk-parallel-item:only-child::after {width: 0;}#sk-container-id-1 div.sk-dashed-wrapped {border: 1px dashed gray;margin: 0 0.4em 0.5em 0.4em;box-sizing: border-box;padding-bottom: 0.4em;background-color: white;}#sk-container-id-1 div.sk-label label {font-family: monospace;font-weight: bold;display: inline-block;line-height: 1.2em;}#sk-container-id-1 div.sk-label-container {text-align: center;}#sk-container-id-1 div.sk-container {/* jupyter's `normalize.less` sets `[hidden] { display: none; }` but bootstrap.min.css set `[hidden] { display: none !important; }` so we also need the `!important` here to be able to override the default hidden behavior on the sphinx rendered scikit-learn.org. See: https://github.com/scikit-learn/scikit-learn/issues/21755 */display: inline-block !important;position: relative;}#sk-container-id-1 div.sk-text-repr-fallback {display: none;}</style><div id=\"sk-container-id-1\" class=\"sk-top-container\"><div class=\"sk-text-repr-fallback\"><pre>RandomForestClassifier()</pre><b>In a Jupyter environment, please rerun this cell to show the HTML representation or trust the notebook. <br />On GitHub, the HTML representation is unable to render, please try loading this page with nbviewer.org.</b></div><div class=\"sk-container\" hidden><div class=\"sk-item\"><div class=\"sk-estimator sk-toggleable\"><input class=\"sk-toggleable__control sk-hidden--visually\" id=\"sk-estimator-id-1\" type=\"checkbox\" checked><label for=\"sk-estimator-id-1\" class=\"sk-toggleable__label sk-toggleable__label-arrow\">RandomForestClassifier</label><div class=\"sk-toggleable__content\"><pre>RandomForestClassifier()</pre></div></div></div></div></div>"
            ]
          },
          "metadata": {},
          "execution_count": 37
        }
      ],
      "source": [
        "rfr=RandomForestClassifier()\n",
        "rfr.fit(x_bal,y_bal)"
      ]
    },
    {
      "cell_type": "code",
      "execution_count": 38,
      "metadata": {
        "colab": {
          "base_uri": "https://localhost:8080/",
          "height": 1000
        },
        "id": "g4umFmvxNu3w",
        "outputId": "b6708618-c355-4d1f-b2be-be4721bc9795"
      },
      "outputs": [
        {
          "output_type": "stream",
          "name": "stdout",
          "text": [
            "feature: age                  Score: 0.0\n",
            "feature: sex                  Score: 0.0\n",
            "feature: on_thyroxine         Score: 0.0\n",
            "feature: query_on_thyroxine   Score: 0.0\n",
            "feature: on_antithyroxine_meds Score: 0.00012132241431603852\n",
            "feature: sick                 Score: 0.00024264482863207705\n",
            "feature: pregnant             Score: 0.00024264482863207705\n",
            "feature: thyroid_surgery      Score: 0.0003033060357900963\n",
            "feature: I131_treatment       Score: 0.0006066120715801926\n",
            "feature: query_hypothyroid    Score: 0.0023051258720048428\n",
            "feature: query_hyperthyroid   Score: 0.002608431907794939\n",
            "feature: lithium              Score: 0.00291173794358508\n",
            "feature: goitre               Score: 0.003760994843797394\n",
            "feature: tumor                Score: 0.016560509554140145\n",
            "feature: hypopituitary        Score: 0.01710646041856234\n",
            "feature: psych                Score: 0.02717622080679405\n",
            "feature: TSH                  Score: 0.054291780406430123\n",
            "feature: T3                   Score: 0.06363360630876555\n",
            "feature: TT4                  Score: 0.10506521079769486\n",
            "feature: T4U                  Score: 0.1437670609645132\n",
            "feature: FTI                  Score: 0.16869881710646042\n",
            "feature: TBG                  Score: 0.22650894752805578\n"
          ]
        },
        {
          "output_type": "display_data",
          "data": {
            "text/plain": [
              "<Figure size 1000x1000 with 1 Axes>"
            ],
            "image/png": "[encoded data removed]"
          },
          "metadata": {}
        }
      ],
      "source": [
        "\n",
        "from sklearn.inspection import permutation_importance\n",
        "results=permutation_importance(rfr,x_bal,y_bal,scoring='accuracy')\n",
        "feature_importance=['age','sex','on_thyroxine','query_on_thyroxine','on_antithyroxine_meds','sick','pregnant','thyroid_surgery','I131_treatment','query_hypothyroid','query_hyperthyroid','lithium','goitre','tumor','hypopituitary','psych','TSH','T3','TT4','T4U','FTI','TBG']\n",
        "importance=results.importances_mean\n",
        "importance=np.sort(importance)\n",
        "#summerize feature importance\n",
        "for i,v in enumerate(importance):\n",
        "  i=feature_importance[i]\n",
        "  print('feature: {:<20} Score: {}'. format(i,v))\n",
        "#plot importance feature\n",
        "plt.figure(figsize=(10,10))  \n",
        "plt.bar(x=feature_importance, height=importance)\n",
        "plt.xticks(rotation=30, ha='right')\n",
        "plt.show()"
      ]
    },
    {
      "cell_type": "code",
      "execution_count": 39,
      "metadata": {
        "colab": {
          "base_uri": "https://localhost:8080/",
          "height": 300
        },
        "id": "slqmaJA3TEaS",
        "outputId": "2b82c5d5-984e-49ed-ab90-4c5c3fb53f51"
      },
      "outputs": [
        {
          "output_type": "execute_result",
          "data": {
            "text/plain": [
              "     age  sex  on_thyroxine  query_on_thyroxine  on_antithyroid_meds  sick  \\\n",
              "4   32.0  0.0           0.0                 0.0                  0.0   0.0   \n",
              "18  63.0  0.0           1.0                 0.0                  0.0   1.0   \n",
              "32  41.0  1.0           0.0                 0.0                  0.0   0.0   \n",
              "33  71.0  0.0           1.0                 0.0                  0.0   0.0   \n",
              "39  55.0  0.0           1.0                 0.0                  0.0   0.0   \n",
              "\n",
              "    pregnant  thyroid_surgery  I131_treatment  query_hypothyroid  ...  goitre  \\\n",
              "4        0.0              0.0             0.0                0.0  ...     0.0   \n",
              "18       0.0              0.0             0.0                0.0  ...     0.0   \n",
              "32       0.0              0.0             0.0                0.0  ...     0.0   \n",
              "33       0.0              0.0             0.0                0.0  ...     0.0   \n",
              "39       0.0              0.0             0.0                1.0  ...     0.0   \n",
              "\n",
              "    tumor  hypopituitary  psych        TSH   T3    TT4   T4U   FTI   TBG  \n",
              "4     0.0            0.0    0.0   0.000000  0.0    0.0  0.00   0.0  36.0  \n",
              "18    0.0            0.0    0.0  68.000000  0.0   48.0  1.02  47.0   0.0  \n",
              "32    0.0            0.0    0.0   0.050000  1.6   39.0  1.00  39.0   0.0  \n",
              "33    0.0            0.0    0.0   0.050000  0.0  126.0  1.38  91.0   0.0  \n",
              "39    0.0            0.0    0.0   9.599999  2.4  136.0  1.48  92.0   0.0  \n",
              "\n",
              "[5 rows x 22 columns]"
            ],
            "text/html": [
              "\n",
              "  <div id=\"df-5c78a503-594e-465b-bc32-3d0888613656\">\n",
              "    <div class=\"colab-df-container\">\n",
              "      <div>\n",
              "<style scoped>\n",
              "    .dataframe tbody tr th:only-of-type {\n",
              "        vertical-align: middle;\n",
              "    }\n",
              "\n",
              "    .dataframe tbody tr th {\n",
              "        vertical-align: top;\n",
              "    }\n",
              "\n",
              "    .dataframe thead th {\n",
              "        text-align: right;\n",
              "    }\n",
              "</style>\n",
              "<table border=\"1\" class=\"dataframe\">\n",
              "  <thead>\n",
              "    <tr style=\"text-align: right;\">\n",
              "      <th></th>\n",
              "      <th>age</th>\n",
              "      <th>sex</th>\n",
              "      <th>on_thyroxine</th>\n",
              "      <th>query_on_thyroxine</th>\n",
              "      <th>on_antithyroid_meds</th>\n",
              "      <th>sick</th>\n",
              "      <th>pregnant</th>\n",
              "      <th>thyroid_surgery</th>\n",
              "      <th>I131_treatment</th>\n",
              "      <th>query_hypothyroid</th>\n",
              "      <th>...</th>\n",
              "      <th>goitre</th>\n",
              "      <th>tumor</th>\n",
              "      <th>hypopituitary</th>\n",
              "      <th>psych</th>\n",
              "      <th>TSH</th>\n",
              "      <th>T3</th>\n",
              "      <th>TT4</th>\n",
              "      <th>T4U</th>\n",
              "      <th>FTI</th>\n",
              "      <th>TBG</th>\n",
              "    </tr>\n",
              "  </thead>\n",
              "  <tbody>\n",
              "    <tr>\n",
              "      <th>4</th>\n",
              "      <td>32.0</td>\n",
              "      <td>0.0</td>\n",
              "      <td>0.0</td>\n",
              "      <td>0.0</td>\n",
              "      <td>0.0</td>\n",
              "      <td>0.0</td>\n",
              "      <td>0.0</td>\n",
              "      <td>0.0</td>\n",
              "      <td>0.0</td>\n",
              "      <td>0.0</td>\n",
              "      <td>...</td>\n",
              "      <td>0.0</td>\n",
              "      <td>0.0</td>\n",
              "      <td>0.0</td>\n",
              "      <td>0.0</td>\n",
              "      <td>0.000000</td>\n",
              "      <td>0.0</td>\n",
              "      <td>0.0</td>\n",
              "      <td>0.00</td>\n",
              "      <td>0.0</td>\n",
              "      <td>36.0</td>\n",
              "    </tr>\n",
              "    <tr>\n",
              "      <th>18</th>\n",
              "      <td>63.0</td>\n",
              "      <td>0.0</td>\n",
              "      <td>1.0</td>\n",
              "      <td>0.0</td>\n",
              "      <td>0.0</td>\n",
              "      <td>1.0</td>\n",
              "      <td>0.0</td>\n",
              "      <td>0.0</td>\n",
              "      <td>0.0</td>\n",
              "      <td>0.0</td>\n",
              "      <td>...</td>\n",
              "      <td>0.0</td>\n",
              "      <td>0.0</td>\n",
              "      <td>0.0</td>\n",
              "      <td>0.0</td>\n",
              "      <td>68.000000</td>\n",
              "      <td>0.0</td>\n",
              "      <td>48.0</td>\n",
              "      <td>1.02</td>\n",
              "      <td>47.0</td>\n",
              "      <td>0.0</td>\n",
              "    </tr>\n",
              "    <tr>\n",
              "      <th>32</th>\n",
              "      <td>41.0</td>\n",
              "      <td>1.0</td>\n",
              "      <td>0.0</td>\n",
              "      <td>0.0</td>\n",
              "      <td>0.0</td>\n",
              "      <td>0.0</td>\n",
              "      <td>0.0</td>\n",
              "      <td>0.0</td>\n",
              "      <td>0.0</td>\n",
              "      <td>0.0</td>\n",
              "      <td>...</td>\n",
              "      <td>0.0</td>\n",
              "      <td>0.0</td>\n",
              "      <td>0.0</td>\n",
              "      <td>0.0</td>\n",
              "      <td>0.050000</td>\n",
              "      <td>1.6</td>\n",
              "      <td>39.0</td>\n",
              "      <td>1.00</td>\n",
              "      <td>39.0</td>\n",
              "      <td>0.0</td>\n",
              "    </tr>\n",
              "    <tr>\n",
              "      <th>33</th>\n",
              "      <td>71.0</td>\n",
              "      <td>0.0</td>\n",
              "      <td>1.0</td>\n",
              "      <td>0.0</td>\n",
              "      <td>0.0</td>\n",
              "      <td>0.0</td>\n",
              "      <td>0.0</td>\n",
              "      <td>0.0</td>\n",
              "      <td>0.0</td>\n",
              "      <td>0.0</td>\n",
              "      <td>...</td>\n",
              "      <td>0.0</td>\n",
              "      <td>0.0</td>\n",
              "      <td>0.0</td>\n",
              "      <td>0.0</td>\n",
              "      <td>0.050000</td>\n",
              "      <td>0.0</td>\n",
              "      <td>126.0</td>\n",
              "      <td>1.38</td>\n",
              "      <td>91.0</td>\n",
              "      <td>0.0</td>\n",
              "    </tr>\n",
              "    <tr>\n",
              "      <th>39</th>\n",
              "      <td>55.0</td>\n",
              "      <td>0.0</td>\n",
              "      <td>1.0</td>\n",
              "      <td>0.0</td>\n",
              "      <td>0.0</td>\n",
              "      <td>0.0</td>\n",
              "      <td>0.0</td>\n",
              "      <td>0.0</td>\n",
              "      <td>0.0</td>\n",
              "      <td>1.0</td>\n",
              "      <td>...</td>\n",
              "      <td>0.0</td>\n",
              "      <td>0.0</td>\n",
              "      <td>0.0</td>\n",
              "      <td>0.0</td>\n",
              "      <td>9.599999</td>\n",
              "      <td>2.4</td>\n",
              "      <td>136.0</td>\n",
              "      <td>1.48</td>\n",
              "      <td>92.0</td>\n",
              "      <td>0.0</td>\n",
              "    </tr>\n",
              "  </tbody>\n",
              "</table>\n",
              "<p>5 rows × 22 columns</p>\n",
              "</div>\n",
              "      <button class=\"colab-df-convert\" onclick=\"convertToInteractive('df-5c78a503-594e-465b-bc32-3d0888613656')\"\n",
              "              title=\"Convert this dataframe to an interactive table.\"\n",
              "              style=\"display:none;\">\n",
              "        \n",
              "  <svg xmlns=\"http://www.w3.org/2000/svg\" height=\"24px\"viewBox=\"0 0 24 24\"\n",
              "       width=\"24px\">\n",
              "    <path d=\"M0 0h24v24H0V0z\" fill=\"none\"/>\n",
              "    <path d=\"M18.56 5.44l.94 2.06.94-2.06 2.06-.94-2.06-.94-.94-2.06-.94 2.06-2.06.94zm-11 1L8.5 8.5l.94-2.06 2.06-.94-2.06-.94L8.5 2.5l-.94 2.06-2.06.94zm10 10l.94 2.06.94-2.06 2.06-.94-2.06-.94-.94-2.06-.94 2.06-2.06.94z\"/><path d=\"M17.41 7.96l-1.37-1.37c-.4-.4-.92-.59-1.43-.59-.52 0-1.04.2-1.43.59L10.3 9.45l-7.72 7.72c-.78.78-.78 2.05 0 2.83L4 21.41c.39.39.9.59 1.41.59.51 0 1.02-.2 1.41-.59l7.78-7.78 2.81-2.81c.8-.78.8-2.07 0-2.86zM5.41 20L4 18.59l7.72-7.72 1.47 1.35L5.41 20z\"/>\n",
              "  </svg>\n",
              "      </button>\n",
              "      \n",
              "  <style>\n",
              "    .colab-df-container {\n",
              "      display:flex;\n",
              "      flex-wrap:wrap;\n",
              "      gap: 12px;\n",
              "    }\n",
              "\n",
              "    .colab-df-convert {\n",
              "      background-color: #E8F0FE;\n",
              "      border: none;\n",
              "      border-radius: 50%;\n",
              "      cursor: pointer;\n",
              "      display: none;\n",
              "      fill: #1967D2;\n",
              "      height: 32px;\n",
              "      padding: 0 0 0 0;\n",
              "      width: 32px;\n",
              "    }\n",
              "\n",
              "    .colab-df-convert:hover {\n",
              "      background-color: #E2EBFA;\n",
              "      box-shadow: 0px 1px 2px rgba(60, 64, 67, 0.3), 0px 1px 3px 1px rgba(60, 64, 67, 0.15);\n",
              "      fill: #174EA6;\n",
              "    }\n",
              "\n",
              "    [theme=dark] .colab-df-convert {\n",
              "      background-color: #3B4455;\n",
              "      fill: #D2E3FC;\n",
              "    }\n",
              "\n",
              "    [theme=dark] .colab-df-convert:hover {\n",
              "      background-color: #434B5C;\n",
              "      box-shadow: 0px 1px 3px 1px rgba(0, 0, 0, 0.15);\n",
              "      filter: drop-shadow(0px 1px 2px rgba(0, 0, 0, 0.3));\n",
              "      fill: #FFFFFF;\n",
              "    }\n",
              "  </style>\n",
              "\n",
              "      <script>\n",
              "        const buttonEl =\n",
              "          document.querySelector('#df-5c78a503-594e-465b-bc32-3d0888613656 button.colab-df-convert');\n",
              "        buttonEl.style.display =\n",
              "          google.colab.kernel.accessAllowed ? 'block' : 'none';\n",
              "\n",
              "        async function convertToInteractive(key) {\n",
              "          const element = document.querySelector('#df-5c78a503-594e-465b-bc32-3d0888613656');\n",
              "          const dataTable =\n",
              "            await google.colab.kernel.invokeFunction('convertToInteractive',\n",
              "                                                     [key], {});\n",
              "          if (!dataTable) return;\n",
              "\n",
              "          const docLinkHtml = 'Like what you see? Visit the ' +\n",
              "            '<a target=\"_blank\" href=https://colab.research.google.com/notebooks/data_table.ipynb>data table notebook</a>'\n",
              "            + ' to learn more about interactive tables.';\n",
              "          element.innerHTML = '';\n",
              "          dataTable['output_type'] = 'display_data';\n",
              "          await google.colab.output.renderOutput(dataTable, element);\n",
              "          const docLink = document.createElement('div');\n",
              "          docLink.innerHTML = docLinkHtml;\n",
              "          element.appendChild(docLink);\n",
              "        }\n",
              "      </script>\n",
              "    </div>\n",
              "  </div>\n",
              "  "
            ]
          },
          "metadata": {},
          "execution_count": 39
        }
      ],
      "source": [
        "x.head()"
      ]
    },
    {
      "cell_type": "code",
      "execution_count": 40,
      "metadata": {
        "id": "ssDNwSemTLuH"
      },
      "outputs": [],
      "source": [
        "x_bal=x_bal.drop(['age','sex','on_thyroxine','query_on_thyroxine','on_antithyroxine_meds','sick','pregnant','thyroid_surgery','I131_treatment','query_hypothyroid','query_hyperthyroid','lithium'],axis=1)\n"
      ]
    },
    {
      "cell_type": "code",
      "execution_count": 41,
      "metadata": {
        "id": "TP10AdqJTmjF"
      },
      "outputs": [],
      "source": [
        "x_test_bal=x_test_bal.drop(['age','sex','on_thyroxine','query_on_thyroxine','on_antithyroxine_meds','sick','pregnant','thyroid_surgery','I131_treatment','query_hypothyroid','query_hyperthyroid','lithium'],axis=1)"
      ]
    },
    {
      "cell_type": "code",
      "execution_count": 42,
      "metadata": {
        "colab": {
          "base_uri": "https://localhost:8080/",
          "height": 206
        },
        "id": "ec9J-8hVTyMh",
        "outputId": "6418b3ed-33d1-47c6-c594-8721fd234311"
      },
      "outputs": [
        {
          "output_type": "execute_result",
          "data": {
            "text/plain": [
              "     goitre     tumor  hypopituitary     psych       TSH        T3       TT4  \\\n",
              "0 -0.073367 -0.185723      -0.037741 -0.144603 -0.315458 -1.035358 -1.704935   \n",
              "1 -0.073367 -0.185723      -0.037741 -0.144603 -0.090056  0.155233 -0.197223   \n",
              "2 -0.073367 -0.185723      -0.037741 -0.144603 -0.278907 -0.471394 -0.227079   \n",
              "3 -0.073367  6.169673      -0.037741 -0.144603 -0.284999  0.969848  0.041622   \n",
              "4 -0.073367 -0.185723      -0.037741 -0.144603 -0.306321  4.541622  1.459767   \n",
              "\n",
              "        T4U       FTI       TBG  \n",
              "0 -2.508707 -1.400881  3.294451  \n",
              "1 -0.262591  0.072098 -0.194940  \n",
              "2  0.170395 -0.193521 -0.194940  \n",
              "3  0.495134 -0.133153 -0.194940  \n",
              "4 -0.127283  1.496783 -0.194940  "
            ],
            "text/html": [
              "\n",
              "  <div id=\"df-9457c45e-56e9-4e54-8039-df907f7e03db\">\n",
              "    <div class=\"colab-df-container\">\n",
              "      <div>\n",
              "<style scoped>\n",
              "    .dataframe tbody tr th:only-of-type {\n",
              "        vertical-align: middle;\n",
              "    }\n",
              "\n",
              "    .dataframe tbody tr th {\n",
              "        vertical-align: top;\n",
              "    }\n",
              "\n",
              "    .dataframe thead th {\n",
              "        text-align: right;\n",
              "    }\n",
              "</style>\n",
              "<table border=\"1\" class=\"dataframe\">\n",
              "  <thead>\n",
              "    <tr style=\"text-align: right;\">\n",
              "      <th></th>\n",
              "      <th>goitre</th>\n",
              "      <th>tumor</th>\n",
              "      <th>hypopituitary</th>\n",
              "      <th>psych</th>\n",
              "      <th>TSH</th>\n",
              "      <th>T3</th>\n",
              "      <th>TT4</th>\n",
              "      <th>T4U</th>\n",
              "      <th>FTI</th>\n",
              "      <th>TBG</th>\n",
              "    </tr>\n",
              "  </thead>\n",
              "  <tbody>\n",
              "    <tr>\n",
              "      <th>0</th>\n",
              "      <td>-0.073367</td>\n",
              "      <td>-0.185723</td>\n",
              "      <td>-0.037741</td>\n",
              "      <td>-0.144603</td>\n",
              "      <td>-0.315458</td>\n",
              "      <td>-1.035358</td>\n",
              "      <td>-1.704935</td>\n",
              "      <td>-2.508707</td>\n",
              "      <td>-1.400881</td>\n",
              "      <td>3.294451</td>\n",
              "    </tr>\n",
              "    <tr>\n",
              "      <th>1</th>\n",
              "      <td>-0.073367</td>\n",
              "      <td>-0.185723</td>\n",
              "      <td>-0.037741</td>\n",
              "      <td>-0.144603</td>\n",
              "      <td>-0.090056</td>\n",
              "      <td>0.155233</td>\n",
              "      <td>-0.197223</td>\n",
              "      <td>-0.262591</td>\n",
              "      <td>0.072098</td>\n",
              "      <td>-0.194940</td>\n",
              "    </tr>\n",
              "    <tr>\n",
              "      <th>2</th>\n",
              "      <td>-0.073367</td>\n",
              "      <td>-0.185723</td>\n",
              "      <td>-0.037741</td>\n",
              "      <td>-0.144603</td>\n",
              "      <td>-0.278907</td>\n",
              "      <td>-0.471394</td>\n",
              "      <td>-0.227079</td>\n",
              "      <td>0.170395</td>\n",
              "      <td>-0.193521</td>\n",
              "      <td>-0.194940</td>\n",
              "    </tr>\n",
              "    <tr>\n",
              "      <th>3</th>\n",
              "      <td>-0.073367</td>\n",
              "      <td>6.169673</td>\n",
              "      <td>-0.037741</td>\n",
              "      <td>-0.144603</td>\n",
              "      <td>-0.284999</td>\n",
              "      <td>0.969848</td>\n",
              "      <td>0.041622</td>\n",
              "      <td>0.495134</td>\n",
              "      <td>-0.133153</td>\n",
              "      <td>-0.194940</td>\n",
              "    </tr>\n",
              "    <tr>\n",
              "      <th>4</th>\n",
              "      <td>-0.073367</td>\n",
              "      <td>-0.185723</td>\n",
              "      <td>-0.037741</td>\n",
              "      <td>-0.144603</td>\n",
              "      <td>-0.306321</td>\n",
              "      <td>4.541622</td>\n",
              "      <td>1.459767</td>\n",
              "      <td>-0.127283</td>\n",
              "      <td>1.496783</td>\n",
              "      <td>-0.194940</td>\n",
              "    </tr>\n",
              "  </tbody>\n",
              "</table>\n",
              "</div>\n",
              "      <button class=\"colab-df-convert\" onclick=\"convertToInteractive('df-9457c45e-56e9-4e54-8039-df907f7e03db')\"\n",
              "              title=\"Convert this dataframe to an interactive table.\"\n",
              "              style=\"display:none;\">\n",
              "        \n",
              "  <svg xmlns=\"http://www.w3.org/2000/svg\" height=\"24px\"viewBox=\"0 0 24 24\"\n",
              "       width=\"24px\">\n",
              "    <path d=\"M0 0h24v24H0V0z\" fill=\"none\"/>\n",
              "    <path d=\"M18.56 5.44l.94 2.06.94-2.06 2.06-.94-2.06-.94-.94-2.06-.94 2.06-2.06.94zm-11 1L8.5 8.5l.94-2.06 2.06-.94-2.06-.94L8.5 2.5l-.94 2.06-2.06.94zm10 10l.94 2.06.94-2.06 2.06-.94-2.06-.94-.94-2.06-.94 2.06-2.06.94z\"/><path d=\"M17.41 7.96l-1.37-1.37c-.4-.4-.92-.59-1.43-.59-.52 0-1.04.2-1.43.59L10.3 9.45l-7.72 7.72c-.78.78-.78 2.05 0 2.83L4 21.41c.39.39.9.59 1.41.59.51 0 1.02-.2 1.41-.59l7.78-7.78 2.81-2.81c.8-.78.8-2.07 0-2.86zM5.41 20L4 18.59l7.72-7.72 1.47 1.35L5.41 20z\"/>\n",
              "  </svg>\n",
              "      </button>\n",
              "      \n",
              "  <style>\n",
              "    .colab-df-container {\n",
              "      display:flex;\n",
              "      flex-wrap:wrap;\n",
              "      gap: 12px;\n",
              "    }\n",
              "\n",
              "    .colab-df-convert {\n",
              "      background-color: #E8F0FE;\n",
              "      border: none;\n",
              "      border-radius: 50%;\n",
              "      cursor: pointer;\n",
              "      display: none;\n",
              "      fill: #1967D2;\n",
              "      height: 32px;\n",
              "      padding: 0 0 0 0;\n",
              "      width: 32px;\n",
              "    }\n",
              "\n",
              "    .colab-df-convert:hover {\n",
              "      background-color: #E2EBFA;\n",
              "      box-shadow: 0px 1px 2px rgba(60, 64, 67, 0.3), 0px 1px 3px 1px rgba(60, 64, 67, 0.15);\n",
              "      fill: #174EA6;\n",
              "    }\n",
              "\n",
              "    [theme=dark] .colab-df-convert {\n",
              "      background-color: #3B4455;\n",
              "      fill: #D2E3FC;\n",
              "    }\n",
              "\n",
              "    [theme=dark] .colab-df-convert:hover {\n",
              "      background-color: #434B5C;\n",
              "      box-shadow: 0px 1px 3px 1px rgba(0, 0, 0, 0.15);\n",
              "      filter: drop-shadow(0px 1px 2px rgba(0, 0, 0, 0.3));\n",
              "      fill: #FFFFFF;\n",
              "    }\n",
              "  </style>\n",
              "\n",
              "      <script>\n",
              "        const buttonEl =\n",
              "          document.querySelector('#df-9457c45e-56e9-4e54-8039-df907f7e03db button.colab-df-convert');\n",
              "        buttonEl.style.display =\n",
              "          google.colab.kernel.accessAllowed ? 'block' : 'none';\n",
              "\n",
              "        async function convertToInteractive(key) {\n",
              "          const element = document.querySelector('#df-9457c45e-56e9-4e54-8039-df907f7e03db');\n",
              "          const dataTable =\n",
              "            await google.colab.kernel.invokeFunction('convertToInteractive',\n",
              "                                                     [key], {});\n",
              "          if (!dataTable) return;\n",
              "\n",
              "          const docLinkHtml = 'Like what you see? Visit the ' +\n",
              "            '<a target=\"_blank\" href=https://colab.research.google.com/notebooks/data_table.ipynb>data table notebook</a>'\n",
              "            + ' to learn more about interactive tables.';\n",
              "          element.innerHTML = '';\n",
              "          dataTable['output_type'] = 'display_data';\n",
              "          await google.colab.output.renderOutput(dataTable, element);\n",
              "          const docLink = document.createElement('div');\n",
              "          docLink.innerHTML = docLinkHtml;\n",
              "          element.appendChild(docLink);\n",
              "        }\n",
              "      </script>\n",
              "    </div>\n",
              "  </div>\n",
              "  "
            ]
          },
          "metadata": {},
          "execution_count": 42
        }
      ],
      "source": [
        "x_bal.head()"
      ]
    },
    {
      "cell_type": "code",
      "execution_count": 43,
      "metadata": {
        "colab": {
          "base_uri": "https://localhost:8080/"
        },
        "id": "6FOJgVXmT41m",
        "outputId": "57d9f58d-9ec9-40d4-d53e-a7b64227df3d"
      },
      "outputs": [
        {
          "output_type": "stream",
          "name": "stdout",
          "text": [
            "<class 'pandas.core.frame.DataFrame'>\n",
            "Int64Index: 2237 entries, 4 to 9169\n",
            "Data columns (total 23 columns):\n",
            " #   Column               Non-Null Count  Dtype  \n",
            "---  ------               --------------  -----  \n",
            " 0   age                  2237 non-null   int64  \n",
            " 1   sex                  2147 non-null   object \n",
            " 2   on_thyroxine         2237 non-null   object \n",
            " 3   query_on_thyroxine   2237 non-null   object \n",
            " 4   on_antithyroid_meds  2237 non-null   object \n",
            " 5   sick                 2237 non-null   object \n",
            " 6   pregnant             2237 non-null   object \n",
            " 7   thyroid_surgery      2237 non-null   object \n",
            " 8   I131_treatment       2237 non-null   object \n",
            " 9   query_hypothyroid    2237 non-null   object \n",
            " 10  query_hyperthyroid   2237 non-null   object \n",
            " 11  lithium              2237 non-null   object \n",
            " 12  goitre               2237 non-null   object \n",
            " 13  tumor                2237 non-null   object \n",
            " 14  hypopituitary        2237 non-null   object \n",
            " 15  psych                2237 non-null   object \n",
            " 16  TSH                  2087 non-null   float64\n",
            " 17  T3                   1643 non-null   float64\n",
            " 18  TT4                  2140 non-null   float64\n",
            " 19  T4U                  2059 non-null   float64\n",
            " 20  FTI                  2060 non-null   float64\n",
            " 21  TBG                  98 non-null     float64\n",
            " 22  target               2237 non-null   object \n",
            "dtypes: float64(6), int64(1), object(16)\n",
            "memory usage: 419.4+ KB\n"
          ]
        }
      ],
      "source": [
        "data.info()"
      ]
    },
    {
      "cell_type": "code",
      "execution_count": 44,
      "metadata": {
        "colab": {
          "base_uri": "https://localhost:8080/",
          "height": 300
        },
        "id": "NJ_TPtuIejaj",
        "outputId": "d7bf5f59-0c9b-4911-ba95-50da1667af73"
      },
      "outputs": [
        {
          "output_type": "execute_result",
          "data": {
            "text/plain": [
              "     age  sex  on_thyroxine  query_on_thyroxine  on_antithyroid_meds  sick  \\\n",
              "4   32.0  0.0           0.0                 0.0                  0.0   0.0   \n",
              "18  63.0  0.0           1.0                 0.0                  0.0   1.0   \n",
              "32  41.0  1.0           0.0                 0.0                  0.0   0.0   \n",
              "33  71.0  0.0           1.0                 0.0                  0.0   0.0   \n",
              "39  55.0  0.0           1.0                 0.0                  0.0   0.0   \n",
              "\n",
              "    pregnant  thyroid_surgery  I131_treatment  query_hypothyroid  ...  goitre  \\\n",
              "4        0.0              0.0             0.0                0.0  ...     0.0   \n",
              "18       0.0              0.0             0.0                0.0  ...     0.0   \n",
              "32       0.0              0.0             0.0                0.0  ...     0.0   \n",
              "33       0.0              0.0             0.0                0.0  ...     0.0   \n",
              "39       0.0              0.0             0.0                1.0  ...     0.0   \n",
              "\n",
              "    tumor  hypopituitary  psych        TSH   T3    TT4   T4U   FTI   TBG  \n",
              "4     0.0            0.0    0.0   0.000000  0.0    0.0  0.00   0.0  36.0  \n",
              "18    0.0            0.0    0.0  68.000000  0.0   48.0  1.02  47.0   0.0  \n",
              "32    0.0            0.0    0.0   0.050000  1.6   39.0  1.00  39.0   0.0  \n",
              "33    0.0            0.0    0.0   0.050000  0.0  126.0  1.38  91.0   0.0  \n",
              "39    0.0            0.0    0.0   9.599999  2.4  136.0  1.48  92.0   0.0  \n",
              "\n",
              "[5 rows x 22 columns]"
            ],
            "text/html": [
              "\n",
              "  <div id=\"df-9294932a-aed8-4f28-9b1c-d0c8ec5ebbd6\">\n",
              "    <div class=\"colab-df-container\">\n",
              "      <div>\n",
              "<style scoped>\n",
              "    .dataframe tbody tr th:only-of-type {\n",
              "        vertical-align: middle;\n",
              "    }\n",
              "\n",
              "    .dataframe tbody tr th {\n",
              "        vertical-align: top;\n",
              "    }\n",
              "\n",
              "    .dataframe thead th {\n",
              "        text-align: right;\n",
              "    }\n",
              "</style>\n",
              "<table border=\"1\" class=\"dataframe\">\n",
              "  <thead>\n",
              "    <tr style=\"text-align: right;\">\n",
              "      <th></th>\n",
              "      <th>age</th>\n",
              "      <th>sex</th>\n",
              "      <th>on_thyroxine</th>\n",
              "      <th>query_on_thyroxine</th>\n",
              "      <th>on_antithyroid_meds</th>\n",
              "      <th>sick</th>\n",
              "      <th>pregnant</th>\n",
              "      <th>thyroid_surgery</th>\n",
              "      <th>I131_treatment</th>\n",
              "      <th>query_hypothyroid</th>\n",
              "      <th>...</th>\n",
              "      <th>goitre</th>\n",
              "      <th>tumor</th>\n",
              "      <th>hypopituitary</th>\n",
              "      <th>psych</th>\n",
              "      <th>TSH</th>\n",
              "      <th>T3</th>\n",
              "      <th>TT4</th>\n",
              "      <th>T4U</th>\n",
              "      <th>FTI</th>\n",
              "      <th>TBG</th>\n",
              "    </tr>\n",
              "  </thead>\n",
              "  <tbody>\n",
              "    <tr>\n",
              "      <th>4</th>\n",
              "      <td>32.0</td>\n",
              "      <td>0.0</td>\n",
              "      <td>0.0</td>\n",
              "      <td>0.0</td>\n",
              "      <td>0.0</td>\n",
              "      <td>0.0</td>\n",
              "      <td>0.0</td>\n",
              "      <td>0.0</td>\n",
              "      <td>0.0</td>\n",
              "      <td>0.0</td>\n",
              "      <td>...</td>\n",
              "      <td>0.0</td>\n",
              "      <td>0.0</td>\n",
              "      <td>0.0</td>\n",
              "      <td>0.0</td>\n",
              "      <td>0.000000</td>\n",
              "      <td>0.0</td>\n",
              "      <td>0.0</td>\n",
              "      <td>0.00</td>\n",
              "      <td>0.0</td>\n",
              "      <td>36.0</td>\n",
              "    </tr>\n",
              "    <tr>\n",
              "      <th>18</th>\n",
              "      <td>63.0</td>\n",
              "      <td>0.0</td>\n",
              "      <td>1.0</td>\n",
              "      <td>0.0</td>\n",
              "      <td>0.0</td>\n",
              "      <td>1.0</td>\n",
              "      <td>0.0</td>\n",
              "      <td>0.0</td>\n",
              "      <td>0.0</td>\n",
              "      <td>0.0</td>\n",
              "      <td>...</td>\n",
              "      <td>0.0</td>\n",
              "      <td>0.0</td>\n",
              "      <td>0.0</td>\n",
              "      <td>0.0</td>\n",
              "      <td>68.000000</td>\n",
              "      <td>0.0</td>\n",
              "      <td>48.0</td>\n",
              "      <td>1.02</td>\n",
              "      <td>47.0</td>\n",
              "      <td>0.0</td>\n",
              "    </tr>\n",
              "    <tr>\n",
              "      <th>32</th>\n",
              "      <td>41.0</td>\n",
              "      <td>1.0</td>\n",
              "      <td>0.0</td>\n",
              "      <td>0.0</td>\n",
              "      <td>0.0</td>\n",
              "      <td>0.0</td>\n",
              "      <td>0.0</td>\n",
              "      <td>0.0</td>\n",
              "      <td>0.0</td>\n",
              "      <td>0.0</td>\n",
              "      <td>...</td>\n",
              "      <td>0.0</td>\n",
              "      <td>0.0</td>\n",
              "      <td>0.0</td>\n",
              "      <td>0.0</td>\n",
              "      <td>0.050000</td>\n",
              "      <td>1.6</td>\n",
              "      <td>39.0</td>\n",
              "      <td>1.00</td>\n",
              "      <td>39.0</td>\n",
              "      <td>0.0</td>\n",
              "    </tr>\n",
              "    <tr>\n",
              "      <th>33</th>\n",
              "      <td>71.0</td>\n",
              "      <td>0.0</td>\n",
              "      <td>1.0</td>\n",
              "      <td>0.0</td>\n",
              "      <td>0.0</td>\n",
              "      <td>0.0</td>\n",
              "      <td>0.0</td>\n",
              "      <td>0.0</td>\n",
              "      <td>0.0</td>\n",
              "      <td>0.0</td>\n",
              "      <td>...</td>\n",
              "      <td>0.0</td>\n",
              "      <td>0.0</td>\n",
              "      <td>0.0</td>\n",
              "      <td>0.0</td>\n",
              "      <td>0.050000</td>\n",
              "      <td>0.0</td>\n",
              "      <td>126.0</td>\n",
              "      <td>1.38</td>\n",
              "      <td>91.0</td>\n",
              "      <td>0.0</td>\n",
              "    </tr>\n",
              "    <tr>\n",
              "      <th>39</th>\n",
              "      <td>55.0</td>\n",
              "      <td>0.0</td>\n",
              "      <td>1.0</td>\n",
              "      <td>0.0</td>\n",
              "      <td>0.0</td>\n",
              "      <td>0.0</td>\n",
              "      <td>0.0</td>\n",
              "      <td>0.0</td>\n",
              "      <td>0.0</td>\n",
              "      <td>1.0</td>\n",
              "      <td>...</td>\n",
              "      <td>0.0</td>\n",
              "      <td>0.0</td>\n",
              "      <td>0.0</td>\n",
              "      <td>0.0</td>\n",
              "      <td>9.599999</td>\n",
              "      <td>2.4</td>\n",
              "      <td>136.0</td>\n",
              "      <td>1.48</td>\n",
              "      <td>92.0</td>\n",
              "      <td>0.0</td>\n",
              "    </tr>\n",
              "  </tbody>\n",
              "</table>\n",
              "<p>5 rows × 22 columns</p>\n",
              "</div>\n",
              "      <button class=\"colab-df-convert\" onclick=\"convertToInteractive('df-9294932a-aed8-4f28-9b1c-d0c8ec5ebbd6')\"\n",
              "              title=\"Convert this dataframe to an interactive table.\"\n",
              "              style=\"display:none;\">\n",
              "        \n",
              "  <svg xmlns=\"http://www.w3.org/2000/svg\" height=\"24px\"viewBox=\"0 0 24 24\"\n",
              "       width=\"24px\">\n",
              "    <path d=\"M0 0h24v24H0V0z\" fill=\"none\"/>\n",
              "    <path d=\"M18.56 5.44l.94 2.06.94-2.06 2.06-.94-2.06-.94-.94-2.06-.94 2.06-2.06.94zm-11 1L8.5 8.5l.94-2.06 2.06-.94-2.06-.94L8.5 2.5l-.94 2.06-2.06.94zm10 10l.94 2.06.94-2.06 2.06-.94-2.06-.94-.94-2.06-.94 2.06-2.06.94z\"/><path d=\"M17.41 7.96l-1.37-1.37c-.4-.4-.92-.59-1.43-.59-.52 0-1.04.2-1.43.59L10.3 9.45l-7.72 7.72c-.78.78-.78 2.05 0 2.83L4 21.41c.39.39.9.59 1.41.59.51 0 1.02-.2 1.41-.59l7.78-7.78 2.81-2.81c.8-.78.8-2.07 0-2.86zM5.41 20L4 18.59l7.72-7.72 1.47 1.35L5.41 20z\"/>\n",
              "  </svg>\n",
              "      </button>\n",
              "      \n",
              "  <style>\n",
              "    .colab-df-container {\n",
              "      display:flex;\n",
              "      flex-wrap:wrap;\n",
              "      gap: 12px;\n",
              "    }\n",
              "\n",
              "    .colab-df-convert {\n",
              "      background-color: #E8F0FE;\n",
              "      border: none;\n",
              "      border-radius: 50%;\n",
              "      cursor: pointer;\n",
              "      display: none;\n",
              "      fill: #1967D2;\n",
              "      height: 32px;\n",
              "      padding: 0 0 0 0;\n",
              "      width: 32px;\n",
              "    }\n",
              "\n",
              "    .colab-df-convert:hover {\n",
              "      background-color: #E2EBFA;\n",
              "      box-shadow: 0px 1px 2px rgba(60, 64, 67, 0.3), 0px 1px 3px 1px rgba(60, 64, 67, 0.15);\n",
              "      fill: #174EA6;\n",
              "    }\n",
              "\n",
              "    [theme=dark] .colab-df-convert {\n",
              "      background-color: #3B4455;\n",
              "      fill: #D2E3FC;\n",
              "    }\n",
              "\n",
              "    [theme=dark] .colab-df-convert:hover {\n",
              "      background-color: #434B5C;\n",
              "      box-shadow: 0px 1px 3px 1px rgba(0, 0, 0, 0.15);\n",
              "      filter: drop-shadow(0px 1px 2px rgba(0, 0, 0, 0.3));\n",
              "      fill: #FFFFFF;\n",
              "    }\n",
              "  </style>\n",
              "\n",
              "      <script>\n",
              "        const buttonEl =\n",
              "          document.querySelector('#df-9294932a-aed8-4f28-9b1c-d0c8ec5ebbd6 button.colab-df-convert');\n",
              "        buttonEl.style.display =\n",
              "          google.colab.kernel.accessAllowed ? 'block' : 'none';\n",
              "\n",
              "        async function convertToInteractive(key) {\n",
              "          const element = document.querySelector('#df-9294932a-aed8-4f28-9b1c-d0c8ec5ebbd6');\n",
              "          const dataTable =\n",
              "            await google.colab.kernel.invokeFunction('convertToInteractive',\n",
              "                                                     [key], {});\n",
              "          if (!dataTable) return;\n",
              "\n",
              "          const docLinkHtml = 'Like what you see? Visit the ' +\n",
              "            '<a target=\"_blank\" href=https://colab.research.google.com/notebooks/data_table.ipynb>data table notebook</a>'\n",
              "            + ' to learn more about interactive tables.';\n",
              "          element.innerHTML = '';\n",
              "          dataTable['output_type'] = 'display_data';\n",
              "          await google.colab.output.renderOutput(dataTable, element);\n",
              "          const docLink = document.createElement('div');\n",
              "          docLink.innerHTML = docLinkHtml;\n",
              "          element.appendChild(docLink);\n",
              "        }\n",
              "      </script>\n",
              "    </div>\n",
              "  </div>\n",
              "  "
            ]
          },
          "metadata": {},
          "execution_count": 44
        }
      ],
      "source": [
        "x.head()"
      ]
    },
    {
      "cell_type": "code",
      "execution_count": 45,
      "metadata": {
        "colab": {
          "base_uri": "https://localhost:8080/",
          "height": 830
        },
        "id": "mHyJdQiS1a8k",
        "outputId": "7610c45e-3e04-46ae-b6d5-9a2e2bb56011"
      },
      "outputs": [
        {
          "output_type": "execute_result",
          "data": {
            "text/plain": [
              "<Axes: >"
            ]
          },
          "metadata": {},
          "execution_count": 45
        },
        {
          "output_type": "display_data",
          "data": {
            "text/plain": [
              "<Figure size 900x800 with 2 Axes>"
            ],
            "image/png": "[encoded data removed]"
          },
          "metadata": {}
        }
      ],
      "source": [
        "import seaborn as sns\n",
        "import matplotlib.pyplot as plt\n",
        "\n",
        "corrmat = x.corr()\n",
        "f, ax = plt.subplots(figsize=(9, 8))\n",
        "sns.heatmap(corrmat, ax=ax, cmap=\"YlGnBu\", linewidths=0.1)\n",
        "\n",
        "\n"
      ]
    },
    {
      "cell_type": "code",
      "execution_count": 46,
      "metadata": {
        "colab": {
          "base_uri": "https://localhost:8080/"
        },
        "id": "5xNriNXAVCk6",
        "outputId": "d49126e1-84ca-4302-e581-826c81eecc21"
      },
      "outputs": [
        {
          "output_type": "stream",
          "name": "stderr",
          "text": [
            "<ipython-input-46-85e236604c8d>:7: DataConversionWarning: A column-vector y was passed when a 1d array was expected. Please change the shape of y to (n_samples,), for example using ravel().\n",
            "  rfr1.fit(x_bal,y_bal)\n"
          ]
        }
      ],
      "source": [
        "from sklearn.ensemble import RandomForestClassifier\n",
        "\n",
        "\n",
        "\n",
        "# Create and fit the RandomForestClassifier object\n",
        "rfr1 = RandomForestClassifier()\n",
        "rfr1.fit(x_bal,y_bal)\n",
        "\n",
        "\n",
        "# Predict using the trained model\n",
        "y_pred = rfr1.predict(x_test_bal)\n",
        "\n",
        "\n",
        "# Define x_test_os using oversampling\n",
        "\n",
        "\n",
        "\n"
      ]
    },
    {
      "cell_type": "code",
      "execution_count": 47,
      "metadata": {
        "colab": {
          "base_uri": "https://localhost:8080/",
          "height": 129
        },
        "id": "IZSNEXjsj_k6",
        "outputId": "20af41fd-7339-4dca-b190-c3fc697b5024"
      },
      "outputs": [
        {
          "output_type": "stream",
          "name": "stderr",
          "text": [
            "<ipython-input-47-813284120830>:2: DataConversionWarning: A column-vector y was passed when a 1d array was expected. Please change the shape of y to (n_samples,), for example using ravel().\n",
            "  rfr1.fit(x_bal, y_bal)\n"
          ]
        },
        {
          "output_type": "execute_result",
          "data": {
            "text/plain": [
              "RandomForestClassifier()"
            ],
            "text/html": [
              "<style>#sk-container-id-2 {color: black;background-color: white;}#sk-container-id-2 pre{padding: 0;}#sk-container-id-2 div.sk-toggleable {background-color: white;}#sk-container-id-2 label.sk-toggleable__label {cursor: pointer;display: block;width: 100%;margin-bottom: 0;padding: 0.3em;box-sizing: border-box;text-align: center;}#sk-container-id-2 label.sk-toggleable__label-arrow:before {content: \"▸\";float: left;margin-right: 0.25em;color: #696969;}#sk-container-id-2 label.sk-toggleable__label-arrow:hover:before {color: black;}#sk-container-id-2 div.sk-estimator:hover label.sk-toggleable__label-arrow:before {color: black;}#sk-container-id-2 div.sk-toggleable__content {max-height: 0;max-width: 0;overflow: hidden;text-align: left;background-color: #f0f8ff;}#sk-container-id-2 div.sk-toggleable__content pre {margin: 0.2em;color: black;border-radius: 0.25em;background-color: #f0f8ff;}#sk-container-id-2 input.sk-toggleable__control:checked~div.sk-toggleable__content {max-height: 200px;max-width: 100%;overflow: auto;}#sk-container-id-2 input.sk-toggleable__control:checked~label.sk-toggleable__label-arrow:before {content: \"▾\";}#sk-container-id-2 div.sk-estimator input.sk-toggleable__control:checked~label.sk-toggleable__label {background-color: #d4ebff;}#sk-container-id-2 div.sk-label input.sk-toggleable__control:checked~label.sk-toggleable__label {background-color: #d4ebff;}#sk-container-id-2 input.sk-hidden--visually {border: 0;clip: rect(1px 1px 1px 1px);clip: rect(1px, 1px, 1px, 1px);height: 1px;margin: -1px;overflow: hidden;padding: 0;position: absolute;width: 1px;}#sk-container-id-2 div.sk-estimator {font-family: monospace;background-color: #f0f8ff;border: 1px dotted black;border-radius: 0.25em;box-sizing: border-box;margin-bottom: 0.5em;}#sk-container-id-2 div.sk-estimator:hover {background-color: #d4ebff;}#sk-container-id-2 div.sk-parallel-item::after {content: \"\";width: 100%;border-bottom: 1px solid gray;flex-grow: 1;}#sk-container-id-2 div.sk-label:hover label.sk-toggleable__label {background-color: #d4ebff;}#sk-container-id-2 div.sk-serial::before {content: \"\";position: absolute;border-left: 1px solid gray;box-sizing: border-box;top: 0;bottom: 0;left: 50%;z-index: 0;}#sk-container-id-2 div.sk-serial {display: flex;flex-direction: column;align-items: center;background-color: white;padding-right: 0.2em;padding-left: 0.2em;position: relative;}#sk-container-id-2 div.sk-item {position: relative;z-index: 1;}#sk-container-id-2 div.sk-parallel {display: flex;align-items: stretch;justify-content: center;background-color: white;position: relative;}#sk-container-id-2 div.sk-item::before, #sk-container-id-2 div.sk-parallel-item::before {content: \"\";position: absolute;border-left: 1px solid gray;box-sizing: border-box;top: 0;bottom: 0;left: 50%;z-index: -1;}#sk-container-id-2 div.sk-parallel-item {display: flex;flex-direction: column;z-index: 1;position: relative;background-color: white;}#sk-container-id-2 div.sk-parallel-item:first-child::after {align-self: flex-end;width: 50%;}#sk-container-id-2 div.sk-parallel-item:last-child::after {align-self: flex-start;width: 50%;}#sk-container-id-2 div.sk-parallel-item:only-child::after {width: 0;}#sk-container-id-2 div.sk-dashed-wrapped {border: 1px dashed gray;margin: 0 0.4em 0.5em 0.4em;box-sizing: border-box;padding-bottom: 0.4em;background-color: white;}#sk-container-id-2 div.sk-label label {font-family: monospace;font-weight: bold;display: inline-block;line-height: 1.2em;}#sk-container-id-2 div.sk-label-container {text-align: center;}#sk-container-id-2 div.sk-container {/* jupyter's `normalize.less` sets `[hidden] { display: none; }` but bootstrap.min.css set `[hidden] { display: none !important; }` so we also need the `!important` here to be able to override the default hidden behavior on the sphinx rendered scikit-learn.org. See: https://github.com/scikit-learn/scikit-learn/issues/21755 */display: inline-block !important;position: relative;}#sk-container-id-2 div.sk-text-repr-fallback {display: none;}</style><div id=\"sk-container-id-2\" class=\"sk-top-container\"><div class=\"sk-text-repr-fallback\"><pre>RandomForestClassifier()</pre><b>In a Jupyter environment, please rerun this cell to show the HTML representation or trust the notebook. <br />On GitHub, the HTML representation is unable to render, please try loading this page with nbviewer.org.</b></div><div class=\"sk-container\" hidden><div class=\"sk-item\"><div class=\"sk-estimator sk-toggleable\"><input class=\"sk-toggleable__control sk-hidden--visually\" id=\"sk-estimator-id-2\" type=\"checkbox\" checked><label for=\"sk-estimator-id-2\" class=\"sk-toggleable__label sk-toggleable__label-arrow\">RandomForestClassifier</label><div class=\"sk-toggleable__content\"><pre>RandomForestClassifier()</pre></div></div></div></div></div>"
            ]
          },
          "metadata": {},
          "execution_count": 47
        }
      ],
      "source": [
        "rfr1 = RandomForestClassifier()\n",
        "rfr1.fit(x_bal, y_bal)\n",
        "\n"
      ]
    },
    {
      "cell_type": "code",
      "execution_count": 48,
      "metadata": {
        "id": "_bnMXZKkV-uM"
      },
      "outputs": [],
      "source": [
        "y_pred = rfr1.predict(x_test_bal)"
      ]
    },
    {
      "cell_type": "code",
      "execution_count": 49,
      "metadata": {
        "colab": {
          "base_uri": "https://localhost:8080/"
        },
        "id": "KGPYnJ-aWdou",
        "outputId": "1b5086e8-a699-483e-d461-87e724734a6b"
      },
      "outputs": [
        {
          "output_type": "stream",
          "name": "stdout",
          "text": [
            "              precision    recall  f1-score   support\n",
            "\n",
            "         0.0       0.69      0.07      0.13       122\n",
            "         1.0       0.81      0.93      0.86       122\n",
            "         2.0       0.94      0.99      0.96       122\n",
            "         3.0       0.78      0.84      0.81       122\n",
            "         4.0       0.45      0.87      0.59       122\n",
            "         5.0       0.89      0.70      0.78       122\n",
            "         6.0       0.60      0.53      0.56       122\n",
            "\n",
            "    accuracy                           0.70       854\n",
            "   macro avg       0.74      0.70      0.67       854\n",
            "weighted avg       0.74      0.70      0.67       854\n",
            "\n"
          ]
        }
      ],
      "source": [
        "from sklearn.metrics import classification_report\n",
        "\n",
        "print(classification_report(y_test_bal, y_pred))\n"
      ]
    },
    {
      "cell_type": "code",
      "execution_count": 50,
      "metadata": {
        "colab": {
          "base_uri": "https://localhost:8080/"
        },
        "id": "f5pNO13vWrb8",
        "outputId": "3e9d0c2e-69f1-46b8-b536-70e9ad30d779"
      },
      "outputs": [
        {
          "output_type": "execute_result",
          "data": {
            "text/plain": [
              "1.0"
            ]
          },
          "metadata": {},
          "execution_count": 50
        }
      ],
      "source": [
        "from sklearn.metrics import accuracy_score\n",
        "train_score = accuracy_score(y_bal, rfr1.predict(x_bal))\n",
        "train_score"
      ]
    },
    {
      "cell_type": "code",
      "execution_count": 51,
      "metadata": {
        "colab": {
          "base_uri": "https://localhost:8080/",
          "height": 248
        },
        "id": "X_YlQkP4XCYG",
        "outputId": "bc362095-c439-46c1-9565-5bf5f6d46da2"
      },
      "outputs": [
        {
          "output_type": "execute_result",
          "data": {
            "text/plain": [
              "XGBClassifier(base_score=None, booster=None, callbacks=None,\n",
              "              colsample_bylevel=None, colsample_bynode=None,\n",
              "              colsample_bytree=None, early_stopping_rounds=None,\n",
              "              enable_categorical=False, eval_metric=None, feature_types=None,\n",
              "              gamma=None, gpu_id=None, grow_policy=None, importance_type=None,\n",
              "              interaction_constraints=None, learning_rate=None, max_bin=None,\n",
              "              max_cat_threshold=None, max_cat_to_onehot=None,\n",
              "              max_delta_step=None, max_depth=None, max_leaves=None,\n",
              "              min_child_weight=None, missing=nan, monotone_constraints=None,\n",
              "              n_estimators=100, n_jobs=None, num_parallel_tree=None,\n",
              "              objective='multi:softprob', predictor=None, ...)"
            ],
            "text/html": [
              "<style>#sk-container-id-3 {color: black;background-color: white;}#sk-container-id-3 pre{padding: 0;}#sk-container-id-3 div.sk-toggleable {background-color: white;}#sk-container-id-3 label.sk-toggleable__label {cursor: pointer;display: block;width: 100%;margin-bottom: 0;padding: 0.3em;box-sizing: border-box;text-align: center;}#sk-container-id-3 label.sk-toggleable__label-arrow:before {content: \"▸\";float: left;margin-right: 0.25em;color: #696969;}#sk-container-id-3 label.sk-toggleable__label-arrow:hover:before {color: black;}#sk-container-id-3 div.sk-estimator:hover label.sk-toggleable__label-arrow:before {color: black;}#sk-container-id-3 div.sk-toggleable__content {max-height: 0;max-width: 0;overflow: hidden;text-align: left;background-color: #f0f8ff;}#sk-container-id-3 div.sk-toggleable__content pre {margin: 0.2em;color: black;border-radius: 0.25em;background-color: #f0f8ff;}#sk-container-id-3 input.sk-toggleable__control:checked~div.sk-toggleable__content {max-height: 200px;max-width: 100%;overflow: auto;}#sk-container-id-3 input.sk-toggleable__control:checked~label.sk-toggleable__label-arrow:before {content: \"▾\";}#sk-container-id-3 div.sk-estimator input.sk-toggleable__control:checked~label.sk-toggleable__label {background-color: #d4ebff;}#sk-container-id-3 div.sk-label input.sk-toggleable__control:checked~label.sk-toggleable__label {background-color: #d4ebff;}#sk-container-id-3 input.sk-hidden--visually {border: 0;clip: rect(1px 1px 1px 1px);clip: rect(1px, 1px, 1px, 1px);height: 1px;margin: -1px;overflow: hidden;padding: 0;position: absolute;width: 1px;}#sk-container-id-3 div.sk-estimator {font-family: monospace;background-color: #f0f8ff;border: 1px dotted black;border-radius: 0.25em;box-sizing: border-box;margin-bottom: 0.5em;}#sk-container-id-3 div.sk-estimator:hover {background-color: #d4ebff;}#sk-container-id-3 div.sk-parallel-item::after {content: \"\";width: 100%;border-bottom: 1px solid gray;flex-grow: 1;}#sk-container-id-3 div.sk-label:hover label.sk-toggleable__label {background-color: #d4ebff;}#sk-container-id-3 div.sk-serial::before {content: \"\";position: absolute;border-left: 1px solid gray;box-sizing: border-box;top: 0;bottom: 0;left: 50%;z-index: 0;}#sk-container-id-3 div.sk-serial {display: flex;flex-direction: column;align-items: center;background-color: white;padding-right: 0.2em;padding-left: 0.2em;position: relative;}#sk-container-id-3 div.sk-item {position: relative;z-index: 1;}#sk-container-id-3 div.sk-parallel {display: flex;align-items: stretch;justify-content: center;background-color: white;position: relative;}#sk-container-id-3 div.sk-item::before, #sk-container-id-3 div.sk-parallel-item::before {content: \"\";position: absolute;border-left: 1px solid gray;box-sizing: border-box;top: 0;bottom: 0;left: 50%;z-index: -1;}#sk-container-id-3 div.sk-parallel-item {display: flex;flex-direction: column;z-index: 1;position: relative;background-color: white;}#sk-container-id-3 div.sk-parallel-item:first-child::after {align-self: flex-end;width: 50%;}#sk-container-id-3 div.sk-parallel-item:last-child::after {align-self: flex-start;width: 50%;}#sk-container-id-3 div.sk-parallel-item:only-child::after {width: 0;}#sk-container-id-3 div.sk-dashed-wrapped {border: 1px dashed gray;margin: 0 0.4em 0.5em 0.4em;box-sizing: border-box;padding-bottom: 0.4em;background-color: white;}#sk-container-id-3 div.sk-label label {font-family: monospace;font-weight: bold;display: inline-block;line-height: 1.2em;}#sk-container-id-3 div.sk-label-container {text-align: center;}#sk-container-id-3 div.sk-container {/* jupyter's `normalize.less` sets `[hidden] { display: none; }` but bootstrap.min.css set `[hidden] { display: none !important; }` so we also need the `!important` here to be able to override the default hidden behavior on the sphinx rendered scikit-learn.org. See: https://github.com/scikit-learn/scikit-learn/issues/21755 */display: inline-block !important;position: relative;}#sk-container-id-3 div.sk-text-repr-fallback {display: none;}</style><div id=\"sk-container-id-3\" class=\"sk-top-container\"><div class=\"sk-text-repr-fallback\"><pre>XGBClassifier(base_score=None, booster=None, callbacks=None,\n",
              "              colsample_bylevel=None, colsample_bynode=None,\n",
              "              colsample_bytree=None, early_stopping_rounds=None,\n",
              "              enable_categorical=False, eval_metric=None, feature_types=None,\n",
              "              gamma=None, gpu_id=None, grow_policy=None, importance_type=None,\n",
              "              interaction_constraints=None, learning_rate=None, max_bin=None,\n",
              "              max_cat_threshold=None, max_cat_to_onehot=None,\n",
              "              max_delta_step=None, max_depth=None, max_leaves=None,\n",
              "              min_child_weight=None, missing=nan, monotone_constraints=None,\n",
              "              n_estimators=100, n_jobs=None, num_parallel_tree=None,\n",
              "              objective=&#x27;multi:softprob&#x27;, predictor=None, ...)</pre><b>In a Jupyter environment, please rerun this cell to show the HTML representation or trust the notebook. <br />On GitHub, the HTML representation is unable to render, please try loading this page with nbviewer.org.</b></div><div class=\"sk-container\" hidden><div class=\"sk-item\"><div class=\"sk-estimator sk-toggleable\"><input class=\"sk-toggleable__control sk-hidden--visually\" id=\"sk-estimator-id-3\" type=\"checkbox\" checked><label for=\"sk-estimator-id-3\" class=\"sk-toggleable__label sk-toggleable__label-arrow\">XGBClassifier</label><div class=\"sk-toggleable__content\"><pre>XGBClassifier(base_score=None, booster=None, callbacks=None,\n",
              "              colsample_bylevel=None, colsample_bynode=None,\n",
              "              colsample_bytree=None, early_stopping_rounds=None,\n",
              "              enable_categorical=False, eval_metric=None, feature_types=None,\n",
              "              gamma=None, gpu_id=None, grow_policy=None, importance_type=None,\n",
              "              interaction_constraints=None, learning_rate=None, max_bin=None,\n",
              "              max_cat_threshold=None, max_cat_to_onehot=None,\n",
              "              max_delta_step=None, max_depth=None, max_leaves=None,\n",
              "              min_child_weight=None, missing=nan, monotone_constraints=None,\n",
              "              n_estimators=100, n_jobs=None, num_parallel_tree=None,\n",
              "              objective=&#x27;multi:softprob&#x27;, predictor=None, ...)</pre></div></div></div></div></div>"
            ]
          },
          "metadata": {},
          "execution_count": 51
        }
      ],
      "source": [
        "from xgboost import XGBClassifier\n",
        "xgb1 = XGBClassifier()\n",
        "xgb1.fit(x_bal,y_bal)"
      ]
    },
    {
      "cell_type": "code",
      "execution_count": 52,
      "metadata": {
        "id": "UTHBi68hXdOU"
      },
      "outputs": [],
      "source": [
        "y_pred = xgb1.predict(x_test_bal)"
      ]
    },
    {
      "cell_type": "code",
      "execution_count": 53,
      "metadata": {
        "colab": {
          "base_uri": "https://localhost:8080/"
        },
        "id": "t4iMWf7SXkX2",
        "outputId": "65608718-8190-4f09-aa7e-b60169aac8aa"
      },
      "outputs": [
        {
          "output_type": "stream",
          "name": "stdout",
          "text": [
            "              precision    recall  f1-score   support\n",
            "\n",
            "         0.0       0.86      0.30      0.45       122\n",
            "         1.0       0.82      0.93      0.87       122\n",
            "         2.0       0.96      1.00      0.98       122\n",
            "         3.0       0.77      0.84      0.80       122\n",
            "         4.0       0.53      0.86      0.66       122\n",
            "         5.0       0.83      0.70      0.76       122\n",
            "         6.0       0.59      0.53      0.56       122\n",
            "\n",
            "    accuracy                           0.74       854\n",
            "   macro avg       0.77      0.74      0.73       854\n",
            "weighted avg       0.77      0.74      0.73       854\n",
            "\n"
          ]
        }
      ],
      "source": [
        "print(classification_report(y_test_bal,y_pred))"
      ]
    },
    {
      "cell_type": "code",
      "execution_count": 54,
      "metadata": {
        "colab": {
          "base_uri": "https://localhost:8080/"
        },
        "id": "4Hzv4cCSXy5B",
        "outputId": "2f23f8c7-a74b-41ce-ed0e-47110607ad3e"
      },
      "outputs": [
        {
          "output_type": "execute_result",
          "data": {
            "text/plain": [
              "0.7400468384074942"
            ]
          },
          "metadata": {},
          "execution_count": 54
        }
      ],
      "source": [
        "accuracy_score(y_test_bal,y_pred)"
      ]
    },
    {
      "cell_type": "code",
      "execution_count": 55,
      "metadata": {
        "colab": {
          "base_uri": "https://localhost:8080/",
          "height": 129
        },
        "id": "kSyMmu0JX_Ao",
        "outputId": "d12ed0a2-4269-4929-aed5-a585561dbaa6"
      },
      "outputs": [
        {
          "output_type": "stream",
          "name": "stderr",
          "text": [
            "/usr/local/lib/python3.9/dist-packages/sklearn/utils/validation.py:1143: DataConversionWarning: A column-vector y was passed when a 1d array was expected. Please change the shape of y to (n_samples, ), for example using ravel().\n",
            "  y = column_or_1d(y, warn=True)\n"
          ]
        },
        {
          "output_type": "execute_result",
          "data": {
            "text/plain": [
              "SVC()"
            ],
            "text/html": [
              "<style>#sk-container-id-4 {color: black;background-color: white;}#sk-container-id-4 pre{padding: 0;}#sk-container-id-4 div.sk-toggleable {background-color: white;}#sk-container-id-4 label.sk-toggleable__label {cursor: pointer;display: block;width: 100%;margin-bottom: 0;padding: 0.3em;box-sizing: border-box;text-align: center;}#sk-container-id-4 label.sk-toggleable__label-arrow:before {content: \"▸\";float: left;margin-right: 0.25em;color: #696969;}#sk-container-id-4 label.sk-toggleable__label-arrow:hover:before {color: black;}#sk-container-id-4 div.sk-estimator:hover label.sk-toggleable__label-arrow:before {color: black;}#sk-container-id-4 div.sk-toggleable__content {max-height: 0;max-width: 0;overflow: hidden;text-align: left;background-color: #f0f8ff;}#sk-container-id-4 div.sk-toggleable__content pre {margin: 0.2em;color: black;border-radius: 0.25em;background-color: #f0f8ff;}#sk-container-id-4 input.sk-toggleable__control:checked~div.sk-toggleable__content {max-height: 200px;max-width: 100%;overflow: auto;}#sk-container-id-4 input.sk-toggleable__control:checked~label.sk-toggleable__label-arrow:before {content: \"▾\";}#sk-container-id-4 div.sk-estimator input.sk-toggleable__control:checked~label.sk-toggleable__label {background-color: #d4ebff;}#sk-container-id-4 div.sk-label input.sk-toggleable__control:checked~label.sk-toggleable__label {background-color: #d4ebff;}#sk-container-id-4 input.sk-hidden--visually {border: 0;clip: rect(1px 1px 1px 1px);clip: rect(1px, 1px, 1px, 1px);height: 1px;margin: -1px;overflow: hidden;padding: 0;position: absolute;width: 1px;}#sk-container-id-4 div.sk-estimator {font-family: monospace;background-color: #f0f8ff;border: 1px dotted black;border-radius: 0.25em;box-sizing: border-box;margin-bottom: 0.5em;}#sk-container-id-4 div.sk-estimator:hover {background-color: #d4ebff;}#sk-container-id-4 div.sk-parallel-item::after {content: \"\";width: 100%;border-bottom: 1px solid gray;flex-grow: 1;}#sk-container-id-4 div.sk-label:hover label.sk-toggleable__label {background-color: #d4ebff;}#sk-container-id-4 div.sk-serial::before {content: \"\";position: absolute;border-left: 1px solid gray;box-sizing: border-box;top: 0;bottom: 0;left: 50%;z-index: 0;}#sk-container-id-4 div.sk-serial {display: flex;flex-direction: column;align-items: center;background-color: white;padding-right: 0.2em;padding-left: 0.2em;position: relative;}#sk-container-id-4 div.sk-item {position: relative;z-index: 1;}#sk-container-id-4 div.sk-parallel {display: flex;align-items: stretch;justify-content: center;background-color: white;position: relative;}#sk-container-id-4 div.sk-item::before, #sk-container-id-4 div.sk-parallel-item::before {content: \"\";position: absolute;border-left: 1px solid gray;box-sizing: border-box;top: 0;bottom: 0;left: 50%;z-index: -1;}#sk-container-id-4 div.sk-parallel-item {display: flex;flex-direction: column;z-index: 1;position: relative;background-color: white;}#sk-container-id-4 div.sk-parallel-item:first-child::after {align-self: flex-end;width: 50%;}#sk-container-id-4 div.sk-parallel-item:last-child::after {align-self: flex-start;width: 50%;}#sk-container-id-4 div.sk-parallel-item:only-child::after {width: 0;}#sk-container-id-4 div.sk-dashed-wrapped {border: 1px dashed gray;margin: 0 0.4em 0.5em 0.4em;box-sizing: border-box;padding-bottom: 0.4em;background-color: white;}#sk-container-id-4 div.sk-label label {font-family: monospace;font-weight: bold;display: inline-block;line-height: 1.2em;}#sk-container-id-4 div.sk-label-container {text-align: center;}#sk-container-id-4 div.sk-container {/* jupyter's `normalize.less` sets `[hidden] { display: none; }` but bootstrap.min.css set `[hidden] { display: none !important; }` so we also need the `!important` here to be able to override the default hidden behavior on the sphinx rendered scikit-learn.org. See: https://github.com/scikit-learn/scikit-learn/issues/21755 */display: inline-block !important;position: relative;}#sk-container-id-4 div.sk-text-repr-fallback {display: none;}</style><div id=\"sk-container-id-4\" class=\"sk-top-container\"><div class=\"sk-text-repr-fallback\"><pre>SVC()</pre><b>In a Jupyter environment, please rerun this cell to show the HTML representation or trust the notebook. <br />On GitHub, the HTML representation is unable to render, please try loading this page with nbviewer.org.</b></div><div class=\"sk-container\" hidden><div class=\"sk-item\"><div class=\"sk-estimator sk-toggleable\"><input class=\"sk-toggleable__control sk-hidden--visually\" id=\"sk-estimator-id-4\" type=\"checkbox\" checked><label for=\"sk-estimator-id-4\" class=\"sk-toggleable__label sk-toggleable__label-arrow\">SVC</label><div class=\"sk-toggleable__content\"><pre>SVC()</pre></div></div></div></div></div>"
            ]
          },
          "metadata": {},
          "execution_count": 55
        }
      ],
      "source": [
        "from sklearn.svm import SVC\n",
        "from sklearn.metrics import accuracy_score, classification_report\n",
        "\n",
        "svm = SVC()\n",
        "svm.fit(x_bal, y_bal)\n",
        "\n",
        "\n"
      ]
    },
    {
      "cell_type": "code",
      "execution_count": 56,
      "metadata": {
        "id": "702MB_JdyNI7"
      },
      "outputs": [],
      "source": [
        "y_pred = svm.predict(x_test_bal)\n"
      ]
    },
    {
      "cell_type": "code",
      "execution_count": 57,
      "metadata": {
        "colab": {
          "base_uri": "https://localhost:8080/"
        },
        "id": "ISLTYrtZyWyr",
        "outputId": "04eecc17-5491-4792-b0eb-de64936ffc0d"
      },
      "outputs": [
        {
          "output_type": "stream",
          "name": "stdout",
          "text": [
            "              precision    recall  f1-score   support\n",
            "\n",
            "         0.0       0.70      0.85      0.77       122\n",
            "         1.0       0.78      0.81      0.80       122\n",
            "         2.0       0.88      0.92      0.90       122\n",
            "         3.0       0.73      0.70      0.72       122\n",
            "         4.0       0.73      0.63      0.68       122\n",
            "         5.0       0.83      0.53      0.65       122\n",
            "         6.0       0.51      0.62      0.56       122\n",
            "\n",
            "    accuracy                           0.72       854\n",
            "   macro avg       0.74      0.72      0.72       854\n",
            "weighted avg       0.74      0.72      0.72       854\n",
            "\n"
          ]
        }
      ],
      "source": [
        "print(classification_report(y_test_bal, y_pred))"
      ]
    },
    {
      "cell_type": "code",
      "execution_count": 58,
      "metadata": {
        "colab": {
          "base_uri": "https://localhost:8080/"
        },
        "id": "GZXm9Gdqxk6s",
        "outputId": "eac4ea1f-5b85-4437-ed7c-13bbe6acf0b9"
      },
      "outputs": [
        {
          "output_type": "execute_result",
          "data": {
            "text/plain": [
              "0.7209584470730968"
            ]
          },
          "metadata": {},
          "execution_count": 58
        }
      ],
      "source": [
        "train_score=accuracy_score(y_bal,svm.predict(x_bal))\n",
        "train_score"
      ]
    },
    {
      "cell_type": "code",
      "execution_count": 59,
      "metadata": {
        "id": "teOtEIVvSbo7"
      },
      "outputs": [],
      "source": [
        "model= Sequential()\n"
      ]
    },
    {
      "cell_type": "code",
      "execution_count": 60,
      "metadata": {
        "id": "W77aFpsHlRZE"
      },
      "outputs": [],
      "source": [
        "model.add(Dense(units=128,activation='relu',input_shape=(10,)))"
      ]
    },
    {
      "cell_type": "code",
      "execution_count": 61,
      "metadata": {
        "id": "Ipr1tcOvS07v"
      },
      "outputs": [],
      "source": [
        "model.add(Dense(units=128,activation='relu',kernel_initializer='random_uniform'))\n",
        "model.add(Dropout(0.2))\n",
        "model.add(Dense(units=256,activation='relu',kernel_initializer='random_uniform'))\n",
        "model.add(Dropout(0.2))\n",
        "model.add(Dense(units=128,activation='relu',kernel_initializer='random_uniform'))"
      ]
    },
    {
      "cell_type": "code",
      "execution_count": 62,
      "metadata": {
        "id": "ivZncMnMUKMr"
      },
      "outputs": [],
      "source": [
        "model.add(Dense(units=1,activation='sigmoid'))"
      ]
    },
    {
      "cell_type": "code",
      "execution_count": 65,
      "metadata": {
        "colab": {
          "base_uri": "https://localhost:8080/"
        },
        "id": "16HmvRzKUVTe",
        "outputId": "617d961c-d327-44fb-9e99-ab8618e99b4d"
      },
      "outputs": [
        {
          "output_type": "stream",
          "name": "stdout",
          "text": [
            "Model: \"sequential\"\n",
            "_________________________________________________________________\n",
            " Layer (type)                Output Shape              Param #   \n",
            "=================================================================\n",
            " dense (Dense)               (None, 128)               1408      \n",
            "                                                                 \n",
            " dense_1 (Dense)             (None, 128)               16512     \n",
            "                                                                 \n",
            " dropout (Dropout)           (None, 128)               0         \n",
            "                                                                 \n",
            " dense_2 (Dense)             (None, 256)               33024     \n",
            "                                                                 \n",
            " dropout_1 (Dropout)         (None, 256)               0         \n",
            "                                                                 \n",
            " dense_3 (Dense)             (None, 128)               32896     \n",
            "                                                                 \n",
            " dense_4 (Dense)             (None, 1)                 129       \n",
            "                                                                 \n",
            "=================================================================\n",
            "Total params: 83,969\n",
            "Trainable params: 83,969\n",
            "Non-trainable params: 0\n",
            "_________________________________________________________________\n"
          ]
        }
      ],
      "source": [
        "model.summary()"
      ]
    },
    {
      "cell_type": "code",
      "execution_count": 66,
      "metadata": {
        "id": "zbryJkHKUZcl"
      },
      "outputs": [],
      "source": [
        "model.compile(loss='binary_crossentropy',optimizer='adam',metrics=['accuracy'])"
      ]
    },
    {
      "cell_type": "code",
      "execution_count": 67,
      "metadata": {
        "colab": {
          "base_uri": "https://localhost:8080/"
        },
        "id": "4L1-qjW9OGrI",
        "outputId": "6acf8a99-7cc0-4d4b-b166-c35439c29af9"
      },
      "outputs": [
        {
          "output_type": "stream",
          "name": "stdout",
          "text": [
            "Epoch 1/15\n",
            "104/104 [==============================] - 2s 7ms/step - loss: -23082.3750 - accuracy: 0.1429 - val_loss: -184224.8594 - val_accuracy: 0.1429\n",
            "Epoch 2/15\n",
            "104/104 [==============================] - 0s 5ms/step - loss: -3218797.0000 - accuracy: 0.1429 - val_loss: -12660903.0000 - val_accuracy: 0.1429\n",
            "Epoch 3/15\n",
            "104/104 [==============================] - 0s 4ms/step - loss: -53598692.0000 - accuracy: 0.1429 - val_loss: -140775584.0000 - val_accuracy: 0.1429\n",
            "Epoch 4/15\n",
            "104/104 [==============================] - 0s 4ms/step - loss: -349807520.0000 - accuracy: 0.1429 - val_loss: -723085568.0000 - val_accuracy: 0.1429\n",
            "Epoch 5/15\n",
            "104/104 [==============================] - 0s 5ms/step - loss: -1371251840.0000 - accuracy: 0.1429 - val_loss: -2427643392.0000 - val_accuracy: 0.1429\n",
            "Epoch 6/15\n",
            "104/104 [==============================] - 0s 4ms/step - loss: -3956075008.0000 - accuracy: 0.1429 - val_loss: -6392309248.0000 - val_accuracy: 0.1429\n",
            "Epoch 7/15\n",
            "104/104 [==============================] - 1s 5ms/step - loss: -9442609152.0000 - accuracy: 0.1429 - val_loss: -14367709184.0000 - val_accuracy: 0.1429\n",
            "Epoch 8/15\n",
            "104/104 [==============================] - 0s 5ms/step - loss: -19860645888.0000 - accuracy: 0.1429 - val_loss: -28629620736.0000 - val_accuracy: 0.1429\n",
            "Epoch 9/15\n",
            "104/104 [==============================] - 0s 5ms/step - loss: -37404823552.0000 - accuracy: 0.1429 - val_loss: -51921362944.0000 - val_accuracy: 0.1429\n",
            "Epoch 10/15\n",
            "104/104 [==============================] - 0s 4ms/step - loss: -65028907008.0000 - accuracy: 0.1429 - val_loss: -87011041280.0000 - val_accuracy: 0.1429\n",
            "Epoch 11/15\n",
            "104/104 [==============================] - 0s 4ms/step - loss: -105896206336.0000 - accuracy: 0.1429 - val_loss: -138421207040.0000 - val_accuracy: 0.1429\n",
            "Epoch 12/15\n",
            "104/104 [==============================] - 0s 4ms/step - loss: -163848503296.0000 - accuracy: 0.1429 - val_loss: -209514790912.0000 - val_accuracy: 0.1429\n",
            "Epoch 13/15\n",
            "104/104 [==============================] - 0s 4ms/step - loss: -242712182784.0000 - accuracy: 0.1429 - val_loss: -304956440576.0000 - val_accuracy: 0.1429\n",
            "Epoch 14/15\n",
            "104/104 [==============================] - 0s 4ms/step - loss: -347110080512.0000 - accuracy: 0.1429 - val_loss: -429738885120.0000 - val_accuracy: 0.1429\n",
            "Epoch 15/15\n",
            "104/104 [==============================] - 0s 4ms/step - loss: -482228666368.0000 - accuracy: 0.1429 - val_loss: -588020908032.0000 - val_accuracy: 0.1429\n"
          ]
        },
        {
          "output_type": "execute_result",
          "data": {
            "text/plain": [
              "<keras.callbacks.History at 0x7f5cbc51ad90>"
            ]
          },
          "metadata": {},
          "execution_count": 67
        }
      ],
      "source": [
        "model.fit(x_bal,y_bal,validation_data=[x_test_bal,y_test_bal],epochs=15)"
      ]
    },
    {
      "cell_type": "code",
      "execution_count": 68,
      "metadata": {
        "colab": {
          "base_uri": "https://localhost:8080/"
        },
        "id": "1_EuzTTjWm-P",
        "outputId": "7920db4e-ed10-4e6a-d080-b03e0da36c1f"
      },
      "outputs": [
        {
          "output_type": "stream",
          "name": "stderr",
          "text": [
            "/usr/local/lib/python3.9/dist-packages/sklearn/base.py:439: UserWarning: X does not have valid feature names, but RandomForestClassifier was fitted with feature names\n",
            "  warnings.warn(\n"
          ]
        },
        {
          "output_type": "execute_result",
          "data": {
            "text/plain": [
              "array([4.])"
            ]
          },
          "metadata": {},
          "execution_count": 68
        }
      ],
      "source": [
        "rfr1.predict([[0,0,0,0,0.000000,0.0,0.0,1.00,0.0,40.0]])"
      ]
    },
    {
      "cell_type": "code",
      "execution_count": 69,
      "metadata": {
        "colab": {
          "base_uri": "https://localhost:8080/"
        },
        "id": "stR68CiHu_sw",
        "outputId": "9a09ef64-1d62-4c6d-f379-1a3499b235ca"
      },
      "outputs": [
        {
          "output_type": "stream",
          "name": "stderr",
          "text": [
            "/usr/local/lib/python3.9/dist-packages/sklearn/base.py:439: UserWarning: X does not have valid feature names, but SVC was fitted with feature names\n",
            "  warnings.warn(\n"
          ]
        },
        {
          "output_type": "execute_result",
          "data": {
            "text/plain": [
              "array([1.])"
            ]
          },
          "metadata": {},
          "execution_count": 69
        }
      ],
      "source": [
        "svm.predict([[0,0,0,0,0.000000,0.0,0.0,1.00,0.0,40.0]])"
      ]
    },
    {
      "cell_type": "code",
      "execution_count": 70,
      "metadata": {
        "colab": {
          "base_uri": "https://localhost:8080/"
        },
        "id": "175Uuv4vvLWE",
        "outputId": "c5ef5d9b-d961-40f8-d3ad-c12cacc784c6"
      },
      "outputs": [
        {
          "output_type": "execute_result",
          "data": {
            "text/plain": [
              "array([4])"
            ]
          },
          "metadata": {},
          "execution_count": 70
        }
      ],
      "source": [
        "col= ['goitre', 'tumor', 'hypopituitary', 'psych', 'TSH', 'T3', 'TT4', 'T4U', 'FTI', 'TBG']\n",
        "da = [[0,0,0,0,0.000000,0.0,0.0,1.00,0.0,40.0]]\n",
        "da1 = pd.DataFrame(data = da, columns=col)\n",
        "xgb1.predict(da1)"
      ]
    },
    {
      "cell_type": "code",
      "execution_count": 71,
      "metadata": {
        "colab": {
          "base_uri": "https://localhost:8080/"
        },
        "id": "tS4ghhXTwJku",
        "outputId": "2675ad2a-9b37-4d85-a211-b22526cdb8e4"
      },
      "outputs": [
        {
          "output_type": "stream",
          "name": "stdout",
          "text": [
            "1/1 [==============================] - 0s 140ms/step\n"
          ]
        },
        {
          "output_type": "execute_result",
          "data": {
            "text/plain": [
              "array([[1.]], dtype=float32)"
            ]
          },
          "metadata": {},
          "execution_count": 71
        }
      ],
      "source": [
        "model.predict([[0,0,0,0,0.000000,0.0,0.0,1.00,0.0,40.0]])"
      ]
    },
    {
      "cell_type": "code",
      "execution_count": 72,
      "metadata": {
        "colab": {
          "base_uri": "https://localhost:8080/"
        },
        "id": "EgVwxeXIwSUT",
        "outputId": "2f945a08-909c-4591-d30d-d9510d766cb2"
      },
      "outputs": [
        {
          "output_type": "stream",
          "name": "stdout",
          "text": [
            "              precision    recall  f1-score   support\n",
            "\n",
            "         0.0       0.70      0.85      0.77       122\n",
            "         1.0       0.78      0.81      0.80       122\n",
            "         2.0       0.88      0.92      0.90       122\n",
            "         3.0       0.73      0.70      0.72       122\n",
            "         4.0       0.73      0.63      0.68       122\n",
            "         5.0       0.83      0.53      0.65       122\n",
            "         6.0       0.51      0.62      0.56       122\n",
            "\n",
            "    accuracy                           0.72       854\n",
            "   macro avg       0.74      0.72      0.72       854\n",
            "weighted avg       0.74      0.72      0.72       854\n",
            "\n"
          ]
        }
      ],
      "source": [
        "print(classification_report(y_test_bal,y_pred))"
      ]
    },
    {
      "cell_type": "code",
      "execution_count": 73,
      "metadata": {
        "id": "nmX0WMFNwfXW"
      },
      "outputs": [],
      "source": [
        "train_score = accuracy_score(y_bal,rfr1.predict(x_bal))"
      ]
    },
    {
      "cell_type": "code",
      "execution_count": 74,
      "metadata": {
        "colab": {
          "base_uri": "https://localhost:8080/"
        },
        "id": "RL3tj6-TwsPR",
        "outputId": "f5ae3585-8e8c-43e3-bc87-d87e2c4433b0"
      },
      "outputs": [
        {
          "output_type": "execute_result",
          "data": {
            "text/plain": [
              "1.0"
            ]
          },
          "metadata": {},
          "execution_count": 74
        }
      ],
      "source": [
        "train_score"
      ]
    },
    {
      "cell_type": "code",
      "execution_count": 75,
      "metadata": {
        "id": "g5dKWMBVwvAk"
      },
      "outputs": [],
      "source": [
        "y_pred=xgb1.predict(x_test_bal)"
      ]
    },
    {
      "cell_type": "code",
      "execution_count": 76,
      "metadata": {
        "colab": {
          "base_uri": "https://localhost:8080/"
        },
        "id": "bPgrsUYrw7vl",
        "outputId": "c7f8f4ad-417c-4d34-c8f8-59c030fbb54f"
      },
      "outputs": [
        {
          "output_type": "stream",
          "name": "stdout",
          "text": [
            "              precision    recall  f1-score   support\n",
            "\n",
            "         0.0       0.86      0.30      0.45       122\n",
            "         1.0       0.82      0.93      0.87       122\n",
            "         2.0       0.96      1.00      0.98       122\n",
            "         3.0       0.77      0.84      0.80       122\n",
            "         4.0       0.53      0.86      0.66       122\n",
            "         5.0       0.83      0.70      0.76       122\n",
            "         6.0       0.59      0.53      0.56       122\n",
            "\n",
            "    accuracy                           0.74       854\n",
            "   macro avg       0.77      0.74      0.73       854\n",
            "weighted avg       0.77      0.74      0.73       854\n",
            "\n"
          ]
        }
      ],
      "source": [
        "print(classification_report(y_test_bal,y_pred))"
      ]
    },
    {
      "cell_type": "code",
      "execution_count": 77,
      "metadata": {
        "colab": {
          "base_uri": "https://localhost:8080/"
        },
        "id": "hThe8b2OxHP8",
        "outputId": "01abd8da-f2f2-47b5-d80b-46716ee3a27e"
      },
      "outputs": [
        {
          "output_type": "execute_result",
          "data": {
            "text/plain": [
              "1.0"
            ]
          },
          "metadata": {},
          "execution_count": 77
        }
      ],
      "source": [
        "train_score = accuracy_score(y_bal, xgb1.predict(x_bal))\n",
        "train_score"
      ]
    },
    {
      "cell_type": "code",
      "execution_count": 78,
      "metadata": {
        "id": "CXyR72-7xZq5"
      },
      "outputs": [],
      "source": [
        "y_pred = svm.predict(x_test_bal)"
      ]
    },
    {
      "cell_type": "code",
      "execution_count": 79,
      "metadata": {
        "colab": {
          "base_uri": "https://localhost:8080/"
        },
        "id": "UWoowm3hxqp2",
        "outputId": "672227d7-3ba2-4bc6-d114-d4e07f3e623f"
      },
      "outputs": [
        {
          "output_type": "stream",
          "name": "stdout",
          "text": [
            "              precision    recall  f1-score   support\n",
            "\n",
            "         0.0       0.70      0.85      0.77       122\n",
            "         1.0       0.78      0.81      0.80       122\n",
            "         2.0       0.88      0.92      0.90       122\n",
            "         3.0       0.73      0.70      0.72       122\n",
            "         4.0       0.73      0.63      0.68       122\n",
            "         5.0       0.83      0.53      0.65       122\n",
            "         6.0       0.51      0.62      0.56       122\n",
            "\n",
            "    accuracy                           0.72       854\n",
            "   macro avg       0.74      0.72      0.72       854\n",
            "weighted avg       0.74      0.72      0.72       854\n",
            "\n"
          ]
        }
      ],
      "source": [
        "print(classification_report(y_test_bal,y_pred))"
      ]
    },
    {
      "cell_type": "code",
      "execution_count": 80,
      "metadata": {
        "colab": {
          "base_uri": "https://localhost:8080/"
        },
        "id": "b-ZfeooYxz8l",
        "outputId": "d7d18e86-2043-48cf-8836-d960e58c7fc5"
      },
      "outputs": [
        {
          "output_type": "execute_result",
          "data": {
            "text/plain": [
              "0.7209584470730968"
            ]
          },
          "metadata": {},
          "execution_count": 80
        }
      ],
      "source": [
        "train_score=accuracy_score(y_bal,svm.predict(x_bal))\n",
        "train_score"
      ]
    },
    {
      "cell_type": "code",
      "execution_count": 81,
      "metadata": {
        "colab": {
          "base_uri": "https://localhost:8080/"
        },
        "id": "UFgraHCZyDw_",
        "outputId": "1bf3cf9d-a24b-4b55-f734-42d05d7dce9e"
      },
      "outputs": [
        {
          "output_type": "stream",
          "name": "stdout",
          "text": [
            "27/27 [==============================] - 0s 2ms/step\n"
          ]
        }
      ],
      "source": [
        "y_pred = model.predict(x_test_bal)"
      ]
    },
    {
      "cell_type": "code",
      "execution_count": 82,
      "metadata": {
        "colab": {
          "base_uri": "https://localhost:8080/"
        },
        "id": "v_G2pkCSyNiP",
        "outputId": "f0dd7661-a011-486c-b43c-9eda67e84c3a"
      },
      "outputs": [
        {
          "output_type": "stream",
          "name": "stdout",
          "text": [
            "              precision    recall  f1-score   support\n",
            "\n",
            "         0.0       0.00      0.00      0.00       122\n",
            "         1.0       0.14      1.00      0.25       122\n",
            "         2.0       0.00      0.00      0.00       122\n",
            "         3.0       0.00      0.00      0.00       122\n",
            "         4.0       0.00      0.00      0.00       122\n",
            "         5.0       0.00      0.00      0.00       122\n",
            "         6.0       0.00      0.00      0.00       122\n",
            "\n",
            "    accuracy                           0.14       854\n",
            "   macro avg       0.02      0.14      0.04       854\n",
            "weighted avg       0.02      0.14      0.04       854\n",
            "\n"
          ]
        },
        {
          "output_type": "stream",
          "name": "stderr",
          "text": [
            "/usr/local/lib/python3.9/dist-packages/sklearn/metrics/_classification.py:1344: UndefinedMetricWarning: Precision and F-score are ill-defined and being set to 0.0 in labels with no predicted samples. Use `zero_division` parameter to control this behavior.\n",
            "  _warn_prf(average, modifier, msg_start, len(result))\n",
            "/usr/local/lib/python3.9/dist-packages/sklearn/metrics/_classification.py:1344: UndefinedMetricWarning: Precision and F-score are ill-defined and being set to 0.0 in labels with no predicted samples. Use `zero_division` parameter to control this behavior.\n",
            "  _warn_prf(average, modifier, msg_start, len(result))\n",
            "/usr/local/lib/python3.9/dist-packages/sklearn/metrics/_classification.py:1344: UndefinedMetricWarning: Precision and F-score are ill-defined and being set to 0.0 in labels with no predicted samples. Use `zero_division` parameter to control this behavior.\n",
            "  _warn_prf(average, modifier, msg_start, len(result))\n"
          ]
        }
      ],
      "source": [
        "print(classification_report(y_test_bal,y_pred))"
      ]
    },
    {
      "cell_type": "code",
      "execution_count": 83,
      "metadata": {
        "colab": {
          "base_uri": "https://localhost:8080/"
        },
        "id": "t02gWWj2yazR",
        "outputId": "f0f40052-bf3b-48ad-dfc7-1eb8e200a0b9"
      },
      "outputs": [
        {
          "output_type": "execute_result",
          "data": {
            "text/plain": [
              "0.14285714285714285"
            ]
          },
          "metadata": {},
          "execution_count": 83
        }
      ],
      "source": [
        "accuracy_score(y_test_bal,y_pred)"
      ]
    },
    {
      "cell_type": "code",
      "execution_count": 84,
      "metadata": {
        "id": "s5NYw6nOyvZL"
      },
      "outputs": [],
      "source": [
        "params = {\n",
        "    \n",
        "    'C': [0.1, 1, 10, 100, 1000],\n",
        "    'gamma': [1, 0.1, 0.01, 0.001, 0.0001],\n",
        "       'kernel': ['rbf','sqrt']\n",
        "}"
      ]
    },
    {
      "cell_type": "code",
      "execution_count": 85,
      "metadata": {
        "id": "JTevGsmpzZSw"
      },
      "outputs": [],
      "source": [
        "from sklearn.model_selection import RandomizedSearchCV\n",
        "random_svc = RandomizedSearchCV(svm,params, scoring='accuracy',cv=5,n_jobs=-1)"
      ]
    },
    {
      "cell_type": "code",
      "execution_count": 86,
      "metadata": {
        "colab": {
          "base_uri": "https://localhost:8080/",
          "height": 797
        },
        "id": "9as2IRovzsST",
        "outputId": "a0b2644c-7c74-4881-9482-e3f9fb7b863c"
      },
      "outputs": [
        {
          "output_type": "stream",
          "name": "stderr",
          "text": [
            "/usr/local/lib/python3.9/dist-packages/sklearn/model_selection/_validation.py:378: FitFailedWarning: \n",
            "25 fits failed out of a total of 50.\n",
            "The score on these train-test partitions for these parameters will be set to nan.\n",
            "If these failures are not expected, you can try to debug them by setting error_score='raise'.\n",
            "\n",
            "Below are more details about the failures:\n",
            "--------------------------------------------------------------------------------\n",
            "13 fits failed with the following error:\n",
            "Traceback (most recent call last):\n",
            "  File \"/usr/local/lib/python3.9/dist-packages/sklearn/model_selection/_validation.py\", line 686, in _fit_and_score\n",
            "    estimator.fit(X_train, y_train, **fit_params)\n",
            "  File \"/usr/local/lib/python3.9/dist-packages/sklearn/svm/_base.py\", line 180, in fit\n",
            "    self._validate_params()\n",
            "  File \"/usr/local/lib/python3.9/dist-packages/sklearn/base.py\", line 600, in _validate_params\n",
            "    validate_parameter_constraints(\n",
            "  File \"/usr/local/lib/python3.9/dist-packages/sklearn/utils/_param_validation.py\", line 97, in validate_parameter_constraints\n",
            "    raise InvalidParameterError(\n",
            "sklearn.utils._param_validation.InvalidParameterError: The 'kernel' parameter of SVC must be a str among {'precomputed', 'poly', 'linear', 'rbf', 'sigmoid'} or a callable. Got 'sqrt' instead.\n",
            "\n",
            "--------------------------------------------------------------------------------\n",
            "12 fits failed with the following error:\n",
            "Traceback (most recent call last):\n",
            "  File \"/usr/local/lib/python3.9/dist-packages/sklearn/model_selection/_validation.py\", line 686, in _fit_and_score\n",
            "    estimator.fit(X_train, y_train, **fit_params)\n",
            "  File \"/usr/local/lib/python3.9/dist-packages/sklearn/svm/_base.py\", line 180, in fit\n",
            "    self._validate_params()\n",
            "  File \"/usr/local/lib/python3.9/dist-packages/sklearn/base.py\", line 600, in _validate_params\n",
            "    validate_parameter_constraints(\n",
            "  File \"/usr/local/lib/python3.9/dist-packages/sklearn/utils/_param_validation.py\", line 97, in validate_parameter_constraints\n",
            "    raise InvalidParameterError(\n",
            "sklearn.utils._param_validation.InvalidParameterError: The 'kernel' parameter of SVC must be a str among {'rbf', 'precomputed', 'poly', 'sigmoid', 'linear'} or a callable. Got 'sqrt' instead.\n",
            "\n",
            "  warnings.warn(some_fits_failed_message, FitFailedWarning)\n",
            "/usr/local/lib/python3.9/dist-packages/sklearn/model_selection/_search.py:952: UserWarning: One or more of the test scores are non-finite: [       nan 0.75765715        nan 0.65817676        nan 0.28842599\n",
            " 0.72277464        nan 0.81043914        nan]\n",
            "  warnings.warn(\n",
            "/usr/local/lib/python3.9/dist-packages/sklearn/utils/validation.py:1143: DataConversionWarning: A column-vector y was passed when a 1d array was expected. Please change the shape of y to (n_samples, ), for example using ravel().\n",
            "  y = column_or_1d(y, warn=True)\n"
          ]
        },
        {
          "output_type": "execute_result",
          "data": {
            "text/plain": [
              "RandomizedSearchCV(cv=5, estimator=SVC(), n_jobs=-1,\n",
              "                   param_distributions={'C': [0.1, 1, 10, 100, 1000],\n",
              "                                        'gamma': [1, 0.1, 0.01, 0.001, 0.0001],\n",
              "                                        'kernel': ['rbf', 'sqrt']},\n",
              "                   scoring='accuracy')"
            ],
            "text/html": [
              "<style>#sk-container-id-5 {color: black;background-color: white;}#sk-container-id-5 pre{padding: 0;}#sk-container-id-5 div.sk-toggleable {background-color: white;}#sk-container-id-5 label.sk-toggleable__label {cursor: pointer;display: block;width: 100%;margin-bottom: 0;padding: 0.3em;box-sizing: border-box;text-align: center;}#sk-container-id-5 label.sk-toggleable__label-arrow:before {content: \"▸\";float: left;margin-right: 0.25em;color: #696969;}#sk-container-id-5 label.sk-toggleable__label-arrow:hover:before {color: black;}#sk-container-id-5 div.sk-estimator:hover label.sk-toggleable__label-arrow:before {color: black;}#sk-container-id-5 div.sk-toggleable__content {max-height: 0;max-width: 0;overflow: hidden;text-align: left;background-color: #f0f8ff;}#sk-container-id-5 div.sk-toggleable__content pre {margin: 0.2em;color: black;border-radius: 0.25em;background-color: #f0f8ff;}#sk-container-id-5 input.sk-toggleable__control:checked~div.sk-toggleable__content {max-height: 200px;max-width: 100%;overflow: auto;}#sk-container-id-5 input.sk-toggleable__control:checked~label.sk-toggleable__label-arrow:before {content: \"▾\";}#sk-container-id-5 div.sk-estimator input.sk-toggleable__control:checked~label.sk-toggleable__label {background-color: #d4ebff;}#sk-container-id-5 div.sk-label input.sk-toggleable__control:checked~label.sk-toggleable__label {background-color: #d4ebff;}#sk-container-id-5 input.sk-hidden--visually {border: 0;clip: rect(1px 1px 1px 1px);clip: rect(1px, 1px, 1px, 1px);height: 1px;margin: -1px;overflow: hidden;padding: 0;position: absolute;width: 1px;}#sk-container-id-5 div.sk-estimator {font-family: monospace;background-color: #f0f8ff;border: 1px dotted black;border-radius: 0.25em;box-sizing: border-box;margin-bottom: 0.5em;}#sk-container-id-5 div.sk-estimator:hover {background-color: #d4ebff;}#sk-container-id-5 div.sk-parallel-item::after {content: \"\";width: 100%;border-bottom: 1px solid gray;flex-grow: 1;}#sk-container-id-5 div.sk-label:hover label.sk-toggleable__label {background-color: #d4ebff;}#sk-container-id-5 div.sk-serial::before {content: \"\";position: absolute;border-left: 1px solid gray;box-sizing: border-box;top: 0;bottom: 0;left: 50%;z-index: 0;}#sk-container-id-5 div.sk-serial {display: flex;flex-direction: column;align-items: center;background-color: white;padding-right: 0.2em;padding-left: 0.2em;position: relative;}#sk-container-id-5 div.sk-item {position: relative;z-index: 1;}#sk-container-id-5 div.sk-parallel {display: flex;align-items: stretch;justify-content: center;background-color: white;position: relative;}#sk-container-id-5 div.sk-item::before, #sk-container-id-5 div.sk-parallel-item::before {content: \"\";position: absolute;border-left: 1px solid gray;box-sizing: border-box;top: 0;bottom: 0;left: 50%;z-index: -1;}#sk-container-id-5 div.sk-parallel-item {display: flex;flex-direction: column;z-index: 1;position: relative;background-color: white;}#sk-container-id-5 div.sk-parallel-item:first-child::after {align-self: flex-end;width: 50%;}#sk-container-id-5 div.sk-parallel-item:last-child::after {align-self: flex-start;width: 50%;}#sk-container-id-5 div.sk-parallel-item:only-child::after {width: 0;}#sk-container-id-5 div.sk-dashed-wrapped {border: 1px dashed gray;margin: 0 0.4em 0.5em 0.4em;box-sizing: border-box;padding-bottom: 0.4em;background-color: white;}#sk-container-id-5 div.sk-label label {font-family: monospace;font-weight: bold;display: inline-block;line-height: 1.2em;}#sk-container-id-5 div.sk-label-container {text-align: center;}#sk-container-id-5 div.sk-container {/* jupyter's `normalize.less` sets `[hidden] { display: none; }` but bootstrap.min.css set `[hidden] { display: none !important; }` so we also need the `!important` here to be able to override the default hidden behavior on the sphinx rendered scikit-learn.org. See: https://github.com/scikit-learn/scikit-learn/issues/21755 */display: inline-block !important;position: relative;}#sk-container-id-5 div.sk-text-repr-fallback {display: none;}</style><div id=\"sk-container-id-5\" class=\"sk-top-container\"><div class=\"sk-text-repr-fallback\"><pre>RandomizedSearchCV(cv=5, estimator=SVC(), n_jobs=-1,\n",
              "                   param_distributions={&#x27;C&#x27;: [0.1, 1, 10, 100, 1000],\n",
              "                                        &#x27;gamma&#x27;: [1, 0.1, 0.01, 0.001, 0.0001],\n",
              "                                        &#x27;kernel&#x27;: [&#x27;rbf&#x27;, &#x27;sqrt&#x27;]},\n",
              "                   scoring=&#x27;accuracy&#x27;)</pre><b>In a Jupyter environment, please rerun this cell to show the HTML representation or trust the notebook. <br />On GitHub, the HTML representation is unable to render, please try loading this page with nbviewer.org.</b></div><div class=\"sk-container\" hidden><div class=\"sk-item sk-dashed-wrapped\"><div class=\"sk-label-container\"><div class=\"sk-label sk-toggleable\"><input class=\"sk-toggleable__control sk-hidden--visually\" id=\"sk-estimator-id-5\" type=\"checkbox\" ><label for=\"sk-estimator-id-5\" class=\"sk-toggleable__label sk-toggleable__label-arrow\">RandomizedSearchCV</label><div class=\"sk-toggleable__content\"><pre>RandomizedSearchCV(cv=5, estimator=SVC(), n_jobs=-1,\n",
              "                   param_distributions={&#x27;C&#x27;: [0.1, 1, 10, 100, 1000],\n",
              "                                        &#x27;gamma&#x27;: [1, 0.1, 0.01, 0.001, 0.0001],\n",
              "                                        &#x27;kernel&#x27;: [&#x27;rbf&#x27;, &#x27;sqrt&#x27;]},\n",
              "                   scoring=&#x27;accuracy&#x27;)</pre></div></div></div><div class=\"sk-parallel\"><div class=\"sk-parallel-item\"><div class=\"sk-item\"><div class=\"sk-label-container\"><div class=\"sk-label sk-toggleable\"><input class=\"sk-toggleable__control sk-hidden--visually\" id=\"sk-estimator-id-6\" type=\"checkbox\" ><label for=\"sk-estimator-id-6\" class=\"sk-toggleable__label sk-toggleable__label-arrow\">estimator: SVC</label><div class=\"sk-toggleable__content\"><pre>SVC()</pre></div></div></div><div class=\"sk-serial\"><div class=\"sk-item\"><div class=\"sk-estimator sk-toggleable\"><input class=\"sk-toggleable__control sk-hidden--visually\" id=\"sk-estimator-id-7\" type=\"checkbox\" ><label for=\"sk-estimator-id-7\" class=\"sk-toggleable__label sk-toggleable__label-arrow\">SVC</label><div class=\"sk-toggleable__content\"><pre>SVC()</pre></div></div></div></div></div></div></div></div></div></div>"
            ]
          },
          "metadata": {},
          "execution_count": 86
        }
      ],
      "source": [
        "random_svc.fit(x_bal,y_bal)"
      ]
    },
    {
      "cell_type": "code",
      "execution_count": 87,
      "metadata": {
        "colab": {
          "base_uri": "https://localhost:8080/"
        },
        "id": "8_6KjnjDz8pc",
        "outputId": "d5a9f188-54cb-4de4-8cca-3ade8be81168"
      },
      "outputs": [
        {
          "output_type": "execute_result",
          "data": {
            "text/plain": [
              "{'kernel': 'rbf', 'gamma': 0.1, 'C': 1000}"
            ]
          },
          "metadata": {},
          "execution_count": 87
        }
      ],
      "source": [
        "random_svc.best_params_"
      ]
    },
    {
      "cell_type": "code",
      "execution_count": 88,
      "metadata": {
        "id": "pbcSorAl0Cg6"
      },
      "outputs": [],
      "source": [
        "sv1=SVC(kernel= 'rbf', gamma= 0.1, C=100)"
      ]
    },
    {
      "cell_type": "code",
      "execution_count": 89,
      "metadata": {
        "colab": {
          "base_uri": "https://localhost:8080/",
          "height": 129
        },
        "id": "5Mk5zIFf0SFs",
        "outputId": "c7a17d5e-ee6f-46fc-944f-7fcf972bb879"
      },
      "outputs": [
        {
          "output_type": "stream",
          "name": "stderr",
          "text": [
            "/usr/local/lib/python3.9/dist-packages/sklearn/utils/validation.py:1143: DataConversionWarning: A column-vector y was passed when a 1d array was expected. Please change the shape of y to (n_samples, ), for example using ravel().\n",
            "  y = column_or_1d(y, warn=True)\n"
          ]
        },
        {
          "output_type": "execute_result",
          "data": {
            "text/plain": [
              "SVC(C=100, gamma=0.1)"
            ],
            "text/html": [
              "<style>#sk-container-id-6 {color: black;background-color: white;}#sk-container-id-6 pre{padding: 0;}#sk-container-id-6 div.sk-toggleable {background-color: white;}#sk-container-id-6 label.sk-toggleable__label {cursor: pointer;display: block;width: 100%;margin-bottom: 0;padding: 0.3em;box-sizing: border-box;text-align: center;}#sk-container-id-6 label.sk-toggleable__label-arrow:before {content: \"▸\";float: left;margin-right: 0.25em;color: #696969;}#sk-container-id-6 label.sk-toggleable__label-arrow:hover:before {color: black;}#sk-container-id-6 div.sk-estimator:hover label.sk-toggleable__label-arrow:before {color: black;}#sk-container-id-6 div.sk-toggleable__content {max-height: 0;max-width: 0;overflow: hidden;text-align: left;background-color: #f0f8ff;}#sk-container-id-6 div.sk-toggleable__content pre {margin: 0.2em;color: black;border-radius: 0.25em;background-color: #f0f8ff;}#sk-container-id-6 input.sk-toggleable__control:checked~div.sk-toggleable__content {max-height: 200px;max-width: 100%;overflow: auto;}#sk-container-id-6 input.sk-toggleable__control:checked~label.sk-toggleable__label-arrow:before {content: \"▾\";}#sk-container-id-6 div.sk-estimator input.sk-toggleable__control:checked~label.sk-toggleable__label {background-color: #d4ebff;}#sk-container-id-6 div.sk-label input.sk-toggleable__control:checked~label.sk-toggleable__label {background-color: #d4ebff;}#sk-container-id-6 input.sk-hidden--visually {border: 0;clip: rect(1px 1px 1px 1px);clip: rect(1px, 1px, 1px, 1px);height: 1px;margin: -1px;overflow: hidden;padding: 0;position: absolute;width: 1px;}#sk-container-id-6 div.sk-estimator {font-family: monospace;background-color: #f0f8ff;border: 1px dotted black;border-radius: 0.25em;box-sizing: border-box;margin-bottom: 0.5em;}#sk-container-id-6 div.sk-estimator:hover {background-color: #d4ebff;}#sk-container-id-6 div.sk-parallel-item::after {content: \"\";width: 100%;border-bottom: 1px solid gray;flex-grow: 1;}#sk-container-id-6 div.sk-label:hover label.sk-toggleable__label {background-color: #d4ebff;}#sk-container-id-6 div.sk-serial::before {content: \"\";position: absolute;border-left: 1px solid gray;box-sizing: border-box;top: 0;bottom: 0;left: 50%;z-index: 0;}#sk-container-id-6 div.sk-serial {display: flex;flex-direction: column;align-items: center;background-color: white;padding-right: 0.2em;padding-left: 0.2em;position: relative;}#sk-container-id-6 div.sk-item {position: relative;z-index: 1;}#sk-container-id-6 div.sk-parallel {display: flex;align-items: stretch;justify-content: center;background-color: white;position: relative;}#sk-container-id-6 div.sk-item::before, #sk-container-id-6 div.sk-parallel-item::before {content: \"\";position: absolute;border-left: 1px solid gray;box-sizing: border-box;top: 0;bottom: 0;left: 50%;z-index: -1;}#sk-container-id-6 div.sk-parallel-item {display: flex;flex-direction: column;z-index: 1;position: relative;background-color: white;}#sk-container-id-6 div.sk-parallel-item:first-child::after {align-self: flex-end;width: 50%;}#sk-container-id-6 div.sk-parallel-item:last-child::after {align-self: flex-start;width: 50%;}#sk-container-id-6 div.sk-parallel-item:only-child::after {width: 0;}#sk-container-id-6 div.sk-dashed-wrapped {border: 1px dashed gray;margin: 0 0.4em 0.5em 0.4em;box-sizing: border-box;padding-bottom: 0.4em;background-color: white;}#sk-container-id-6 div.sk-label label {font-family: monospace;font-weight: bold;display: inline-block;line-height: 1.2em;}#sk-container-id-6 div.sk-label-container {text-align: center;}#sk-container-id-6 div.sk-container {/* jupyter's `normalize.less` sets `[hidden] { display: none; }` but bootstrap.min.css set `[hidden] { display: none !important; }` so we also need the `!important` here to be able to override the default hidden behavior on the sphinx rendered scikit-learn.org. See: https://github.com/scikit-learn/scikit-learn/issues/21755 */display: inline-block !important;position: relative;}#sk-container-id-6 div.sk-text-repr-fallback {display: none;}</style><div id=\"sk-container-id-6\" class=\"sk-top-container\"><div class=\"sk-text-repr-fallback\"><pre>SVC(C=100, gamma=0.1)</pre><b>In a Jupyter environment, please rerun this cell to show the HTML representation or trust the notebook. <br />On GitHub, the HTML representation is unable to render, please try loading this page with nbviewer.org.</b></div><div class=\"sk-container\" hidden><div class=\"sk-item\"><div class=\"sk-estimator sk-toggleable\"><input class=\"sk-toggleable__control sk-hidden--visually\" id=\"sk-estimator-id-8\" type=\"checkbox\" checked><label for=\"sk-estimator-id-8\" class=\"sk-toggleable__label sk-toggleable__label-arrow\">SVC</label><div class=\"sk-toggleable__content\"><pre>SVC(C=100, gamma=0.1)</pre></div></div></div></div></div>"
            ]
          },
          "metadata": {},
          "execution_count": 89
        }
      ],
      "source": [
        "sv1.fit(x_bal,y_bal)"
      ]
    },
    {
      "cell_type": "code",
      "execution_count": 90,
      "metadata": {
        "id": "Vbu3YCJw0aSy"
      },
      "outputs": [],
      "source": [
        "y_pred= sv1.predict(x_test_bal)"
      ]
    },
    {
      "cell_type": "code",
      "execution_count": 91,
      "metadata": {
        "colab": {
          "base_uri": "https://localhost:8080/"
        },
        "id": "2qps7R6605r0",
        "outputId": "4be61e4d-ff32-48bb-82e4-f7d1695a25e0"
      },
      "outputs": [
        {
          "output_type": "stream",
          "name": "stdout",
          "text": [
            "              precision    recall  f1-score   support\n",
            "\n",
            "         0.0       0.74      0.75      0.75       122\n",
            "         1.0       0.77      0.87      0.82       122\n",
            "         2.0       0.97      0.91      0.94       122\n",
            "         3.0       0.73      0.67      0.70       122\n",
            "         4.0       0.66      0.72      0.69       122\n",
            "         5.0       0.71      0.70      0.71       122\n",
            "         6.0       0.57      0.52      0.54       122\n",
            "\n",
            "    accuracy                           0.74       854\n",
            "   macro avg       0.74      0.74      0.73       854\n",
            "weighted avg       0.74      0.74      0.73       854\n",
            "\n"
          ]
        }
      ],
      "source": [
        "print(classification_report(y_test_bal,y_pred))"
      ]
    },
    {
      "cell_type": "code",
      "execution_count": 92,
      "metadata": {
        "colab": {
          "base_uri": "https://localhost:8080/"
        },
        "id": "Q2Be1VTr1CNL",
        "outputId": "3421070b-dcc5-41da-8ccc-29a11bc4e20e"
      },
      "outputs": [
        {
          "output_type": "execute_result",
          "data": {
            "text/plain": [
              "0.8180163785259327"
            ]
          },
          "metadata": {},
          "execution_count": 92
        }
      ],
      "source": [
        "train_score= accuracy_score(y_bal,sv1.predict(x_bal))\n",
        "train_score"
      ]
    },
    {
      "cell_type": "code",
      "execution_count": 93,
      "metadata": {
        "id": "lKFql46w1iBO"
      },
      "outputs": [],
      "source": [
        "# saving the model\n",
        "import pickle\n",
        "pickle.dump(sv1,open('thyroid_1_model.pkl','wb'))"
      ]
    },
    {
      "cell_type": "code",
      "execution_count": 94,
      "metadata": {
        "colab": {
          "base_uri": "https://localhost:8080/"
        },
        "id": "QvREw3kp2ADb",
        "outputId": "a556d4d5-2d96-45b3-b438-8de04def7c6a"
      },
      "outputs": [
        {
          "output_type": "stream",
          "name": "stdout",
          "text": [
            "['hypothyroid conditions']\n"
          ]
        }
      ],
      "source": [
        "features = np.array([[0,0,0,0,0.000000,0.0,0.0,1.00,0.0,40.0]])\n",
        "print(label_encoder.inverse_transform(xgb1.predict(features)))"
      ]
    },
    {
      "cell_type": "code",
      "execution_count": 95,
      "metadata": {
        "id": "bUKd-Hf_2cJ0"
      },
      "outputs": [],
      "source": [
        "pickle.dump(label_encoder, open('label_encoder.pkl', 'wb'))\n"
      ]
    },
    {
      "cell_type": "code",
      "execution_count": 96,
      "metadata": {
        "colab": {
          "base_uri": "https://localhost:8080/"
        },
        "id": "mTA6zbIf1eF6",
        "outputId": "13e41dd8-d844-4db4-d9de-678ee4cebdec"
      },
      "outputs": [
        {
          "output_type": "execute_result",
          "data": {
            "text/plain": [
              "array(['miscellaneous', 'hypothyroid conditions', 'binding protein',\n",
              "       'replacement therapy', 'general health', 'hyperthyroid conditions',\n",
              "       'antithyroid treatment'], dtype=object)"
            ]
          },
          "metadata": {},
          "execution_count": 96
        }
      ],
      "source": [
        "data['target'].unique()"
      ]
    },
    {
      "cell_type": "code",
      "execution_count": 97,
      "metadata": {
        "colab": {
          "base_uri": "https://localhost:8080/"
        },
        "id": "Ltqe3hel2vsO",
        "outputId": "0adeb403-ce43-4900-f241-0d8f0011bc82"
      },
      "outputs": [
        {
          "output_type": "execute_result",
          "data": {
            "text/plain": [
              "array([5., 4., 1., 6., 2., 3., 0.])"
            ]
          },
          "metadata": {},
          "execution_count": 97
        }
      ],
      "source": [
        "y['target'].unique()"
      ]
    },
    {
      "cell_type": "code",
      "execution_count": 98,
      "metadata": {
        "id": "WZm7blxV23fV"
      },
      "outputs": [],
      "source": [
        "import pickle\n",
        "pickle.dump(sv1,open('throid_1_model.pkl','wb'))"
      ]
    }
  ],
  "metadata": {
    "colab": {
      "provenance": [],
      "toc_visible": true
    },
    "kernelspec": {
      "display_name": "Python 3",
      "name": "python3"
    },
    "language_info": {
      "name": "python"
    }
  },
  "nbformat": 4,
  "nbformat_minor": 0
}